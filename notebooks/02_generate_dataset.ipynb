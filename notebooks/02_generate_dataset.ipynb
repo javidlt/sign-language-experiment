{
 "cells": [
  {
   "cell_type": "markdown",
   "metadata": {},
   "source": [
    "## Generate dataset with access to video links for experiment with llms\n",
    "- Link to dataset: https://www.sign-lang.uni-hamburg.de/meinedgs_r4/ling/start-id_de.html\n",
    "- Link to onlyne query handler for dataset: https://dock.fdm.uni-hamburg.de/meinedgs/"
   ]
  },
  {
   "cell_type": "markdown",
   "metadata": {},
   "source": [
    "- **If running in google colab install required dependencies**"
   ]
  },
  {
   "cell_type": "code",
   "execution_count": null,
   "metadata": {},
   "outputs": [],
   "source": [
    "!pip install pandas beautifulsoup4 requests"
   ]
  },
  {
   "cell_type": "markdown",
   "metadata": {},
   "source": [
    "- Import required libraries"
   ]
  },
  {
   "cell_type": "code",
   "execution_count": 76,
   "metadata": {},
   "outputs": [],
   "source": [
    "import pandas as pd\n",
    "from bs4 import BeautifulSoup\n",
    "import requests\n",
    "import os"
   ]
  },
  {
   "cell_type": "code",
   "execution_count": 64,
   "metadata": {},
   "outputs": [],
   "source": [
    "import requests\n",
    "from bs4 import BeautifulSoup\n",
    "import pandas as pd\n",
    "\n",
    "# URL of the website\n",
    "url = \"https://www.sign-lang.uni-hamburg.de/meinedgs_r4/ling/start-id_de.html\"\n",
    "\n",
    "# Send a GET request to the URL\n",
    "response = requests.get(url)\n",
    "\n",
    "# Create a BeautifulSoup object to parse the HTML content\n",
    "soup = BeautifulSoup(response.content, 'html.parser')\n",
    "\n",
    "# Find the table in the HTML\n",
    "table = soup.find('table')\n",
    "\n",
    "# Extract table headers\n",
    "headers = [th.text.strip() for th in table.find_all('th')]\n",
    "\n",
    "# Extract table data\n",
    "data = []\n",
    "ids = []\n",
    "for row in table.find_all('tr')[1:]:\n",
    "    row_data = []\n",
    "    for i, td in enumerate(row.find_all('td')):\n",
    "        # Check if the <td> contains a link\n",
    "        link = td.find('a')\n",
    "        if link:\n",
    "            if i == 0:  # This is the ID column\n",
    "                id_text = td.text.strip()\n",
    "                ids.append(id_text)\n",
    "            href = link.get('href')\n",
    "            # Replace '../' with the base URL\n",
    "            full_url = href.replace('../', 'https://www.sign-lang.uni-hamburg.de/meinedgs_r4/')\n",
    "            row_data.append(full_url)\n",
    "        else:\n",
    "            row_data.append(td.text.strip())\n",
    "    data.append(row_data)\n",
    "\n",
    "# Create a pandas DataFrame\n",
    "df = pd.DataFrame(data, columns=headers)\n",
    "df.columns = [x.lower().replace(' ', '_') for x in df.columns]\n",
    "\n",
    "# Add the 'id' column at the beginning of the DataFrame\n",
    "df.insert(0, 'id', ids)\n"
   ]
  },
  {
   "cell_type": "markdown",
   "metadata": {},
   "source": [
    "- **Webscrape website with links to videos**"
   ]
  },
  {
   "cell_type": "code",
   "execution_count": 67,
   "metadata": {},
   "outputs": [
    {
     "data": {
      "text/html": [
       "<div>\n",
       "<style scoped>\n",
       "    .dataframe tbody tr th:only-of-type {\n",
       "        vertical-align: middle;\n",
       "    }\n",
       "\n",
       "    .dataframe tbody tr th {\n",
       "        vertical-align: top;\n",
       "    }\n",
       "\n",
       "    .dataframe thead th {\n",
       "        text-align: right;\n",
       "    }\n",
       "</style>\n",
       "<table border=\"1\" class=\"dataframe\">\n",
       "  <thead>\n",
       "    <tr style=\"text-align: right;\">\n",
       "      <th></th>\n",
       "      <th>id</th>\n",
       "      <th>transkript</th>\n",
       "      <th>paar</th>\n",
       "      <th>alter_&amp;geschl.</th>\n",
       "      <th>format</th>\n",
       "      <th>themen</th>\n",
       "      <th>anno</th>\n",
       "      <th>ilex</th>\n",
       "      <th>elan</th>\n",
       "      <th>video_a</th>\n",
       "      <th>video_b</th>\n",
       "      <th>video_totale</th>\n",
       "      <th>srt</th>\n",
       "      <th>video_ab</th>\n",
       "      <th>cmdi</th>\n",
       "      <th>pose</th>\n",
       "    </tr>\n",
       "  </thead>\n",
       "  <tbody>\n",
       "    <tr>\n",
       "      <th>0</th>\n",
       "      <td>1176340</td>\n",
       "      <td>https://www.sign-lang.uni-hamburg.de/meinedgs_...</td>\n",
       "      <td>sh02</td>\n",
       "      <td>18-30w</td>\n",
       "      <td>https://www.sign-lang.uni-hamburg.de/meinedgs_...</td>\n",
       "      <td>https://www.sign-lang.uni-hamburg.de/meinedgs_...</td>\n",
       "      <td>⁝</td>\n",
       "      <td>https://www.sign-lang.uni-hamburg.de/meinedgs_...</td>\n",
       "      <td>https://www.sign-lang.uni-hamburg.de/meinedgs_...</td>\n",
       "      <td>https://www.sign-lang.uni-hamburg.de/meinedgs_...</td>\n",
       "      <td>https://www.sign-lang.uni-hamburg.de/meinedgs_...</td>\n",
       "      <td>https://www.sign-lang.uni-hamburg.de/meinedgs_...</td>\n",
       "      <td>https://www.sign-lang.uni-hamburg.de/meinedgs_...</td>\n",
       "      <td>https://www.sign-lang.uni-hamburg.de/meinedgs_...</td>\n",
       "      <td>https://www.sign-lang.uni-hamburg.de/meinedgs_...</td>\n",
       "      <td>https://www.sign-lang.uni-hamburg.de/meinedgs_...</td>\n",
       "    </tr>\n",
       "    <tr>\n",
       "      <th>1</th>\n",
       "      <td>1176407</td>\n",
       "      <td>https://www.sign-lang.uni-hamburg.de/meinedgs_...</td>\n",
       "      <td>sh02</td>\n",
       "      <td>18-30w</td>\n",
       "      <td>https://www.sign-lang.uni-hamburg.de/meinedgs_...</td>\n",
       "      <td>https://www.sign-lang.uni-hamburg.de/meinedgs_...</td>\n",
       "      <td>⁝</td>\n",
       "      <td>https://www.sign-lang.uni-hamburg.de/meinedgs_...</td>\n",
       "      <td>https://www.sign-lang.uni-hamburg.de/meinedgs_...</td>\n",
       "      <td>https://www.sign-lang.uni-hamburg.de/meinedgs_...</td>\n",
       "      <td>https://www.sign-lang.uni-hamburg.de/meinedgs_...</td>\n",
       "      <td>https://www.sign-lang.uni-hamburg.de/meinedgs_...</td>\n",
       "      <td>https://www.sign-lang.uni-hamburg.de/meinedgs_...</td>\n",
       "      <td>https://www.sign-lang.uni-hamburg.de/meinedgs_...</td>\n",
       "      <td>https://www.sign-lang.uni-hamburg.de/meinedgs_...</td>\n",
       "      <td>https://www.sign-lang.uni-hamburg.de/meinedgs_...</td>\n",
       "    </tr>\n",
       "    <tr>\n",
       "      <th>2</th>\n",
       "      <td>1176410</td>\n",
       "      <td>https://www.sign-lang.uni-hamburg.de/meinedgs_...</td>\n",
       "      <td>sh02</td>\n",
       "      <td>18-30w</td>\n",
       "      <td>https://www.sign-lang.uni-hamburg.de/meinedgs_...</td>\n",
       "      <td>https://www.sign-lang.uni-hamburg.de/meinedgs_...</td>\n",
       "      <td>᛬</td>\n",
       "      <td>https://www.sign-lang.uni-hamburg.de/meinedgs_...</td>\n",
       "      <td>https://www.sign-lang.uni-hamburg.de/meinedgs_...</td>\n",
       "      <td>https://www.sign-lang.uni-hamburg.de/meinedgs_...</td>\n",
       "      <td>https://www.sign-lang.uni-hamburg.de/meinedgs_...</td>\n",
       "      <td>https://www.sign-lang.uni-hamburg.de/meinedgs_...</td>\n",
       "      <td>https://www.sign-lang.uni-hamburg.de/meinedgs_...</td>\n",
       "      <td>https://www.sign-lang.uni-hamburg.de/meinedgs_...</td>\n",
       "      <td>https://www.sign-lang.uni-hamburg.de/meinedgs_...</td>\n",
       "      <td>https://www.sign-lang.uni-hamburg.de/meinedgs_...</td>\n",
       "    </tr>\n",
       "    <tr>\n",
       "      <th>3</th>\n",
       "      <td>1176549</td>\n",
       "      <td>https://www.sign-lang.uni-hamburg.de/meinedgs_...</td>\n",
       "      <td>hh01</td>\n",
       "      <td>61+m</td>\n",
       "      <td>https://www.sign-lang.uni-hamburg.de/meinedgs_...</td>\n",
       "      <td>https://www.sign-lang.uni-hamburg.de/meinedgs_...</td>\n",
       "      <td>᛫</td>\n",
       "      <td>https://www.sign-lang.uni-hamburg.de/meinedgs_...</td>\n",
       "      <td>https://www.sign-lang.uni-hamburg.de/meinedgs_...</td>\n",
       "      <td>https://www.sign-lang.uni-hamburg.de/meinedgs_...</td>\n",
       "      <td></td>\n",
       "      <td>https://www.sign-lang.uni-hamburg.de/meinedgs_...</td>\n",
       "      <td></td>\n",
       "      <td>https://www.sign-lang.uni-hamburg.de/meinedgs_...</td>\n",
       "      <td>https://www.sign-lang.uni-hamburg.de/meinedgs_...</td>\n",
       "      <td>https://www.sign-lang.uni-hamburg.de/meinedgs_...</td>\n",
       "    </tr>\n",
       "    <tr>\n",
       "      <th>4</th>\n",
       "      <td>1176566</td>\n",
       "      <td>https://www.sign-lang.uni-hamburg.de/meinedgs_...</td>\n",
       "      <td>hh01</td>\n",
       "      <td>61+m</td>\n",
       "      <td>https://www.sign-lang.uni-hamburg.de/meinedgs_...</td>\n",
       "      <td>https://www.sign-lang.uni-hamburg.de/meinedgs_...</td>\n",
       "      <td>⁝</td>\n",
       "      <td>https://www.sign-lang.uni-hamburg.de/meinedgs_...</td>\n",
       "      <td>https://www.sign-lang.uni-hamburg.de/meinedgs_...</td>\n",
       "      <td>https://www.sign-lang.uni-hamburg.de/meinedgs_...</td>\n",
       "      <td>https://www.sign-lang.uni-hamburg.de/meinedgs_...</td>\n",
       "      <td>https://www.sign-lang.uni-hamburg.de/meinedgs_...</td>\n",
       "      <td>https://www.sign-lang.uni-hamburg.de/meinedgs_...</td>\n",
       "      <td>https://www.sign-lang.uni-hamburg.de/meinedgs_...</td>\n",
       "      <td>https://www.sign-lang.uni-hamburg.de/meinedgs_...</td>\n",
       "      <td>https://www.sign-lang.uni-hamburg.de/meinedgs_...</td>\n",
       "    </tr>\n",
       "  </tbody>\n",
       "</table>\n",
       "</div>"
      ],
      "text/plain": [
       "        id                                         transkript  paar  \\\n",
       "0  1176340  https://www.sign-lang.uni-hamburg.de/meinedgs_...  sh02   \n",
       "1  1176407  https://www.sign-lang.uni-hamburg.de/meinedgs_...  sh02   \n",
       "2  1176410  https://www.sign-lang.uni-hamburg.de/meinedgs_...  sh02   \n",
       "3  1176549  https://www.sign-lang.uni-hamburg.de/meinedgs_...  hh01   \n",
       "4  1176566  https://www.sign-lang.uni-hamburg.de/meinedgs_...  hh01   \n",
       "\n",
       "  alter_&geschl.                                             format  \\\n",
       "0         18-30w  https://www.sign-lang.uni-hamburg.de/meinedgs_...   \n",
       "1         18-30w  https://www.sign-lang.uni-hamburg.de/meinedgs_...   \n",
       "2         18-30w  https://www.sign-lang.uni-hamburg.de/meinedgs_...   \n",
       "3           61+m  https://www.sign-lang.uni-hamburg.de/meinedgs_...   \n",
       "4           61+m  https://www.sign-lang.uni-hamburg.de/meinedgs_...   \n",
       "\n",
       "                                              themen anno  \\\n",
       "0  https://www.sign-lang.uni-hamburg.de/meinedgs_...    ⁝   \n",
       "1  https://www.sign-lang.uni-hamburg.de/meinedgs_...    ⁝   \n",
       "2  https://www.sign-lang.uni-hamburg.de/meinedgs_...    ᛬   \n",
       "3  https://www.sign-lang.uni-hamburg.de/meinedgs_...    ᛫   \n",
       "4  https://www.sign-lang.uni-hamburg.de/meinedgs_...    ⁝   \n",
       "\n",
       "                                                ilex  \\\n",
       "0  https://www.sign-lang.uni-hamburg.de/meinedgs_...   \n",
       "1  https://www.sign-lang.uni-hamburg.de/meinedgs_...   \n",
       "2  https://www.sign-lang.uni-hamburg.de/meinedgs_...   \n",
       "3  https://www.sign-lang.uni-hamburg.de/meinedgs_...   \n",
       "4  https://www.sign-lang.uni-hamburg.de/meinedgs_...   \n",
       "\n",
       "                                                elan  \\\n",
       "0  https://www.sign-lang.uni-hamburg.de/meinedgs_...   \n",
       "1  https://www.sign-lang.uni-hamburg.de/meinedgs_...   \n",
       "2  https://www.sign-lang.uni-hamburg.de/meinedgs_...   \n",
       "3  https://www.sign-lang.uni-hamburg.de/meinedgs_...   \n",
       "4  https://www.sign-lang.uni-hamburg.de/meinedgs_...   \n",
       "\n",
       "                                             video_a  \\\n",
       "0  https://www.sign-lang.uni-hamburg.de/meinedgs_...   \n",
       "1  https://www.sign-lang.uni-hamburg.de/meinedgs_...   \n",
       "2  https://www.sign-lang.uni-hamburg.de/meinedgs_...   \n",
       "3  https://www.sign-lang.uni-hamburg.de/meinedgs_...   \n",
       "4  https://www.sign-lang.uni-hamburg.de/meinedgs_...   \n",
       "\n",
       "                                             video_b  \\\n",
       "0  https://www.sign-lang.uni-hamburg.de/meinedgs_...   \n",
       "1  https://www.sign-lang.uni-hamburg.de/meinedgs_...   \n",
       "2  https://www.sign-lang.uni-hamburg.de/meinedgs_...   \n",
       "3                                                      \n",
       "4  https://www.sign-lang.uni-hamburg.de/meinedgs_...   \n",
       "\n",
       "                                        video_totale  \\\n",
       "0  https://www.sign-lang.uni-hamburg.de/meinedgs_...   \n",
       "1  https://www.sign-lang.uni-hamburg.de/meinedgs_...   \n",
       "2  https://www.sign-lang.uni-hamburg.de/meinedgs_...   \n",
       "3  https://www.sign-lang.uni-hamburg.de/meinedgs_...   \n",
       "4  https://www.sign-lang.uni-hamburg.de/meinedgs_...   \n",
       "\n",
       "                                                 srt  \\\n",
       "0  https://www.sign-lang.uni-hamburg.de/meinedgs_...   \n",
       "1  https://www.sign-lang.uni-hamburg.de/meinedgs_...   \n",
       "2  https://www.sign-lang.uni-hamburg.de/meinedgs_...   \n",
       "3                                                      \n",
       "4  https://www.sign-lang.uni-hamburg.de/meinedgs_...   \n",
       "\n",
       "                                            video_ab  \\\n",
       "0  https://www.sign-lang.uni-hamburg.de/meinedgs_...   \n",
       "1  https://www.sign-lang.uni-hamburg.de/meinedgs_...   \n",
       "2  https://www.sign-lang.uni-hamburg.de/meinedgs_...   \n",
       "3  https://www.sign-lang.uni-hamburg.de/meinedgs_...   \n",
       "4  https://www.sign-lang.uni-hamburg.de/meinedgs_...   \n",
       "\n",
       "                                                cmdi  \\\n",
       "0  https://www.sign-lang.uni-hamburg.de/meinedgs_...   \n",
       "1  https://www.sign-lang.uni-hamburg.de/meinedgs_...   \n",
       "2  https://www.sign-lang.uni-hamburg.de/meinedgs_...   \n",
       "3  https://www.sign-lang.uni-hamburg.de/meinedgs_...   \n",
       "4  https://www.sign-lang.uni-hamburg.de/meinedgs_...   \n",
       "\n",
       "                                                pose  \n",
       "0  https://www.sign-lang.uni-hamburg.de/meinedgs_...  \n",
       "1  https://www.sign-lang.uni-hamburg.de/meinedgs_...  \n",
       "2  https://www.sign-lang.uni-hamburg.de/meinedgs_...  \n",
       "3  https://www.sign-lang.uni-hamburg.de/meinedgs_...  \n",
       "4  https://www.sign-lang.uni-hamburg.de/meinedgs_...  "
      ]
     },
     "execution_count": 67,
     "metadata": {},
     "output_type": "execute_result"
    }
   ],
   "source": [
    "df.head()"
   ]
  },
  {
   "cell_type": "markdown",
   "metadata": {},
   "source": [
    "- **How many videos are there**"
   ]
  },
  {
   "cell_type": "code",
   "execution_count": 66,
   "metadata": {},
   "outputs": [
    {
     "data": {
      "text/plain": [
       "(429, 16)"
      ]
     },
     "execution_count": 66,
     "metadata": {},
     "output_type": "execute_result"
    }
   ],
   "source": [
    "df.shape"
   ]
  },
  {
   "cell_type": "markdown",
   "metadata": {},
   "source": [
    "- **Go to each transcript and scrape it. Add it to transcripts_df and add the url for videos as video_url column**"
   ]
  },
  {
   "cell_type": "code",
   "execution_count": 90,
   "metadata": {},
   "outputs": [
    {
     "name": "stderr",
     "output_type": "stream",
     "text": [
      "C:\\Users\\javie\\AppData\\Local\\Temp\\ipykernel_11860\\421169734.py:32: FutureWarning: Passing literal html to 'read_html' is deprecated and will be removed in a future version. To read from a literal string, wrap it in a 'StringIO' object.\n",
      "  df_table = pd.read_html(str(table), header=0)[0]\n"
     ]
    },
    {
     "name": "stdout",
     "output_type": "stream",
     "text": [
      "Saved HTML to data\\1176340\\transcript_1176340.html\n",
      "Saved DataFrame to data\\1176340\\transcript_1176340.csv\n"
     ]
    },
    {
     "name": "stderr",
     "output_type": "stream",
     "text": [
      "C:\\Users\\javie\\AppData\\Local\\Temp\\ipykernel_11860\\421169734.py:32: FutureWarning: Passing literal html to 'read_html' is deprecated and will be removed in a future version. To read from a literal string, wrap it in a 'StringIO' object.\n",
      "  df_table = pd.read_html(str(table), header=0)[0]\n"
     ]
    },
    {
     "name": "stdout",
     "output_type": "stream",
     "text": [
      "Saved HTML to data\\1176407\\transcript_1176407.html\n",
      "Saved DataFrame to data\\1176407\\transcript_1176407.csv\n",
      "Saved HTML to data\\1176410\\transcript_1176410.html\n",
      "Saved DataFrame to data\\1176410\\transcript_1176410.csv\n"
     ]
    },
    {
     "name": "stderr",
     "output_type": "stream",
     "text": [
      "C:\\Users\\javie\\AppData\\Local\\Temp\\ipykernel_11860\\421169734.py:32: FutureWarning: Passing literal html to 'read_html' is deprecated and will be removed in a future version. To read from a literal string, wrap it in a 'StringIO' object.\n",
      "  df_table = pd.read_html(str(table), header=0)[0]\n",
      "C:\\Users\\javie\\AppData\\Local\\Temp\\ipykernel_11860\\421169734.py:32: FutureWarning: Passing literal html to 'read_html' is deprecated and will be removed in a future version. To read from a literal string, wrap it in a 'StringIO' object.\n",
      "  df_table = pd.read_html(str(table), header=0)[0]\n"
     ]
    },
    {
     "name": "stdout",
     "output_type": "stream",
     "text": [
      "Saved HTML to data\\1176549\\transcript_1176549.html\n",
      "Saved DataFrame to data\\1176549\\transcript_1176549.csv\n"
     ]
    },
    {
     "name": "stderr",
     "output_type": "stream",
     "text": [
      "C:\\Users\\javie\\AppData\\Local\\Temp\\ipykernel_11860\\421169734.py:32: FutureWarning: Passing literal html to 'read_html' is deprecated and will be removed in a future version. To read from a literal string, wrap it in a 'StringIO' object.\n",
      "  df_table = pd.read_html(str(table), header=0)[0]\n"
     ]
    },
    {
     "name": "stdout",
     "output_type": "stream",
     "text": [
      "Saved HTML to data\\1176566\\transcript_1176566.html\n",
      "Saved DataFrame to data\\1176566\\transcript_1176566.csv\n"
     ]
    },
    {
     "name": "stderr",
     "output_type": "stream",
     "text": [
      "C:\\Users\\javie\\AppData\\Local\\Temp\\ipykernel_11860\\421169734.py:32: FutureWarning: Passing literal html to 'read_html' is deprecated and will be removed in a future version. To read from a literal string, wrap it in a 'StringIO' object.\n",
      "  df_table = pd.read_html(str(table), header=0)[0]\n"
     ]
    },
    {
     "name": "stdout",
     "output_type": "stream",
     "text": [
      "Saved HTML to data\\1176624\\transcript_1176624.html\n",
      "Saved DataFrame to data\\1176624\\transcript_1176624.csv\n"
     ]
    },
    {
     "name": "stderr",
     "output_type": "stream",
     "text": [
      "C:\\Users\\javie\\AppData\\Local\\Temp\\ipykernel_11860\\421169734.py:32: FutureWarning: Passing literal html to 'read_html' is deprecated and will be removed in a future version. To read from a literal string, wrap it in a 'StringIO' object.\n",
      "  df_table = pd.read_html(str(table), header=0)[0]\n"
     ]
    },
    {
     "name": "stdout",
     "output_type": "stream",
     "text": [
      "Saved HTML to data\\1176846\\transcript_1176846.html\n",
      "Saved DataFrame to data\\1176846\\transcript_1176846.csv\n"
     ]
    },
    {
     "name": "stderr",
     "output_type": "stream",
     "text": [
      "C:\\Users\\javie\\AppData\\Local\\Temp\\ipykernel_11860\\421169734.py:32: FutureWarning: Passing literal html to 'read_html' is deprecated and will be removed in a future version. To read from a literal string, wrap it in a 'StringIO' object.\n",
      "  df_table = pd.read_html(str(table), header=0)[0]\n"
     ]
    },
    {
     "name": "stdout",
     "output_type": "stream",
     "text": [
      "Saved HTML to data\\1177002\\transcript_1177002.html\n",
      "Saved DataFrame to data\\1177002\\transcript_1177002.csv\n"
     ]
    },
    {
     "name": "stderr",
     "output_type": "stream",
     "text": [
      "C:\\Users\\javie\\AppData\\Local\\Temp\\ipykernel_11860\\421169734.py:32: FutureWarning: Passing literal html to 'read_html' is deprecated and will be removed in a future version. To read from a literal string, wrap it in a 'StringIO' object.\n",
      "  df_table = pd.read_html(str(table), header=0)[0]\n"
     ]
    },
    {
     "name": "stdout",
     "output_type": "stream",
     "text": [
      "Saved HTML to data\\1177054\\transcript_1177054.html\n",
      "Saved DataFrame to data\\1177054\\transcript_1177054.csv\n",
      "Saved HTML to data\\1177202\\transcript_1177202.html\n",
      "Saved DataFrame to data\\1177202\\transcript_1177202.csv\n"
     ]
    },
    {
     "name": "stderr",
     "output_type": "stream",
     "text": [
      "C:\\Users\\javie\\AppData\\Local\\Temp\\ipykernel_11860\\421169734.py:32: FutureWarning: Passing literal html to 'read_html' is deprecated and will be removed in a future version. To read from a literal string, wrap it in a 'StringIO' object.\n",
      "  df_table = pd.read_html(str(table), header=0)[0]\n",
      "C:\\Users\\javie\\AppData\\Local\\Temp\\ipykernel_11860\\421169734.py:32: FutureWarning: Passing literal html to 'read_html' is deprecated and will be removed in a future version. To read from a literal string, wrap it in a 'StringIO' object.\n",
      "  df_table = pd.read_html(str(table), header=0)[0]\n"
     ]
    },
    {
     "name": "stdout",
     "output_type": "stream",
     "text": [
      "Saved HTML to data\\1177266\\transcript_1177266.html\n",
      "Saved DataFrame to data\\1177266\\transcript_1177266.csv\n"
     ]
    },
    {
     "name": "stderr",
     "output_type": "stream",
     "text": [
      "C:\\Users\\javie\\AppData\\Local\\Temp\\ipykernel_11860\\421169734.py:32: FutureWarning: Passing literal html to 'read_html' is deprecated and will be removed in a future version. To read from a literal string, wrap it in a 'StringIO' object.\n",
      "  df_table = pd.read_html(str(table), header=0)[0]\n"
     ]
    },
    {
     "name": "stdout",
     "output_type": "stream",
     "text": [
      "Saved HTML to data\\1177275\\transcript_1177275.html\n",
      "Saved DataFrame to data\\1177275\\transcript_1177275.csv\n"
     ]
    },
    {
     "name": "stderr",
     "output_type": "stream",
     "text": [
      "C:\\Users\\javie\\AppData\\Local\\Temp\\ipykernel_11860\\421169734.py:32: FutureWarning: Passing literal html to 'read_html' is deprecated and will be removed in a future version. To read from a literal string, wrap it in a 'StringIO' object.\n",
      "  df_table = pd.read_html(str(table), header=0)[0]\n"
     ]
    },
    {
     "name": "stdout",
     "output_type": "stream",
     "text": [
      "Saved HTML to data\\1177278\\transcript_1177278.html\n",
      "Saved DataFrame to data\\1177278\\transcript_1177278.csv\n"
     ]
    },
    {
     "name": "stderr",
     "output_type": "stream",
     "text": [
      "C:\\Users\\javie\\AppData\\Local\\Temp\\ipykernel_11860\\421169734.py:32: FutureWarning: Passing literal html to 'read_html' is deprecated and will be removed in a future version. To read from a literal string, wrap it in a 'StringIO' object.\n",
      "  df_table = pd.read_html(str(table), header=0)[0]\n"
     ]
    },
    {
     "name": "stdout",
     "output_type": "stream",
     "text": [
      "Saved HTML to data\\1177292\\transcript_1177292.html\n",
      "Saved DataFrame to data\\1177292\\transcript_1177292.csv\n"
     ]
    },
    {
     "name": "stderr",
     "output_type": "stream",
     "text": [
      "C:\\Users\\javie\\AppData\\Local\\Temp\\ipykernel_11860\\421169734.py:32: FutureWarning: Passing literal html to 'read_html' is deprecated and will be removed in a future version. To read from a literal string, wrap it in a 'StringIO' object.\n",
      "  df_table = pd.read_html(str(table), header=0)[0]\n"
     ]
    },
    {
     "name": "stdout",
     "output_type": "stream",
     "text": [
      "Saved HTML to data\\1177436\\transcript_1177436.html\n",
      "Saved DataFrame to data\\1177436\\transcript_1177436.csv\n"
     ]
    },
    {
     "name": "stderr",
     "output_type": "stream",
     "text": [
      "C:\\Users\\javie\\AppData\\Local\\Temp\\ipykernel_11860\\421169734.py:32: FutureWarning: Passing literal html to 'read_html' is deprecated and will be removed in a future version. To read from a literal string, wrap it in a 'StringIO' object.\n",
      "  df_table = pd.read_html(str(table), header=0)[0]\n",
      "C:\\Users\\javie\\AppData\\Local\\Temp\\ipykernel_11860\\421169734.py:32: FutureWarning: Passing literal html to 'read_html' is deprecated and will be removed in a future version. To read from a literal string, wrap it in a 'StringIO' object.\n",
      "  df_table = pd.read_html(str(table), header=0)[0]\n"
     ]
    },
    {
     "name": "stdout",
     "output_type": "stream",
     "text": [
      "Saved HTML to data\\1177636\\transcript_1177636.html\n",
      "Saved DataFrame to data\\1177636\\transcript_1177636.csv\n",
      "Saved HTML to data\\1177637\\transcript_1177637.html\n",
      "Saved DataFrame to data\\1177637\\transcript_1177637.csv\n"
     ]
    },
    {
     "name": "stderr",
     "output_type": "stream",
     "text": [
      "C:\\Users\\javie\\AppData\\Local\\Temp\\ipykernel_11860\\421169734.py:32: FutureWarning: Passing literal html to 'read_html' is deprecated and will be removed in a future version. To read from a literal string, wrap it in a 'StringIO' object.\n",
      "  df_table = pd.read_html(str(table), header=0)[0]\n"
     ]
    },
    {
     "name": "stdout",
     "output_type": "stream",
     "text": [
      "Saved HTML to data\\1177640\\transcript_1177640.html\n",
      "Saved DataFrame to data\\1177640\\transcript_1177640.csv\n"
     ]
    },
    {
     "name": "stderr",
     "output_type": "stream",
     "text": [
      "C:\\Users\\javie\\AppData\\Local\\Temp\\ipykernel_11860\\421169734.py:32: FutureWarning: Passing literal html to 'read_html' is deprecated and will be removed in a future version. To read from a literal string, wrap it in a 'StringIO' object.\n",
      "  df_table = pd.read_html(str(table), header=0)[0]\n"
     ]
    },
    {
     "name": "stdout",
     "output_type": "stream",
     "text": [
      "Saved HTML to data\\1177697\\transcript_1177697.html\n",
      "Saved DataFrame to data\\1177697\\transcript_1177697.csv\n"
     ]
    },
    {
     "name": "stderr",
     "output_type": "stream",
     "text": [
      "C:\\Users\\javie\\AppData\\Local\\Temp\\ipykernel_11860\\421169734.py:32: FutureWarning: Passing literal html to 'read_html' is deprecated and will be removed in a future version. To read from a literal string, wrap it in a 'StringIO' object.\n",
      "  df_table = pd.read_html(str(table), header=0)[0]\n"
     ]
    },
    {
     "name": "stdout",
     "output_type": "stream",
     "text": [
      "Saved HTML to data\\1177702\\transcript_1177702.html\n",
      "Saved DataFrame to data\\1177702\\transcript_1177702.csv\n"
     ]
    },
    {
     "name": "stderr",
     "output_type": "stream",
     "text": [
      "C:\\Users\\javie\\AppData\\Local\\Temp\\ipykernel_11860\\421169734.py:32: FutureWarning: Passing literal html to 'read_html' is deprecated and will be removed in a future version. To read from a literal string, wrap it in a 'StringIO' object.\n",
      "  df_table = pd.read_html(str(table), header=0)[0]\n"
     ]
    },
    {
     "name": "stdout",
     "output_type": "stream",
     "text": [
      "Saved HTML to data\\1177704-…\\transcript_1177704-….html\n",
      "Saved DataFrame to data\\1177704-…\\transcript_1177704-….csv\n"
     ]
    },
    {
     "name": "stderr",
     "output_type": "stream",
     "text": [
      "C:\\Users\\javie\\AppData\\Local\\Temp\\ipykernel_11860\\421169734.py:32: FutureWarning: Passing literal html to 'read_html' is deprecated and will be removed in a future version. To read from a literal string, wrap it in a 'StringIO' object.\n",
      "  df_table = pd.read_html(str(table), header=0)[0]\n"
     ]
    },
    {
     "name": "stdout",
     "output_type": "stream",
     "text": [
      "Saved HTML to data\\1177860\\transcript_1177860.html\n",
      "Saved DataFrame to data\\1177860\\transcript_1177860.csv\n"
     ]
    },
    {
     "name": "stderr",
     "output_type": "stream",
     "text": [
      "C:\\Users\\javie\\AppData\\Local\\Temp\\ipykernel_11860\\421169734.py:32: FutureWarning: Passing literal html to 'read_html' is deprecated and will be removed in a future version. To read from a literal string, wrap it in a 'StringIO' object.\n",
      "  df_table = pd.read_html(str(table), header=0)[0]\n"
     ]
    },
    {
     "name": "stdout",
     "output_type": "stream",
     "text": [
      "Saved HTML to data\\1177918\\transcript_1177918.html\n",
      "Saved DataFrame to data\\1177918\\transcript_1177918.csv\n"
     ]
    },
    {
     "name": "stderr",
     "output_type": "stream",
     "text": [
      "C:\\Users\\javie\\AppData\\Local\\Temp\\ipykernel_11860\\421169734.py:32: FutureWarning: Passing literal html to 'read_html' is deprecated and will be removed in a future version. To read from a literal string, wrap it in a 'StringIO' object.\n",
      "  df_table = pd.read_html(str(table), header=0)[0]\n"
     ]
    },
    {
     "name": "stdout",
     "output_type": "stream",
     "text": [
      "Saved HTML to data\\1178133\\transcript_1178133.html\n",
      "Saved DataFrame to data\\1178133\\transcript_1178133.csv\n"
     ]
    },
    {
     "name": "stderr",
     "output_type": "stream",
     "text": [
      "C:\\Users\\javie\\AppData\\Local\\Temp\\ipykernel_11860\\421169734.py:32: FutureWarning: Passing literal html to 'read_html' is deprecated and will be removed in a future version. To read from a literal string, wrap it in a 'StringIO' object.\n",
      "  df_table = pd.read_html(str(table), header=0)[0]\n"
     ]
    },
    {
     "name": "stdout",
     "output_type": "stream",
     "text": [
      "Saved HTML to data\\1178147\\transcript_1178147.html\n",
      "Saved DataFrame to data\\1178147\\transcript_1178147.csv\n"
     ]
    },
    {
     "name": "stderr",
     "output_type": "stream",
     "text": [
      "C:\\Users\\javie\\AppData\\Local\\Temp\\ipykernel_11860\\421169734.py:32: FutureWarning: Passing literal html to 'read_html' is deprecated and will be removed in a future version. To read from a literal string, wrap it in a 'StringIO' object.\n",
      "  df_table = pd.read_html(str(table), header=0)[0]\n"
     ]
    },
    {
     "name": "stdout",
     "output_type": "stream",
     "text": [
      "Saved HTML to data\\1178347\\transcript_1178347.html\n",
      "Saved DataFrame to data\\1178347\\transcript_1178347.csv\n"
     ]
    },
    {
     "name": "stderr",
     "output_type": "stream",
     "text": [
      "C:\\Users\\javie\\AppData\\Local\\Temp\\ipykernel_11860\\421169734.py:32: FutureWarning: Passing literal html to 'read_html' is deprecated and will be removed in a future version. To read from a literal string, wrap it in a 'StringIO' object.\n",
      "  df_table = pd.read_html(str(table), header=0)[0]\n"
     ]
    },
    {
     "name": "stdout",
     "output_type": "stream",
     "text": [
      "Saved HTML to data\\1178364\\transcript_1178364.html\n",
      "Saved DataFrame to data\\1178364\\transcript_1178364.csv\n"
     ]
    },
    {
     "name": "stderr",
     "output_type": "stream",
     "text": [
      "C:\\Users\\javie\\AppData\\Local\\Temp\\ipykernel_11860\\421169734.py:32: FutureWarning: Passing literal html to 'read_html' is deprecated and will be removed in a future version. To read from a literal string, wrap it in a 'StringIO' object.\n",
      "  df_table = pd.read_html(str(table), header=0)[0]\n"
     ]
    },
    {
     "name": "stdout",
     "output_type": "stream",
     "text": [
      "Saved HTML to data\\1178754\\transcript_1178754.html\n",
      "Saved DataFrame to data\\1178754\\transcript_1178754.csv\n"
     ]
    },
    {
     "name": "stderr",
     "output_type": "stream",
     "text": [
      "C:\\Users\\javie\\AppData\\Local\\Temp\\ipykernel_11860\\421169734.py:32: FutureWarning: Passing literal html to 'read_html' is deprecated and will be removed in a future version. To read from a literal string, wrap it in a 'StringIO' object.\n",
      "  df_table = pd.read_html(str(table), header=0)[0]\n"
     ]
    },
    {
     "name": "stdout",
     "output_type": "stream",
     "text": [
      "Saved HTML to data\\1178761\\transcript_1178761.html\n",
      "Saved DataFrame to data\\1178761\\transcript_1178761.csv\n"
     ]
    },
    {
     "name": "stderr",
     "output_type": "stream",
     "text": [
      "C:\\Users\\javie\\AppData\\Local\\Temp\\ipykernel_11860\\421169734.py:32: FutureWarning: Passing literal html to 'read_html' is deprecated and will be removed in a future version. To read from a literal string, wrap it in a 'StringIO' object.\n",
      "  df_table = pd.read_html(str(table), header=0)[0]\n"
     ]
    },
    {
     "name": "stdout",
     "output_type": "stream",
     "text": [
      "Saved HTML to data\\1178763\\transcript_1178763.html\n",
      "Saved DataFrame to data\\1178763\\transcript_1178763.csv\n"
     ]
    },
    {
     "name": "stderr",
     "output_type": "stream",
     "text": [
      "C:\\Users\\javie\\AppData\\Local\\Temp\\ipykernel_11860\\421169734.py:32: FutureWarning: Passing literal html to 'read_html' is deprecated and will be removed in a future version. To read from a literal string, wrap it in a 'StringIO' object.\n",
      "  df_table = pd.read_html(str(table), header=0)[0]\n"
     ]
    },
    {
     "name": "stdout",
     "output_type": "stream",
     "text": [
      "Saved HTML to data\\1178768\\transcript_1178768.html\n",
      "Saved DataFrame to data\\1178768\\transcript_1178768.csv\n"
     ]
    },
    {
     "name": "stderr",
     "output_type": "stream",
     "text": [
      "C:\\Users\\javie\\AppData\\Local\\Temp\\ipykernel_11860\\421169734.py:32: FutureWarning: Passing literal html to 'read_html' is deprecated and will be removed in a future version. To read from a literal string, wrap it in a 'StringIO' object.\n",
      "  df_table = pd.read_html(str(table), header=0)[0]\n"
     ]
    },
    {
     "name": "stdout",
     "output_type": "stream",
     "text": [
      "Saved HTML to data\\1178939\\transcript_1178939.html\n",
      "Saved DataFrame to data\\1178939\\transcript_1178939.csv\n"
     ]
    },
    {
     "name": "stderr",
     "output_type": "stream",
     "text": [
      "C:\\Users\\javie\\AppData\\Local\\Temp\\ipykernel_11860\\421169734.py:32: FutureWarning: Passing literal html to 'read_html' is deprecated and will be removed in a future version. To read from a literal string, wrap it in a 'StringIO' object.\n",
      "  df_table = pd.read_html(str(table), header=0)[0]\n"
     ]
    },
    {
     "name": "stdout",
     "output_type": "stream",
     "text": [
      "Saved HTML to data\\1179149\\transcript_1179149.html\n",
      "Saved DataFrame to data\\1179149\\transcript_1179149.csv\n"
     ]
    },
    {
     "name": "stderr",
     "output_type": "stream",
     "text": [
      "C:\\Users\\javie\\AppData\\Local\\Temp\\ipykernel_11860\\421169734.py:32: FutureWarning: Passing literal html to 'read_html' is deprecated and will be removed in a future version. To read from a literal string, wrap it in a 'StringIO' object.\n",
      "  df_table = pd.read_html(str(table), header=0)[0]\n"
     ]
    },
    {
     "name": "stdout",
     "output_type": "stream",
     "text": [
      "Saved HTML to data\\1179212\\transcript_1179212.html\n",
      "Saved DataFrame to data\\1179212\\transcript_1179212.csv\n"
     ]
    },
    {
     "name": "stderr",
     "output_type": "stream",
     "text": [
      "C:\\Users\\javie\\AppData\\Local\\Temp\\ipykernel_11860\\421169734.py:32: FutureWarning: Passing literal html to 'read_html' is deprecated and will be removed in a future version. To read from a literal string, wrap it in a 'StringIO' object.\n",
      "  df_table = pd.read_html(str(table), header=0)[0]\n"
     ]
    },
    {
     "name": "stdout",
     "output_type": "stream",
     "text": [
      "Saved HTML to data\\1179224\\transcript_1179224.html\n",
      "Saved DataFrame to data\\1179224\\transcript_1179224.csv\n"
     ]
    },
    {
     "name": "stderr",
     "output_type": "stream",
     "text": [
      "C:\\Users\\javie\\AppData\\Local\\Temp\\ipykernel_11860\\421169734.py:32: FutureWarning: Passing literal html to 'read_html' is deprecated and will be removed in a future version. To read from a literal string, wrap it in a 'StringIO' object.\n",
      "  df_table = pd.read_html(str(table), header=0)[0]\n"
     ]
    },
    {
     "name": "stdout",
     "output_type": "stream",
     "text": [
      "Saved HTML to data\\1179389\\transcript_1179389.html\n",
      "Saved DataFrame to data\\1179389\\transcript_1179389.csv\n"
     ]
    },
    {
     "name": "stderr",
     "output_type": "stream",
     "text": [
      "C:\\Users\\javie\\AppData\\Local\\Temp\\ipykernel_11860\\421169734.py:32: FutureWarning: Passing literal html to 'read_html' is deprecated and will be removed in a future version. To read from a literal string, wrap it in a 'StringIO' object.\n",
      "  df_table = pd.read_html(str(table), header=0)[0]\n"
     ]
    },
    {
     "name": "stdout",
     "output_type": "stream",
     "text": [
      "Saved HTML to data\\1179390-…\\transcript_1179390-….html\n",
      "Saved DataFrame to data\\1179390-…\\transcript_1179390-….csv\n",
      "Saved HTML to data\\1179805\\transcript_1179805.html\n",
      "Saved DataFrame to data\\1179805\\transcript_1179805.csv\n"
     ]
    },
    {
     "name": "stderr",
     "output_type": "stream",
     "text": [
      "C:\\Users\\javie\\AppData\\Local\\Temp\\ipykernel_11860\\421169734.py:32: FutureWarning: Passing literal html to 'read_html' is deprecated and will be removed in a future version. To read from a literal string, wrap it in a 'StringIO' object.\n",
      "  df_table = pd.read_html(str(table), header=0)[0]\n",
      "C:\\Users\\javie\\AppData\\Local\\Temp\\ipykernel_11860\\421169734.py:32: FutureWarning: Passing literal html to 'read_html' is deprecated and will be removed in a future version. To read from a literal string, wrap it in a 'StringIO' object.\n",
      "  df_table = pd.read_html(str(table), header=0)[0]\n"
     ]
    },
    {
     "name": "stdout",
     "output_type": "stream",
     "text": [
      "Saved HTML to data\\1179856\\transcript_1179856.html\n",
      "Saved DataFrame to data\\1179856\\transcript_1179856.csv\n"
     ]
    },
    {
     "name": "stderr",
     "output_type": "stream",
     "text": [
      "C:\\Users\\javie\\AppData\\Local\\Temp\\ipykernel_11860\\421169734.py:32: FutureWarning: Passing literal html to 'read_html' is deprecated and will be removed in a future version. To read from a literal string, wrap it in a 'StringIO' object.\n",
      "  df_table = pd.read_html(str(table), header=0)[0]\n"
     ]
    },
    {
     "name": "stdout",
     "output_type": "stream",
     "text": [
      "Saved HTML to data\\1179864\\transcript_1179864.html\n",
      "Saved DataFrame to data\\1179864\\transcript_1179864.csv\n"
     ]
    },
    {
     "name": "stderr",
     "output_type": "stream",
     "text": [
      "C:\\Users\\javie\\AppData\\Local\\Temp\\ipykernel_11860\\421169734.py:32: FutureWarning: Passing literal html to 'read_html' is deprecated and will be removed in a future version. To read from a literal string, wrap it in a 'StringIO' object.\n",
      "  df_table = pd.read_html(str(table), header=0)[0]\n"
     ]
    },
    {
     "name": "stdout",
     "output_type": "stream",
     "text": [
      "Saved HTML to data\\1179868\\transcript_1179868.html\n",
      "Saved DataFrame to data\\1179868\\transcript_1179868.csv\n",
      "Saved HTML to data\\1180018\\transcript_1180018.html\n",
      "Saved DataFrame to data\\1180018\\transcript_1180018.csv\n"
     ]
    },
    {
     "name": "stderr",
     "output_type": "stream",
     "text": [
      "C:\\Users\\javie\\AppData\\Local\\Temp\\ipykernel_11860\\421169734.py:32: FutureWarning: Passing literal html to 'read_html' is deprecated and will be removed in a future version. To read from a literal string, wrap it in a 'StringIO' object.\n",
      "  df_table = pd.read_html(str(table), header=0)[0]\n",
      "C:\\Users\\javie\\AppData\\Local\\Temp\\ipykernel_11860\\421169734.py:32: FutureWarning: Passing literal html to 'read_html' is deprecated and will be removed in a future version. To read from a literal string, wrap it in a 'StringIO' object.\n",
      "  df_table = pd.read_html(str(table), header=0)[0]\n"
     ]
    },
    {
     "name": "stdout",
     "output_type": "stream",
     "text": [
      "Saved HTML to data\\1180019\\transcript_1180019.html\n",
      "Saved DataFrame to data\\1180019\\transcript_1180019.csv\n"
     ]
    },
    {
     "name": "stderr",
     "output_type": "stream",
     "text": [
      "C:\\Users\\javie\\AppData\\Local\\Temp\\ipykernel_11860\\421169734.py:32: FutureWarning: Passing literal html to 'read_html' is deprecated and will be removed in a future version. To read from a literal string, wrap it in a 'StringIO' object.\n",
      "  df_table = pd.read_html(str(table), header=0)[0]\n",
      "C:\\Users\\javie\\AppData\\Local\\Temp\\ipykernel_11860\\421169734.py:32: FutureWarning: Passing literal html to 'read_html' is deprecated and will be removed in a future version. To read from a literal string, wrap it in a 'StringIO' object.\n",
      "  df_table = pd.read_html(str(table), header=0)[0]\n"
     ]
    },
    {
     "name": "stdout",
     "output_type": "stream",
     "text": [
      "Saved HTML to data\\1180022\\transcript_1180022.html\n",
      "Saved DataFrame to data\\1180022\\transcript_1180022.csv\n",
      "Saved HTML to data\\1180023\\transcript_1180023.html\n",
      "Saved DataFrame to data\\1180023\\transcript_1180023.csv\n"
     ]
    },
    {
     "name": "stderr",
     "output_type": "stream",
     "text": [
      "C:\\Users\\javie\\AppData\\Local\\Temp\\ipykernel_11860\\421169734.py:32: FutureWarning: Passing literal html to 'read_html' is deprecated and will be removed in a future version. To read from a literal string, wrap it in a 'StringIO' object.\n",
      "  df_table = pd.read_html(str(table), header=0)[0]\n"
     ]
    },
    {
     "name": "stdout",
     "output_type": "stream",
     "text": [
      "Saved HTML to data\\1180024\\transcript_1180024.html\n",
      "Saved DataFrame to data\\1180024\\transcript_1180024.csv\n"
     ]
    },
    {
     "name": "stderr",
     "output_type": "stream",
     "text": [
      "C:\\Users\\javie\\AppData\\Local\\Temp\\ipykernel_11860\\421169734.py:32: FutureWarning: Passing literal html to 'read_html' is deprecated and will be removed in a future version. To read from a literal string, wrap it in a 'StringIO' object.\n",
      "  df_table = pd.read_html(str(table), header=0)[0]\n"
     ]
    },
    {
     "name": "stdout",
     "output_type": "stream",
     "text": [
      "Saved HTML to data\\1180025\\transcript_1180025.html\n",
      "Saved DataFrame to data\\1180025\\transcript_1180025.csv\n"
     ]
    },
    {
     "name": "stderr",
     "output_type": "stream",
     "text": [
      "C:\\Users\\javie\\AppData\\Local\\Temp\\ipykernel_11860\\421169734.py:32: FutureWarning: Passing literal html to 'read_html' is deprecated and will be removed in a future version. To read from a literal string, wrap it in a 'StringIO' object.\n",
      "  df_table = pd.read_html(str(table), header=0)[0]\n"
     ]
    },
    {
     "name": "stdout",
     "output_type": "stream",
     "text": [
      "Saved HTML to data\\1180026\\transcript_1180026.html\n",
      "Saved DataFrame to data\\1180026\\transcript_1180026.csv\n"
     ]
    },
    {
     "name": "stderr",
     "output_type": "stream",
     "text": [
      "C:\\Users\\javie\\AppData\\Local\\Temp\\ipykernel_11860\\421169734.py:32: FutureWarning: Passing literal html to 'read_html' is deprecated and will be removed in a future version. To read from a literal string, wrap it in a 'StringIO' object.\n",
      "  df_table = pd.read_html(str(table), header=0)[0]\n"
     ]
    },
    {
     "name": "stdout",
     "output_type": "stream",
     "text": [
      "Saved HTML to data\\1180027\\transcript_1180027.html\n",
      "Saved DataFrame to data\\1180027\\transcript_1180027.csv\n"
     ]
    },
    {
     "name": "stderr",
     "output_type": "stream",
     "text": [
      "C:\\Users\\javie\\AppData\\Local\\Temp\\ipykernel_11860\\421169734.py:32: FutureWarning: Passing literal html to 'read_html' is deprecated and will be removed in a future version. To read from a literal string, wrap it in a 'StringIO' object.\n",
      "  df_table = pd.read_html(str(table), header=0)[0]\n"
     ]
    },
    {
     "name": "stdout",
     "output_type": "stream",
     "text": [
      "Saved HTML to data\\1180092\\transcript_1180092.html\n",
      "Saved DataFrame to data\\1180092\\transcript_1180092.csv\n"
     ]
    },
    {
     "name": "stderr",
     "output_type": "stream",
     "text": [
      "C:\\Users\\javie\\AppData\\Local\\Temp\\ipykernel_11860\\421169734.py:32: FutureWarning: Passing literal html to 'read_html' is deprecated and will be removed in a future version. To read from a literal string, wrap it in a 'StringIO' object.\n",
      "  df_table = pd.read_html(str(table), header=0)[0]\n"
     ]
    },
    {
     "name": "stdout",
     "output_type": "stream",
     "text": [
      "Saved HTML to data\\1180097\\transcript_1180097.html\n",
      "Saved DataFrame to data\\1180097\\transcript_1180097.csv\n",
      "Saved HTML to data\\1180253\\transcript_1180253.html\n",
      "Saved DataFrame to data\\1180253\\transcript_1180253.csv\n"
     ]
    },
    {
     "name": "stderr",
     "output_type": "stream",
     "text": [
      "C:\\Users\\javie\\AppData\\Local\\Temp\\ipykernel_11860\\421169734.py:32: FutureWarning: Passing literal html to 'read_html' is deprecated and will be removed in a future version. To read from a literal string, wrap it in a 'StringIO' object.\n",
      "  df_table = pd.read_html(str(table), header=0)[0]\n",
      "C:\\Users\\javie\\AppData\\Local\\Temp\\ipykernel_11860\\421169734.py:32: FutureWarning: Passing literal html to 'read_html' is deprecated and will be removed in a future version. To read from a literal string, wrap it in a 'StringIO' object.\n",
      "  df_table = pd.read_html(str(table), header=0)[0]\n"
     ]
    },
    {
     "name": "stdout",
     "output_type": "stream",
     "text": [
      "Saved HTML to data\\1180254\\transcript_1180254.html\n",
      "Saved DataFrame to data\\1180254\\transcript_1180254.csv\n"
     ]
    },
    {
     "name": "stderr",
     "output_type": "stream",
     "text": [
      "C:\\Users\\javie\\AppData\\Local\\Temp\\ipykernel_11860\\421169734.py:32: FutureWarning: Passing literal html to 'read_html' is deprecated and will be removed in a future version. To read from a literal string, wrap it in a 'StringIO' object.\n",
      "  df_table = pd.read_html(str(table), header=0)[0]\n"
     ]
    },
    {
     "name": "stdout",
     "output_type": "stream",
     "text": [
      "Saved HTML to data\\1180318\\transcript_1180318.html\n",
      "Saved DataFrame to data\\1180318\\transcript_1180318.csv\n"
     ]
    },
    {
     "name": "stderr",
     "output_type": "stream",
     "text": [
      "C:\\Users\\javie\\AppData\\Local\\Temp\\ipykernel_11860\\421169734.py:32: FutureWarning: Passing literal html to 'read_html' is deprecated and will be removed in a future version. To read from a literal string, wrap it in a 'StringIO' object.\n",
      "  df_table = pd.read_html(str(table), header=0)[0]\n"
     ]
    },
    {
     "name": "stdout",
     "output_type": "stream",
     "text": [
      "Saved HTML to data\\1180339-…\\transcript_1180339-….html\n",
      "Saved DataFrame to data\\1180339-…\\transcript_1180339-….csv\n",
      "Saved HTML to data\\1180490\\transcript_1180490.html\n",
      "Saved DataFrame to data\\1180490\\transcript_1180490.csv\n"
     ]
    },
    {
     "name": "stderr",
     "output_type": "stream",
     "text": [
      "C:\\Users\\javie\\AppData\\Local\\Temp\\ipykernel_11860\\421169734.py:32: FutureWarning: Passing literal html to 'read_html' is deprecated and will be removed in a future version. To read from a literal string, wrap it in a 'StringIO' object.\n",
      "  df_table = pd.read_html(str(table), header=0)[0]\n",
      "C:\\Users\\javie\\AppData\\Local\\Temp\\ipykernel_11860\\421169734.py:32: FutureWarning: Passing literal html to 'read_html' is deprecated and will be removed in a future version. To read from a literal string, wrap it in a 'StringIO' object.\n",
      "  df_table = pd.read_html(str(table), header=0)[0]\n"
     ]
    },
    {
     "name": "stdout",
     "output_type": "stream",
     "text": [
      "Saved HTML to data\\1180539\\transcript_1180539.html\n",
      "Saved DataFrame to data\\1180539\\transcript_1180539.csv\n"
     ]
    },
    {
     "name": "stderr",
     "output_type": "stream",
     "text": [
      "C:\\Users\\javie\\AppData\\Local\\Temp\\ipykernel_11860\\421169734.py:32: FutureWarning: Passing literal html to 'read_html' is deprecated and will be removed in a future version. To read from a literal string, wrap it in a 'StringIO' object.\n",
      "  df_table = pd.read_html(str(table), header=0)[0]\n"
     ]
    },
    {
     "name": "stdout",
     "output_type": "stream",
     "text": [
      "Saved HTML to data\\1180546\\transcript_1180546.html\n",
      "Saved DataFrame to data\\1180546\\transcript_1180546.csv\n"
     ]
    },
    {
     "name": "stderr",
     "output_type": "stream",
     "text": [
      "C:\\Users\\javie\\AppData\\Local\\Temp\\ipykernel_11860\\421169734.py:32: FutureWarning: Passing literal html to 'read_html' is deprecated and will be removed in a future version. To read from a literal string, wrap it in a 'StringIO' object.\n",
      "  df_table = pd.read_html(str(table), header=0)[0]\n"
     ]
    },
    {
     "name": "stdout",
     "output_type": "stream",
     "text": [
      "Saved HTML to data\\1180556\\transcript_1180556.html\n",
      "Saved DataFrame to data\\1180556\\transcript_1180556.csv\n"
     ]
    },
    {
     "name": "stderr",
     "output_type": "stream",
     "text": [
      "C:\\Users\\javie\\AppData\\Local\\Temp\\ipykernel_11860\\421169734.py:32: FutureWarning: Passing literal html to 'read_html' is deprecated and will be removed in a future version. To read from a literal string, wrap it in a 'StringIO' object.\n",
      "  df_table = pd.read_html(str(table), header=0)[0]\n",
      "C:\\Users\\javie\\AppData\\Local\\Temp\\ipykernel_11860\\421169734.py:32: FutureWarning: Passing literal html to 'read_html' is deprecated and will be removed in a future version. To read from a literal string, wrap it in a 'StringIO' object.\n",
      "  df_table = pd.read_html(str(table), header=0)[0]\n"
     ]
    },
    {
     "name": "stdout",
     "output_type": "stream",
     "text": [
      "Saved HTML to data\\1180558-…\\transcript_1180558-….html\n",
      "Saved DataFrame to data\\1180558-…\\transcript_1180558-….csv\n",
      "Saved HTML to data\\1180706\\transcript_1180706.html\n",
      "Saved DataFrame to data\\1180706\\transcript_1180706.csv\n"
     ]
    },
    {
     "name": "stderr",
     "output_type": "stream",
     "text": [
      "C:\\Users\\javie\\AppData\\Local\\Temp\\ipykernel_11860\\421169734.py:32: FutureWarning: Passing literal html to 'read_html' is deprecated and will be removed in a future version. To read from a literal string, wrap it in a 'StringIO' object.\n",
      "  df_table = pd.read_html(str(table), header=0)[0]\n"
     ]
    },
    {
     "name": "stdout",
     "output_type": "stream",
     "text": [
      "Saved HTML to data\\1180707\\transcript_1180707.html\n",
      "Saved DataFrame to data\\1180707\\transcript_1180707.csv\n"
     ]
    },
    {
     "name": "stderr",
     "output_type": "stream",
     "text": [
      "C:\\Users\\javie\\AppData\\Local\\Temp\\ipykernel_11860\\421169734.py:32: FutureWarning: Passing literal html to 'read_html' is deprecated and will be removed in a future version. To read from a literal string, wrap it in a 'StringIO' object.\n",
      "  df_table = pd.read_html(str(table), header=0)[0]\n"
     ]
    },
    {
     "name": "stdout",
     "output_type": "stream",
     "text": [
      "Saved HTML to data\\1180724\\transcript_1180724.html\n",
      "Saved DataFrame to data\\1180724\\transcript_1180724.csv\n",
      "Saved HTML to data\\1180945\\transcript_1180945.html\n",
      "Saved DataFrame to data\\1180945\\transcript_1180945.csv\n"
     ]
    },
    {
     "name": "stderr",
     "output_type": "stream",
     "text": [
      "C:\\Users\\javie\\AppData\\Local\\Temp\\ipykernel_11860\\421169734.py:32: FutureWarning: Passing literal html to 'read_html' is deprecated and will be removed in a future version. To read from a literal string, wrap it in a 'StringIO' object.\n",
      "  df_table = pd.read_html(str(table), header=0)[0]\n",
      "C:\\Users\\javie\\AppData\\Local\\Temp\\ipykernel_11860\\421169734.py:32: FutureWarning: Passing literal html to 'read_html' is deprecated and will be removed in a future version. To read from a literal string, wrap it in a 'StringIO' object.\n",
      "  df_table = pd.read_html(str(table), header=0)[0]\n"
     ]
    },
    {
     "name": "stdout",
     "output_type": "stream",
     "text": [
      "Saved HTML to data\\1180946\\transcript_1180946.html\n",
      "Saved DataFrame to data\\1180946\\transcript_1180946.csv\n"
     ]
    },
    {
     "name": "stderr",
     "output_type": "stream",
     "text": [
      "C:\\Users\\javie\\AppData\\Local\\Temp\\ipykernel_11860\\421169734.py:32: FutureWarning: Passing literal html to 'read_html' is deprecated and will be removed in a future version. To read from a literal string, wrap it in a 'StringIO' object.\n",
      "  df_table = pd.read_html(str(table), header=0)[0]\n"
     ]
    },
    {
     "name": "stdout",
     "output_type": "stream",
     "text": [
      "Saved HTML to data\\1181011\\transcript_1181011.html\n",
      "Saved DataFrame to data\\1181011\\transcript_1181011.csv\n",
      "Saved HTML to data\\1181014\\transcript_1181014.html\n",
      "Saved DataFrame to data\\1181014\\transcript_1181014.csv\n"
     ]
    },
    {
     "name": "stderr",
     "output_type": "stream",
     "text": [
      "C:\\Users\\javie\\AppData\\Local\\Temp\\ipykernel_11860\\421169734.py:32: FutureWarning: Passing literal html to 'read_html' is deprecated and will be removed in a future version. To read from a literal string, wrap it in a 'StringIO' object.\n",
      "  df_table = pd.read_html(str(table), header=0)[0]\n",
      "C:\\Users\\javie\\AppData\\Local\\Temp\\ipykernel_11860\\421169734.py:32: FutureWarning: Passing literal html to 'read_html' is deprecated and will be removed in a future version. To read from a literal string, wrap it in a 'StringIO' object.\n",
      "  df_table = pd.read_html(str(table), header=0)[0]\n"
     ]
    },
    {
     "name": "stdout",
     "output_type": "stream",
     "text": [
      "Saved HTML to data\\1181027\\transcript_1181027.html\n",
      "Saved DataFrame to data\\1181027\\transcript_1181027.csv\n"
     ]
    },
    {
     "name": "stderr",
     "output_type": "stream",
     "text": [
      "C:\\Users\\javie\\AppData\\Local\\Temp\\ipykernel_11860\\421169734.py:32: FutureWarning: Passing literal html to 'read_html' is deprecated and will be removed in a future version. To read from a literal string, wrap it in a 'StringIO' object.\n",
      "  df_table = pd.read_html(str(table), header=0)[0]\n"
     ]
    },
    {
     "name": "stdout",
     "output_type": "stream",
     "text": [
      "Saved HTML to data\\1181159\\transcript_1181159.html\n",
      "Saved DataFrame to data\\1181159\\transcript_1181159.csv\n"
     ]
    },
    {
     "name": "stderr",
     "output_type": "stream",
     "text": [
      "C:\\Users\\javie\\AppData\\Local\\Temp\\ipykernel_11860\\421169734.py:32: FutureWarning: Passing literal html to 'read_html' is deprecated and will be removed in a future version. To read from a literal string, wrap it in a 'StringIO' object.\n",
      "  df_table = pd.read_html(str(table), header=0)[0]\n"
     ]
    },
    {
     "name": "stdout",
     "output_type": "stream",
     "text": [
      "Saved HTML to data\\1181240-…\\transcript_1181240-….html\n",
      "Saved DataFrame to data\\1181240-…\\transcript_1181240-….csv\n",
      "Saved HTML to data\\1181390\\transcript_1181390.html\n",
      "Saved DataFrame to data\\1181390\\transcript_1181390.csv\n"
     ]
    },
    {
     "name": "stderr",
     "output_type": "stream",
     "text": [
      "C:\\Users\\javie\\AppData\\Local\\Temp\\ipykernel_11860\\421169734.py:32: FutureWarning: Passing literal html to 'read_html' is deprecated and will be removed in a future version. To read from a literal string, wrap it in a 'StringIO' object.\n",
      "  df_table = pd.read_html(str(table), header=0)[0]\n",
      "C:\\Users\\javie\\AppData\\Local\\Temp\\ipykernel_11860\\421169734.py:32: FutureWarning: Passing literal html to 'read_html' is deprecated and will be removed in a future version. To read from a literal string, wrap it in a 'StringIO' object.\n",
      "  df_table = pd.read_html(str(table), header=0)[0]\n"
     ]
    },
    {
     "name": "stdout",
     "output_type": "stream",
     "text": [
      "Saved HTML to data\\1181397\\transcript_1181397.html\n",
      "Saved DataFrame to data\\1181397\\transcript_1181397.csv\n"
     ]
    },
    {
     "name": "stderr",
     "output_type": "stream",
     "text": [
      "C:\\Users\\javie\\AppData\\Local\\Temp\\ipykernel_11860\\421169734.py:32: FutureWarning: Passing literal html to 'read_html' is deprecated and will be removed in a future version. To read from a literal string, wrap it in a 'StringIO' object.\n",
      "  df_table = pd.read_html(str(table), header=0)[0]\n"
     ]
    },
    {
     "name": "stdout",
     "output_type": "stream",
     "text": [
      "Saved HTML to data\\1181455\\transcript_1181455.html\n",
      "Saved DataFrame to data\\1181455\\transcript_1181455.csv\n"
     ]
    },
    {
     "name": "stderr",
     "output_type": "stream",
     "text": [
      "C:\\Users\\javie\\AppData\\Local\\Temp\\ipykernel_11860\\421169734.py:32: FutureWarning: Passing literal html to 'read_html' is deprecated and will be removed in a future version. To read from a literal string, wrap it in a 'StringIO' object.\n",
      "  df_table = pd.read_html(str(table), header=0)[0]\n"
     ]
    },
    {
     "name": "stdout",
     "output_type": "stream",
     "text": [
      "Saved HTML to data\\1181602\\transcript_1181602.html\n",
      "Saved DataFrame to data\\1181602\\transcript_1181602.csv\n",
      "Saved HTML to data\\1181819\\transcript_1181819.html\n",
      "Saved DataFrame to data\\1181819\\transcript_1181819.csv\n"
     ]
    },
    {
     "name": "stderr",
     "output_type": "stream",
     "text": [
      "C:\\Users\\javie\\AppData\\Local\\Temp\\ipykernel_11860\\421169734.py:32: FutureWarning: Passing literal html to 'read_html' is deprecated and will be removed in a future version. To read from a literal string, wrap it in a 'StringIO' object.\n",
      "  df_table = pd.read_html(str(table), header=0)[0]\n",
      "C:\\Users\\javie\\AppData\\Local\\Temp\\ipykernel_11860\\421169734.py:32: FutureWarning: Passing literal html to 'read_html' is deprecated and will be removed in a future version. To read from a literal string, wrap it in a 'StringIO' object.\n",
      "  df_table = pd.read_html(str(table), header=0)[0]\n"
     ]
    },
    {
     "name": "stdout",
     "output_type": "stream",
     "text": [
      "Saved HTML to data\\1181820\\transcript_1181820.html\n",
      "Saved DataFrame to data\\1181820\\transcript_1181820.csv\n"
     ]
    },
    {
     "name": "stderr",
     "output_type": "stream",
     "text": [
      "C:\\Users\\javie\\AppData\\Local\\Temp\\ipykernel_11860\\421169734.py:32: FutureWarning: Passing literal html to 'read_html' is deprecated and will be removed in a future version. To read from a literal string, wrap it in a 'StringIO' object.\n",
      "  df_table = pd.read_html(str(table), header=0)[0]\n"
     ]
    },
    {
     "name": "stdout",
     "output_type": "stream",
     "text": [
      "Saved HTML to data\\1181838\\transcript_1181838.html\n",
      "Saved DataFrame to data\\1181838\\transcript_1181838.csv\n"
     ]
    },
    {
     "name": "stderr",
     "output_type": "stream",
     "text": [
      "C:\\Users\\javie\\AppData\\Local\\Temp\\ipykernel_11860\\421169734.py:32: FutureWarning: Passing literal html to 'read_html' is deprecated and will be removed in a future version. To read from a literal string, wrap it in a 'StringIO' object.\n",
      "  df_table = pd.read_html(str(table), header=0)[0]\n"
     ]
    },
    {
     "name": "stdout",
     "output_type": "stream",
     "text": [
      "Saved HTML to data\\1182062\\transcript_1182062.html\n",
      "Saved DataFrame to data\\1182062\\transcript_1182062.csv\n"
     ]
    },
    {
     "name": "stderr",
     "output_type": "stream",
     "text": [
      "C:\\Users\\javie\\AppData\\Local\\Temp\\ipykernel_11860\\421169734.py:32: FutureWarning: Passing literal html to 'read_html' is deprecated and will be removed in a future version. To read from a literal string, wrap it in a 'StringIO' object.\n",
      "  df_table = pd.read_html(str(table), header=0)[0]\n"
     ]
    },
    {
     "name": "stdout",
     "output_type": "stream",
     "text": [
      "Saved HTML to data\\1182135\\transcript_1182135.html\n",
      "Saved DataFrame to data\\1182135\\transcript_1182135.csv\n",
      "Saved HTML to data\\1182265\\transcript_1182265.html\n",
      "Saved DataFrame to data\\1182265\\transcript_1182265.csv\n"
     ]
    },
    {
     "name": "stderr",
     "output_type": "stream",
     "text": [
      "C:\\Users\\javie\\AppData\\Local\\Temp\\ipykernel_11860\\421169734.py:32: FutureWarning: Passing literal html to 'read_html' is deprecated and will be removed in a future version. To read from a literal string, wrap it in a 'StringIO' object.\n",
      "  df_table = pd.read_html(str(table), header=0)[0]\n",
      "C:\\Users\\javie\\AppData\\Local\\Temp\\ipykernel_11860\\421169734.py:32: FutureWarning: Passing literal html to 'read_html' is deprecated and will be removed in a future version. To read from a literal string, wrap it in a 'StringIO' object.\n",
      "  df_table = pd.read_html(str(table), header=0)[0]\n"
     ]
    },
    {
     "name": "stdout",
     "output_type": "stream",
     "text": [
      "Saved HTML to data\\1182343\\transcript_1182343.html\n",
      "Saved DataFrame to data\\1182343\\transcript_1182343.csv\n"
     ]
    },
    {
     "name": "stderr",
     "output_type": "stream",
     "text": [
      "C:\\Users\\javie\\AppData\\Local\\Temp\\ipykernel_11860\\421169734.py:32: FutureWarning: Passing literal html to 'read_html' is deprecated and will be removed in a future version. To read from a literal string, wrap it in a 'StringIO' object.\n",
      "  df_table = pd.read_html(str(table), header=0)[0]\n"
     ]
    },
    {
     "name": "stdout",
     "output_type": "stream",
     "text": [
      "Saved HTML to data\\1182517\\transcript_1182517.html\n",
      "Saved DataFrame to data\\1182517\\transcript_1182517.csv\n"
     ]
    },
    {
     "name": "stderr",
     "output_type": "stream",
     "text": [
      "C:\\Users\\javie\\AppData\\Local\\Temp\\ipykernel_11860\\421169734.py:32: FutureWarning: Passing literal html to 'read_html' is deprecated and will be removed in a future version. To read from a literal string, wrap it in a 'StringIO' object.\n",
      "  df_table = pd.read_html(str(table), header=0)[0]\n"
     ]
    },
    {
     "name": "stdout",
     "output_type": "stream",
     "text": [
      "Saved HTML to data\\1182801\\transcript_1182801.html\n",
      "Saved DataFrame to data\\1182801\\transcript_1182801.csv\n"
     ]
    },
    {
     "name": "stderr",
     "output_type": "stream",
     "text": [
      "C:\\Users\\javie\\AppData\\Local\\Temp\\ipykernel_11860\\421169734.py:32: FutureWarning: Passing literal html to 'read_html' is deprecated and will be removed in a future version. To read from a literal string, wrap it in a 'StringIO' object.\n",
      "  df_table = pd.read_html(str(table), header=0)[0]\n"
     ]
    },
    {
     "name": "stdout",
     "output_type": "stream",
     "text": [
      "Saved HTML to data\\1183035\\transcript_1183035.html\n",
      "Saved DataFrame to data\\1183035\\transcript_1183035.csv\n"
     ]
    },
    {
     "name": "stderr",
     "output_type": "stream",
     "text": [
      "C:\\Users\\javie\\AppData\\Local\\Temp\\ipykernel_11860\\421169734.py:32: FutureWarning: Passing literal html to 'read_html' is deprecated and will be removed in a future version. To read from a literal string, wrap it in a 'StringIO' object.\n",
      "  df_table = pd.read_html(str(table), header=0)[0]\n"
     ]
    },
    {
     "name": "stdout",
     "output_type": "stream",
     "text": [
      "Saved HTML to data\\1183203\\transcript_1183203.html\n",
      "Saved DataFrame to data\\1183203\\transcript_1183203.csv\n"
     ]
    },
    {
     "name": "stderr",
     "output_type": "stream",
     "text": [
      "C:\\Users\\javie\\AppData\\Local\\Temp\\ipykernel_11860\\421169734.py:32: FutureWarning: Passing literal html to 'read_html' is deprecated and will be removed in a future version. To read from a literal string, wrap it in a 'StringIO' object.\n",
      "  df_table = pd.read_html(str(table), header=0)[0]\n"
     ]
    },
    {
     "name": "stdout",
     "output_type": "stream",
     "text": [
      "Saved HTML to data\\1183426\\transcript_1183426.html\n",
      "Saved DataFrame to data\\1183426\\transcript_1183426.csv\n",
      "Saved HTML to data\\1183640\\transcript_1183640.html\n",
      "Saved DataFrame to data\\1183640\\transcript_1183640.csv\n"
     ]
    },
    {
     "name": "stderr",
     "output_type": "stream",
     "text": [
      "C:\\Users\\javie\\AppData\\Local\\Temp\\ipykernel_11860\\421169734.py:32: FutureWarning: Passing literal html to 'read_html' is deprecated and will be removed in a future version. To read from a literal string, wrap it in a 'StringIO' object.\n",
      "  df_table = pd.read_html(str(table), header=0)[0]\n",
      "C:\\Users\\javie\\AppData\\Local\\Temp\\ipykernel_11860\\421169734.py:32: FutureWarning: Passing literal html to 'read_html' is deprecated and will be removed in a future version. To read from a literal string, wrap it in a 'StringIO' object.\n",
      "  df_table = pd.read_html(str(table), header=0)[0]\n"
     ]
    },
    {
     "name": "stdout",
     "output_type": "stream",
     "text": [
      "Saved HTML to data\\1183703\\transcript_1183703.html\n",
      "Saved DataFrame to data\\1183703\\transcript_1183703.csv\n"
     ]
    },
    {
     "name": "stderr",
     "output_type": "stream",
     "text": [
      "C:\\Users\\javie\\AppData\\Local\\Temp\\ipykernel_11860\\421169734.py:32: FutureWarning: Passing literal html to 'read_html' is deprecated and will be removed in a future version. To read from a literal string, wrap it in a 'StringIO' object.\n",
      "  df_table = pd.read_html(str(table), header=0)[0]\n"
     ]
    },
    {
     "name": "stdout",
     "output_type": "stream",
     "text": [
      "Saved HTML to data\\1183720-…\\transcript_1183720-….html\n",
      "Saved DataFrame to data\\1183720-…\\transcript_1183720-….csv\n"
     ]
    },
    {
     "name": "stderr",
     "output_type": "stream",
     "text": [
      "C:\\Users\\javie\\AppData\\Local\\Temp\\ipykernel_11860\\421169734.py:32: FutureWarning: Passing literal html to 'read_html' is deprecated and will be removed in a future version. To read from a literal string, wrap it in a 'StringIO' object.\n",
      "  df_table = pd.read_html(str(table), header=0)[0]\n"
     ]
    },
    {
     "name": "stdout",
     "output_type": "stream",
     "text": [
      "Saved HTML to data\\1183846\\transcript_1183846.html\n",
      "Saved DataFrame to data\\1183846\\transcript_1183846.csv\n"
     ]
    },
    {
     "name": "stderr",
     "output_type": "stream",
     "text": [
      "C:\\Users\\javie\\AppData\\Local\\Temp\\ipykernel_11860\\421169734.py:32: FutureWarning: Passing literal html to 'read_html' is deprecated and will be removed in a future version. To read from a literal string, wrap it in a 'StringIO' object.\n",
      "  df_table = pd.read_html(str(table), header=0)[0]\n"
     ]
    },
    {
     "name": "stdout",
     "output_type": "stream",
     "text": [
      "Saved HTML to data\\1183917\\transcript_1183917.html\n",
      "Saved DataFrame to data\\1183917\\transcript_1183917.csv\n",
      "Saved HTML to data\\1184075\\transcript_1184075.html\n",
      "Saved DataFrame to data\\1184075\\transcript_1184075.csv\n"
     ]
    },
    {
     "name": "stderr",
     "output_type": "stream",
     "text": [
      "C:\\Users\\javie\\AppData\\Local\\Temp\\ipykernel_11860\\421169734.py:32: FutureWarning: Passing literal html to 'read_html' is deprecated and will be removed in a future version. To read from a literal string, wrap it in a 'StringIO' object.\n",
      "  df_table = pd.read_html(str(table), header=0)[0]\n",
      "C:\\Users\\javie\\AppData\\Local\\Temp\\ipykernel_11860\\421169734.py:32: FutureWarning: Passing literal html to 'read_html' is deprecated and will be removed in a future version. To read from a literal string, wrap it in a 'StringIO' object.\n",
      "  df_table = pd.read_html(str(table), header=0)[0]\n"
     ]
    },
    {
     "name": "stdout",
     "output_type": "stream",
     "text": [
      "Saved HTML to data\\1184089\\transcript_1184089.html\n",
      "Saved DataFrame to data\\1184089\\transcript_1184089.csv\n"
     ]
    },
    {
     "name": "stderr",
     "output_type": "stream",
     "text": [
      "C:\\Users\\javie\\AppData\\Local\\Temp\\ipykernel_11860\\421169734.py:32: FutureWarning: Passing literal html to 'read_html' is deprecated and will be removed in a future version. To read from a literal string, wrap it in a 'StringIO' object.\n",
      "  df_table = pd.read_html(str(table), header=0)[0]\n"
     ]
    },
    {
     "name": "stdout",
     "output_type": "stream",
     "text": [
      "Saved HTML to data\\1184145\\transcript_1184145.html\n",
      "Saved DataFrame to data\\1184145\\transcript_1184145.csv\n"
     ]
    },
    {
     "name": "stderr",
     "output_type": "stream",
     "text": [
      "C:\\Users\\javie\\AppData\\Local\\Temp\\ipykernel_11860\\421169734.py:32: FutureWarning: Passing literal html to 'read_html' is deprecated and will be removed in a future version. To read from a literal string, wrap it in a 'StringIO' object.\n",
      "  df_table = pd.read_html(str(table), header=0)[0]\n"
     ]
    },
    {
     "name": "stdout",
     "output_type": "stream",
     "text": [
      "Saved HTML to data\\1184164\\transcript_1184164.html\n",
      "Saved DataFrame to data\\1184164\\transcript_1184164.csv\n",
      "Saved HTML to data\\1184298\\transcript_1184298.html\n",
      "Saved DataFrame to data\\1184298\\transcript_1184298.csv\n"
     ]
    },
    {
     "name": "stderr",
     "output_type": "stream",
     "text": [
      "C:\\Users\\javie\\AppData\\Local\\Temp\\ipykernel_11860\\421169734.py:32: FutureWarning: Passing literal html to 'read_html' is deprecated and will be removed in a future version. To read from a literal string, wrap it in a 'StringIO' object.\n",
      "  df_table = pd.read_html(str(table), header=0)[0]\n",
      "C:\\Users\\javie\\AppData\\Local\\Temp\\ipykernel_11860\\421169734.py:32: FutureWarning: Passing literal html to 'read_html' is deprecated and will be removed in a future version. To read from a literal string, wrap it in a 'StringIO' object.\n",
      "  df_table = pd.read_html(str(table), header=0)[0]\n"
     ]
    },
    {
     "name": "stdout",
     "output_type": "stream",
     "text": [
      "Saved HTML to data\\1184367\\transcript_1184367.html\n",
      "Saved DataFrame to data\\1184367\\transcript_1184367.csv\n"
     ]
    },
    {
     "name": "stderr",
     "output_type": "stream",
     "text": [
      "C:\\Users\\javie\\AppData\\Local\\Temp\\ipykernel_11860\\421169734.py:32: FutureWarning: Passing literal html to 'read_html' is deprecated and will be removed in a future version. To read from a literal string, wrap it in a 'StringIO' object.\n",
      "  df_table = pd.read_html(str(table), header=0)[0]\n"
     ]
    },
    {
     "name": "stdout",
     "output_type": "stream",
     "text": [
      "Saved HTML to data\\1184536\\transcript_1184536.html\n",
      "Saved DataFrame to data\\1184536\\transcript_1184536.csv\n"
     ]
    },
    {
     "name": "stderr",
     "output_type": "stream",
     "text": [
      "C:\\Users\\javie\\AppData\\Local\\Temp\\ipykernel_11860\\421169734.py:32: FutureWarning: Passing literal html to 'read_html' is deprecated and will be removed in a future version. To read from a literal string, wrap it in a 'StringIO' object.\n",
      "  df_table = pd.read_html(str(table), header=0)[0]\n"
     ]
    },
    {
     "name": "stdout",
     "output_type": "stream",
     "text": [
      "Saved HTML to data\\1184746\\transcript_1184746.html\n",
      "Saved DataFrame to data\\1184746\\transcript_1184746.csv\n"
     ]
    },
    {
     "name": "stderr",
     "output_type": "stream",
     "text": [
      "C:\\Users\\javie\\AppData\\Local\\Temp\\ipykernel_11860\\421169734.py:32: FutureWarning: Passing literal html to 'read_html' is deprecated and will be removed in a future version. To read from a literal string, wrap it in a 'StringIO' object.\n",
      "  df_table = pd.read_html(str(table), header=0)[0]\n"
     ]
    },
    {
     "name": "stdout",
     "output_type": "stream",
     "text": [
      "Saved HTML to data\\1184749\\transcript_1184749.html\n",
      "Saved DataFrame to data\\1184749\\transcript_1184749.csv\n"
     ]
    },
    {
     "name": "stderr",
     "output_type": "stream",
     "text": [
      "C:\\Users\\javie\\AppData\\Local\\Temp\\ipykernel_11860\\421169734.py:32: FutureWarning: Passing literal html to 'read_html' is deprecated and will be removed in a future version. To read from a literal string, wrap it in a 'StringIO' object.\n",
      "  df_table = pd.read_html(str(table), header=0)[0]\n"
     ]
    },
    {
     "name": "stdout",
     "output_type": "stream",
     "text": [
      "Saved HTML to data\\1184756\\transcript_1184756.html\n",
      "Saved DataFrame to data\\1184756\\transcript_1184756.csv\n",
      "Saved HTML to data\\1187148\\transcript_1187148.html\n",
      "Saved DataFrame to data\\1187148\\transcript_1187148.csv\n"
     ]
    },
    {
     "name": "stderr",
     "output_type": "stream",
     "text": [
      "C:\\Users\\javie\\AppData\\Local\\Temp\\ipykernel_11860\\421169734.py:32: FutureWarning: Passing literal html to 'read_html' is deprecated and will be removed in a future version. To read from a literal string, wrap it in a 'StringIO' object.\n",
      "  df_table = pd.read_html(str(table), header=0)[0]\n",
      "C:\\Users\\javie\\AppData\\Local\\Temp\\ipykernel_11860\\421169734.py:32: FutureWarning: Passing literal html to 'read_html' is deprecated and will be removed in a future version. To read from a literal string, wrap it in a 'StringIO' object.\n",
      "  df_table = pd.read_html(str(table), header=0)[0]\n"
     ]
    },
    {
     "name": "stdout",
     "output_type": "stream",
     "text": [
      "Saved HTML to data\\1187152\\transcript_1187152.html\n",
      "Saved DataFrame to data\\1187152\\transcript_1187152.csv\n"
     ]
    },
    {
     "name": "stderr",
     "output_type": "stream",
     "text": [
      "C:\\Users\\javie\\AppData\\Local\\Temp\\ipykernel_11860\\421169734.py:32: FutureWarning: Passing literal html to 'read_html' is deprecated and will be removed in a future version. To read from a literal string, wrap it in a 'StringIO' object.\n",
      "  df_table = pd.read_html(str(table), header=0)[0]\n"
     ]
    },
    {
     "name": "stdout",
     "output_type": "stream",
     "text": [
      "Saved HTML to data\\1187154\\transcript_1187154.html\n",
      "Saved DataFrame to data\\1187154\\transcript_1187154.csv\n"
     ]
    },
    {
     "name": "stderr",
     "output_type": "stream",
     "text": [
      "C:\\Users\\javie\\AppData\\Local\\Temp\\ipykernel_11860\\421169734.py:32: FutureWarning: Passing literal html to 'read_html' is deprecated and will be removed in a future version. To read from a literal string, wrap it in a 'StringIO' object.\n",
      "  df_table = pd.read_html(str(table), header=0)[0]\n"
     ]
    },
    {
     "name": "stdout",
     "output_type": "stream",
     "text": [
      "Saved HTML to data\\1187218\\transcript_1187218.html\n",
      "Saved DataFrame to data\\1187218\\transcript_1187218.csv\n"
     ]
    },
    {
     "name": "stderr",
     "output_type": "stream",
     "text": [
      "C:\\Users\\javie\\AppData\\Local\\Temp\\ipykernel_11860\\421169734.py:32: FutureWarning: Passing literal html to 'read_html' is deprecated and will be removed in a future version. To read from a literal string, wrap it in a 'StringIO' object.\n",
      "  df_table = pd.read_html(str(table), header=0)[0]\n"
     ]
    },
    {
     "name": "stdout",
     "output_type": "stream",
     "text": [
      "Saved HTML to data\\1200689\\transcript_1200689.html\n",
      "Saved DataFrame to data\\1200689\\transcript_1200689.csv\n"
     ]
    },
    {
     "name": "stderr",
     "output_type": "stream",
     "text": [
      "C:\\Users\\javie\\AppData\\Local\\Temp\\ipykernel_11860\\421169734.py:32: FutureWarning: Passing literal html to 'read_html' is deprecated and will be removed in a future version. To read from a literal string, wrap it in a 'StringIO' object.\n",
      "  df_table = pd.read_html(str(table), header=0)[0]\n"
     ]
    },
    {
     "name": "stdout",
     "output_type": "stream",
     "text": [
      "Saved HTML to data\\1200691\\transcript_1200691.html\n",
      "Saved DataFrame to data\\1200691\\transcript_1200691.csv\n",
      "Saved HTML to data\\1204186\\transcript_1204186.html\n",
      "Saved DataFrame to data\\1204186\\transcript_1204186.csv\n"
     ]
    },
    {
     "name": "stderr",
     "output_type": "stream",
     "text": [
      "C:\\Users\\javie\\AppData\\Local\\Temp\\ipykernel_11860\\421169734.py:32: FutureWarning: Passing literal html to 'read_html' is deprecated and will be removed in a future version. To read from a literal string, wrap it in a 'StringIO' object.\n",
      "  df_table = pd.read_html(str(table), header=0)[0]\n",
      "C:\\Users\\javie\\AppData\\Local\\Temp\\ipykernel_11860\\421169734.py:32: FutureWarning: Passing literal html to 'read_html' is deprecated and will be removed in a future version. To read from a literal string, wrap it in a 'StringIO' object.\n",
      "  df_table = pd.read_html(str(table), header=0)[0]\n"
     ]
    },
    {
     "name": "stdout",
     "output_type": "stream",
     "text": [
      "Saved HTML to data\\1204191\\transcript_1204191.html\n",
      "Saved DataFrame to data\\1204191\\transcript_1204191.csv\n"
     ]
    },
    {
     "name": "stderr",
     "output_type": "stream",
     "text": [
      "C:\\Users\\javie\\AppData\\Local\\Temp\\ipykernel_11860\\421169734.py:32: FutureWarning: Passing literal html to 'read_html' is deprecated and will be removed in a future version. To read from a literal string, wrap it in a 'StringIO' object.\n",
      "  df_table = pd.read_html(str(table), header=0)[0]\n"
     ]
    },
    {
     "name": "stdout",
     "output_type": "stream",
     "text": [
      "Saved HTML to data\\1204239\\transcript_1204239.html\n",
      "Saved DataFrame to data\\1204239\\transcript_1204239.csv\n"
     ]
    },
    {
     "name": "stderr",
     "output_type": "stream",
     "text": [
      "C:\\Users\\javie\\AppData\\Local\\Temp\\ipykernel_11860\\421169734.py:32: FutureWarning: Passing literal html to 'read_html' is deprecated and will be removed in a future version. To read from a literal string, wrap it in a 'StringIO' object.\n",
      "  df_table = pd.read_html(str(table), header=0)[0]\n"
     ]
    },
    {
     "name": "stdout",
     "output_type": "stream",
     "text": [
      "Saved HTML to data\\1204691\\transcript_1204691.html\n",
      "Saved DataFrame to data\\1204691\\transcript_1204691.csv\n"
     ]
    },
    {
     "name": "stderr",
     "output_type": "stream",
     "text": [
      "C:\\Users\\javie\\AppData\\Local\\Temp\\ipykernel_11860\\421169734.py:32: FutureWarning: Passing literal html to 'read_html' is deprecated and will be removed in a future version. To read from a literal string, wrap it in a 'StringIO' object.\n",
      "  df_table = pd.read_html(str(table), header=0)[0]\n"
     ]
    },
    {
     "name": "stdout",
     "output_type": "stream",
     "text": [
      "Saved HTML to data\\1204694\\transcript_1204694.html\n",
      "Saved DataFrame to data\\1204694\\transcript_1204694.csv\n"
     ]
    },
    {
     "name": "stderr",
     "output_type": "stream",
     "text": [
      "C:\\Users\\javie\\AppData\\Local\\Temp\\ipykernel_11860\\421169734.py:32: FutureWarning: Passing literal html to 'read_html' is deprecated and will be removed in a future version. To read from a literal string, wrap it in a 'StringIO' object.\n",
      "  df_table = pd.read_html(str(table), header=0)[0]\n"
     ]
    },
    {
     "name": "stdout",
     "output_type": "stream",
     "text": [
      "Saved HTML to data\\1204877\\transcript_1204877.html\n",
      "Saved DataFrame to data\\1204877\\transcript_1204877.csv\n"
     ]
    },
    {
     "name": "stderr",
     "output_type": "stream",
     "text": [
      "C:\\Users\\javie\\AppData\\Local\\Temp\\ipykernel_11860\\421169734.py:32: FutureWarning: Passing literal html to 'read_html' is deprecated and will be removed in a future version. To read from a literal string, wrap it in a 'StringIO' object.\n",
      "  df_table = pd.read_html(str(table), header=0)[0]\n"
     ]
    },
    {
     "name": "stdout",
     "output_type": "stream",
     "text": [
      "Saved HTML to data\\1204891\\transcript_1204891.html\n",
      "Saved DataFrame to data\\1204891\\transcript_1204891.csv\n"
     ]
    },
    {
     "name": "stderr",
     "output_type": "stream",
     "text": [
      "C:\\Users\\javie\\AppData\\Local\\Temp\\ipykernel_11860\\421169734.py:32: FutureWarning: Passing literal html to 'read_html' is deprecated and will be removed in a future version. To read from a literal string, wrap it in a 'StringIO' object.\n",
      "  df_table = pd.read_html(str(table), header=0)[0]\n"
     ]
    },
    {
     "name": "stdout",
     "output_type": "stream",
     "text": [
      "Saved HTML to data\\1205124\\transcript_1205124.html\n",
      "Saved DataFrame to data\\1205124\\transcript_1205124.csv\n"
     ]
    },
    {
     "name": "stderr",
     "output_type": "stream",
     "text": [
      "C:\\Users\\javie\\AppData\\Local\\Temp\\ipykernel_11860\\421169734.py:32: FutureWarning: Passing literal html to 'read_html' is deprecated and will be removed in a future version. To read from a literal string, wrap it in a 'StringIO' object.\n",
      "  df_table = pd.read_html(str(table), header=0)[0]\n"
     ]
    },
    {
     "name": "stdout",
     "output_type": "stream",
     "text": [
      "Saved HTML to data\\1205168\\transcript_1205168.html\n",
      "Saved DataFrame to data\\1205168\\transcript_1205168.csv\n",
      "Saved HTML to data\\1205359\\transcript_1205359.html\n",
      "Saved DataFrame to data\\1205359\\transcript_1205359.csv\n"
     ]
    },
    {
     "name": "stderr",
     "output_type": "stream",
     "text": [
      "C:\\Users\\javie\\AppData\\Local\\Temp\\ipykernel_11860\\421169734.py:32: FutureWarning: Passing literal html to 'read_html' is deprecated and will be removed in a future version. To read from a literal string, wrap it in a 'StringIO' object.\n",
      "  df_table = pd.read_html(str(table), header=0)[0]\n",
      "C:\\Users\\javie\\AppData\\Local\\Temp\\ipykernel_11860\\421169734.py:32: FutureWarning: Passing literal html to 'read_html' is deprecated and will be removed in a future version. To read from a literal string, wrap it in a 'StringIO' object.\n",
      "  df_table = pd.read_html(str(table), header=0)[0]\n"
     ]
    },
    {
     "name": "stdout",
     "output_type": "stream",
     "text": [
      "Saved HTML to data\\1205361\\transcript_1205361.html\n",
      "Saved DataFrame to data\\1205361\\transcript_1205361.csv\n"
     ]
    },
    {
     "name": "stderr",
     "output_type": "stream",
     "text": [
      "C:\\Users\\javie\\AppData\\Local\\Temp\\ipykernel_11860\\421169734.py:32: FutureWarning: Passing literal html to 'read_html' is deprecated and will be removed in a future version. To read from a literal string, wrap it in a 'StringIO' object.\n",
      "  df_table = pd.read_html(str(table), header=0)[0]\n"
     ]
    },
    {
     "name": "stdout",
     "output_type": "stream",
     "text": [
      "Saved HTML to data\\1205503\\transcript_1205503.html\n",
      "Saved DataFrame to data\\1205503\\transcript_1205503.csv\n",
      "Saved HTML to data\\1205563\\transcript_1205563.html\n"
     ]
    },
    {
     "name": "stderr",
     "output_type": "stream",
     "text": [
      "C:\\Users\\javie\\AppData\\Local\\Temp\\ipykernel_11860\\421169734.py:32: FutureWarning: Passing literal html to 'read_html' is deprecated and will be removed in a future version. To read from a literal string, wrap it in a 'StringIO' object.\n",
      "  df_table = pd.read_html(str(table), header=0)[0]\n"
     ]
    },
    {
     "name": "stdout",
     "output_type": "stream",
     "text": [
      "Saved DataFrame to data\\1205563\\transcript_1205563.csv\n"
     ]
    },
    {
     "name": "stderr",
     "output_type": "stream",
     "text": [
      "C:\\Users\\javie\\AppData\\Local\\Temp\\ipykernel_11860\\421169734.py:32: FutureWarning: Passing literal html to 'read_html' is deprecated and will be removed in a future version. To read from a literal string, wrap it in a 'StringIO' object.\n",
      "  df_table = pd.read_html(str(table), header=0)[0]\n"
     ]
    },
    {
     "name": "stdout",
     "output_type": "stream",
     "text": [
      "Saved HTML to data\\1205568\\transcript_1205568.html\n",
      "Saved DataFrame to data\\1205568\\transcript_1205568.csv\n"
     ]
    },
    {
     "name": "stderr",
     "output_type": "stream",
     "text": [
      "C:\\Users\\javie\\AppData\\Local\\Temp\\ipykernel_11860\\421169734.py:32: FutureWarning: Passing literal html to 'read_html' is deprecated and will be removed in a future version. To read from a literal string, wrap it in a 'StringIO' object.\n",
      "  df_table = pd.read_html(str(table), header=0)[0]\n"
     ]
    },
    {
     "name": "stdout",
     "output_type": "stream",
     "text": [
      "Saved HTML to data\\1205699\\transcript_1205699.html\n",
      "Saved DataFrame to data\\1205699\\transcript_1205699.csv\n",
      "Saved HTML to data\\1205794\\transcript_1205794.html\n",
      "Saved DataFrame to data\\1205794\\transcript_1205794.csv\n"
     ]
    },
    {
     "name": "stderr",
     "output_type": "stream",
     "text": [
      "C:\\Users\\javie\\AppData\\Local\\Temp\\ipykernel_11860\\421169734.py:32: FutureWarning: Passing literal html to 'read_html' is deprecated and will be removed in a future version. To read from a literal string, wrap it in a 'StringIO' object.\n",
      "  df_table = pd.read_html(str(table), header=0)[0]\n",
      "C:\\Users\\javie\\AppData\\Local\\Temp\\ipykernel_11860\\421169734.py:32: FutureWarning: Passing literal html to 'read_html' is deprecated and will be removed in a future version. To read from a literal string, wrap it in a 'StringIO' object.\n",
      "  df_table = pd.read_html(str(table), header=0)[0]\n"
     ]
    },
    {
     "name": "stdout",
     "output_type": "stream",
     "text": [
      "Saved HTML to data\\1205821\\transcript_1205821.html\n",
      "Saved DataFrame to data\\1205821\\transcript_1205821.csv\n"
     ]
    },
    {
     "name": "stderr",
     "output_type": "stream",
     "text": [
      "C:\\Users\\javie\\AppData\\Local\\Temp\\ipykernel_11860\\421169734.py:32: FutureWarning: Passing literal html to 'read_html' is deprecated and will be removed in a future version. To read from a literal string, wrap it in a 'StringIO' object.\n",
      "  df_table = pd.read_html(str(table), header=0)[0]\n"
     ]
    },
    {
     "name": "stdout",
     "output_type": "stream",
     "text": [
      "Saved HTML to data\\1205951\\transcript_1205951.html\n",
      "Saved DataFrame to data\\1205951\\transcript_1205951.csv\n",
      "Saved HTML to data\\1206003\\transcript_1206003.html\n",
      "Saved DataFrame to data\\1206003\\transcript_1206003.csv\n"
     ]
    },
    {
     "name": "stderr",
     "output_type": "stream",
     "text": [
      "C:\\Users\\javie\\AppData\\Local\\Temp\\ipykernel_11860\\421169734.py:32: FutureWarning: Passing literal html to 'read_html' is deprecated and will be removed in a future version. To read from a literal string, wrap it in a 'StringIO' object.\n",
      "  df_table = pd.read_html(str(table), header=0)[0]\n",
      "C:\\Users\\javie\\AppData\\Local\\Temp\\ipykernel_11860\\421169734.py:32: FutureWarning: Passing literal html to 'read_html' is deprecated and will be removed in a future version. To read from a literal string, wrap it in a 'StringIO' object.\n",
      "  df_table = pd.read_html(str(table), header=0)[0]\n"
     ]
    },
    {
     "name": "stdout",
     "output_type": "stream",
     "text": [
      "Saved HTML to data\\1206010\\transcript_1206010.html\n",
      "Saved DataFrame to data\\1206010\\transcript_1206010.csv\n"
     ]
    },
    {
     "name": "stderr",
     "output_type": "stream",
     "text": [
      "C:\\Users\\javie\\AppData\\Local\\Temp\\ipykernel_11860\\421169734.py:32: FutureWarning: Passing literal html to 'read_html' is deprecated and will be removed in a future version. To read from a literal string, wrap it in a 'StringIO' object.\n",
      "  df_table = pd.read_html(str(table), header=0)[0]\n"
     ]
    },
    {
     "name": "stdout",
     "output_type": "stream",
     "text": [
      "Saved HTML to data\\1206131\\transcript_1206131.html\n",
      "Saved DataFrame to data\\1206131\\transcript_1206131.csv\n"
     ]
    },
    {
     "name": "stderr",
     "output_type": "stream",
     "text": [
      "C:\\Users\\javie\\AppData\\Local\\Temp\\ipykernel_11860\\421169734.py:32: FutureWarning: Passing literal html to 'read_html' is deprecated and will be removed in a future version. To read from a literal string, wrap it in a 'StringIO' object.\n",
      "  df_table = pd.read_html(str(table), header=0)[0]\n"
     ]
    },
    {
     "name": "stdout",
     "output_type": "stream",
     "text": [
      "Saved HTML to data\\1206143\\transcript_1206143.html\n",
      "Saved DataFrame to data\\1206143\\transcript_1206143.csv\n"
     ]
    },
    {
     "name": "stderr",
     "output_type": "stream",
     "text": [
      "C:\\Users\\javie\\AppData\\Local\\Temp\\ipykernel_11860\\421169734.py:32: FutureWarning: Passing literal html to 'read_html' is deprecated and will be removed in a future version. To read from a literal string, wrap it in a 'StringIO' object.\n",
      "  df_table = pd.read_html(str(table), header=0)[0]\n"
     ]
    },
    {
     "name": "stdout",
     "output_type": "stream",
     "text": [
      "Saved HTML to data\\1206172\\transcript_1206172.html\n",
      "Saved DataFrame to data\\1206172\\transcript_1206172.csv\n",
      "Saved HTML to data\\1208788\\transcript_1208788.html\n",
      "Saved DataFrame to data\\1208788\\transcript_1208788.csv\n"
     ]
    },
    {
     "name": "stderr",
     "output_type": "stream",
     "text": [
      "C:\\Users\\javie\\AppData\\Local\\Temp\\ipykernel_11860\\421169734.py:32: FutureWarning: Passing literal html to 'read_html' is deprecated and will be removed in a future version. To read from a literal string, wrap it in a 'StringIO' object.\n",
      "  df_table = pd.read_html(str(table), header=0)[0]\n",
      "C:\\Users\\javie\\AppData\\Local\\Temp\\ipykernel_11860\\421169734.py:32: FutureWarning: Passing literal html to 'read_html' is deprecated and will be removed in a future version. To read from a literal string, wrap it in a 'StringIO' object.\n",
      "  df_table = pd.read_html(str(table), header=0)[0]\n"
     ]
    },
    {
     "name": "stdout",
     "output_type": "stream",
     "text": [
      "Saved HTML to data\\1208790\\transcript_1208790.html\n",
      "Saved DataFrame to data\\1208790\\transcript_1208790.csv\n"
     ]
    },
    {
     "name": "stderr",
     "output_type": "stream",
     "text": [
      "C:\\Users\\javie\\AppData\\Local\\Temp\\ipykernel_11860\\421169734.py:32: FutureWarning: Passing literal html to 'read_html' is deprecated and will be removed in a future version. To read from a literal string, wrap it in a 'StringIO' object.\n",
      "  df_table = pd.read_html(str(table), header=0)[0]\n"
     ]
    },
    {
     "name": "stdout",
     "output_type": "stream",
     "text": [
      "Saved HTML to data\\1209006\\transcript_1209006.html\n",
      "Saved DataFrame to data\\1209006\\transcript_1209006.csv\n"
     ]
    },
    {
     "name": "stderr",
     "output_type": "stream",
     "text": [
      "C:\\Users\\javie\\AppData\\Local\\Temp\\ipykernel_11860\\421169734.py:32: FutureWarning: Passing literal html to 'read_html' is deprecated and will be removed in a future version. To read from a literal string, wrap it in a 'StringIO' object.\n",
      "  df_table = pd.read_html(str(table), header=0)[0]\n"
     ]
    },
    {
     "name": "stdout",
     "output_type": "stream",
     "text": [
      "Saved HTML to data\\1209037\\transcript_1209037.html\n",
      "Saved DataFrame to data\\1209037\\transcript_1209037.csv\n"
     ]
    },
    {
     "name": "stderr",
     "output_type": "stream",
     "text": [
      "C:\\Users\\javie\\AppData\\Local\\Temp\\ipykernel_11860\\421169734.py:32: FutureWarning: Passing literal html to 'read_html' is deprecated and will be removed in a future version. To read from a literal string, wrap it in a 'StringIO' object.\n",
      "  df_table = pd.read_html(str(table), header=0)[0]\n"
     ]
    },
    {
     "name": "stdout",
     "output_type": "stream",
     "text": [
      "Saved HTML to data\\1209077\\transcript_1209077.html\n",
      "Saved DataFrame to data\\1209077\\transcript_1209077.csv\n"
     ]
    },
    {
     "name": "stderr",
     "output_type": "stream",
     "text": [
      "C:\\Users\\javie\\AppData\\Local\\Temp\\ipykernel_11860\\421169734.py:32: FutureWarning: Passing literal html to 'read_html' is deprecated and will be removed in a future version. To read from a literal string, wrap it in a 'StringIO' object.\n",
      "  df_table = pd.read_html(str(table), header=0)[0]\n"
     ]
    },
    {
     "name": "stdout",
     "output_type": "stream",
     "text": [
      "Saved HTML to data\\1209309-…\\transcript_1209309-….html\n",
      "Saved DataFrame to data\\1209309-…\\transcript_1209309-….csv\n"
     ]
    },
    {
     "name": "stderr",
     "output_type": "stream",
     "text": [
      "C:\\Users\\javie\\AppData\\Local\\Temp\\ipykernel_11860\\421169734.py:32: FutureWarning: Passing literal html to 'read_html' is deprecated and will be removed in a future version. To read from a literal string, wrap it in a 'StringIO' object.\n",
      "  df_table = pd.read_html(str(table), header=0)[0]\n"
     ]
    },
    {
     "name": "stdout",
     "output_type": "stream",
     "text": [
      "Saved HTML to data\\1209309-…\\transcript_1209309-….html\n",
      "Saved DataFrame to data\\1209309-…\\transcript_1209309-….csv\n"
     ]
    },
    {
     "name": "stderr",
     "output_type": "stream",
     "text": [
      "C:\\Users\\javie\\AppData\\Local\\Temp\\ipykernel_11860\\421169734.py:32: FutureWarning: Passing literal html to 'read_html' is deprecated and will be removed in a future version. To read from a literal string, wrap it in a 'StringIO' object.\n",
      "  df_table = pd.read_html(str(table), header=0)[0]\n"
     ]
    },
    {
     "name": "stdout",
     "output_type": "stream",
     "text": [
      "Saved HTML to data\\1209495-…\\transcript_1209495-….html\n",
      "Saved DataFrame to data\\1209495-…\\transcript_1209495-….csv\n"
     ]
    },
    {
     "name": "stderr",
     "output_type": "stream",
     "text": [
      "C:\\Users\\javie\\AppData\\Local\\Temp\\ipykernel_11860\\421169734.py:32: FutureWarning: Passing literal html to 'read_html' is deprecated and will be removed in a future version. To read from a literal string, wrap it in a 'StringIO' object.\n",
      "  df_table = pd.read_html(str(table), header=0)[0]\n"
     ]
    },
    {
     "name": "stdout",
     "output_type": "stream",
     "text": [
      "Saved HTML to data\\1209746\\transcript_1209746.html\n",
      "Saved DataFrame to data\\1209746\\transcript_1209746.csv\n"
     ]
    },
    {
     "name": "stderr",
     "output_type": "stream",
     "text": [
      "C:\\Users\\javie\\AppData\\Local\\Temp\\ipykernel_11860\\421169734.py:32: FutureWarning: Passing literal html to 'read_html' is deprecated and will be removed in a future version. To read from a literal string, wrap it in a 'StringIO' object.\n",
      "  df_table = pd.read_html(str(table), header=0)[0]\n"
     ]
    },
    {
     "name": "stdout",
     "output_type": "stream",
     "text": [
      "Saved HTML to data\\1209910\\transcript_1209910.html\n",
      "Saved DataFrame to data\\1209910\\transcript_1209910.csv\n"
     ]
    },
    {
     "name": "stderr",
     "output_type": "stream",
     "text": [
      "C:\\Users\\javie\\AppData\\Local\\Temp\\ipykernel_11860\\421169734.py:32: FutureWarning: Passing literal html to 'read_html' is deprecated and will be removed in a future version. To read from a literal string, wrap it in a 'StringIO' object.\n",
      "  df_table = pd.read_html(str(table), header=0)[0]\n"
     ]
    },
    {
     "name": "stdout",
     "output_type": "stream",
     "text": [
      "Saved HTML to data\\1210156-…\\transcript_1210156-….html\n",
      "Saved DataFrame to data\\1210156-…\\transcript_1210156-….csv\n"
     ]
    },
    {
     "name": "stderr",
     "output_type": "stream",
     "text": [
      "C:\\Users\\javie\\AppData\\Local\\Temp\\ipykernel_11860\\421169734.py:32: FutureWarning: Passing literal html to 'read_html' is deprecated and will be removed in a future version. To read from a literal string, wrap it in a 'StringIO' object.\n",
      "  df_table = pd.read_html(str(table), header=0)[0]\n"
     ]
    },
    {
     "name": "stdout",
     "output_type": "stream",
     "text": [
      "Saved HTML to data\\1210206-…\\transcript_1210206-….html\n",
      "Saved DataFrame to data\\1210206-…\\transcript_1210206-….csv\n"
     ]
    },
    {
     "name": "stderr",
     "output_type": "stream",
     "text": [
      "C:\\Users\\javie\\AppData\\Local\\Temp\\ipykernel_11860\\421169734.py:32: FutureWarning: Passing literal html to 'read_html' is deprecated and will be removed in a future version. To read from a literal string, wrap it in a 'StringIO' object.\n",
      "  df_table = pd.read_html(str(table), header=0)[0]\n"
     ]
    },
    {
     "name": "stdout",
     "output_type": "stream",
     "text": [
      "Saved HTML to data\\1210206-…\\transcript_1210206-….html\n",
      "Saved DataFrame to data\\1210206-…\\transcript_1210206-….csv\n"
     ]
    },
    {
     "name": "stderr",
     "output_type": "stream",
     "text": [
      "C:\\Users\\javie\\AppData\\Local\\Temp\\ipykernel_11860\\421169734.py:32: FutureWarning: Passing literal html to 'read_html' is deprecated and will be removed in a future version. To read from a literal string, wrap it in a 'StringIO' object.\n",
      "  df_table = pd.read_html(str(table), header=0)[0]\n"
     ]
    },
    {
     "name": "stdout",
     "output_type": "stream",
     "text": [
      "Saved HTML to data\\1210208\\transcript_1210208.html\n",
      "Saved DataFrame to data\\1210208\\transcript_1210208.csv\n",
      "Saved HTML to data\\1210599\\transcript_1210599.html\n",
      "Saved DataFrame to data\\1210599\\transcript_1210599.csv\n"
     ]
    },
    {
     "name": "stderr",
     "output_type": "stream",
     "text": [
      "C:\\Users\\javie\\AppData\\Local\\Temp\\ipykernel_11860\\421169734.py:32: FutureWarning: Passing literal html to 'read_html' is deprecated and will be removed in a future version. To read from a literal string, wrap it in a 'StringIO' object.\n",
      "  df_table = pd.read_html(str(table), header=0)[0]\n",
      "C:\\Users\\javie\\AppData\\Local\\Temp\\ipykernel_11860\\421169734.py:32: FutureWarning: Passing literal html to 'read_html' is deprecated and will be removed in a future version. To read from a literal string, wrap it in a 'StringIO' object.\n",
      "  df_table = pd.read_html(str(table), header=0)[0]\n"
     ]
    },
    {
     "name": "stdout",
     "output_type": "stream",
     "text": [
      "Saved HTML to data\\1210601\\transcript_1210601.html\n",
      "Saved DataFrame to data\\1210601\\transcript_1210601.csv\n"
     ]
    },
    {
     "name": "stderr",
     "output_type": "stream",
     "text": [
      "C:\\Users\\javie\\AppData\\Local\\Temp\\ipykernel_11860\\421169734.py:32: FutureWarning: Passing literal html to 'read_html' is deprecated and will be removed in a future version. To read from a literal string, wrap it in a 'StringIO' object.\n",
      "  df_table = pd.read_html(str(table), header=0)[0]\n"
     ]
    },
    {
     "name": "stdout",
     "output_type": "stream",
     "text": [
      "Saved HTML to data\\1210763\\transcript_1210763.html\n",
      "Saved DataFrame to data\\1210763\\transcript_1210763.csv\n",
      "Saved HTML to data\\1210818\\transcript_1210818.html\n",
      "Saved DataFrame to data\\1210818\\transcript_1210818.csv\n"
     ]
    },
    {
     "name": "stderr",
     "output_type": "stream",
     "text": [
      "C:\\Users\\javie\\AppData\\Local\\Temp\\ipykernel_11860\\421169734.py:32: FutureWarning: Passing literal html to 'read_html' is deprecated and will be removed in a future version. To read from a literal string, wrap it in a 'StringIO' object.\n",
      "  df_table = pd.read_html(str(table), header=0)[0]\n",
      "C:\\Users\\javie\\AppData\\Local\\Temp\\ipykernel_11860\\421169734.py:32: FutureWarning: Passing literal html to 'read_html' is deprecated and will be removed in a future version. To read from a literal string, wrap it in a 'StringIO' object.\n",
      "  df_table = pd.read_html(str(table), header=0)[0]\n"
     ]
    },
    {
     "name": "stdout",
     "output_type": "stream",
     "text": [
      "Saved HTML to data\\1210825\\transcript_1210825.html\n",
      "Saved DataFrame to data\\1210825\\transcript_1210825.csv\n"
     ]
    },
    {
     "name": "stderr",
     "output_type": "stream",
     "text": [
      "C:\\Users\\javie\\AppData\\Local\\Temp\\ipykernel_11860\\421169734.py:32: FutureWarning: Passing literal html to 'read_html' is deprecated and will be removed in a future version. To read from a literal string, wrap it in a 'StringIO' object.\n",
      "  df_table = pd.read_html(str(table), header=0)[0]\n"
     ]
    },
    {
     "name": "stdout",
     "output_type": "stream",
     "text": [
      "Saved HTML to data\\1210997\\transcript_1210997.html\n",
      "Saved DataFrame to data\\1210997\\transcript_1210997.csv\n"
     ]
    },
    {
     "name": "stderr",
     "output_type": "stream",
     "text": [
      "C:\\Users\\javie\\AppData\\Local\\Temp\\ipykernel_11860\\421169734.py:32: FutureWarning: Passing literal html to 'read_html' is deprecated and will be removed in a future version. To read from a literal string, wrap it in a 'StringIO' object.\n",
      "  df_table = pd.read_html(str(table), header=0)[0]\n"
     ]
    },
    {
     "name": "stdout",
     "output_type": "stream",
     "text": [
      "Saved HTML to data\\1211075\\transcript_1211075.html\n",
      "Saved DataFrame to data\\1211075\\transcript_1211075.csv\n"
     ]
    },
    {
     "name": "stderr",
     "output_type": "stream",
     "text": [
      "C:\\Users\\javie\\AppData\\Local\\Temp\\ipykernel_11860\\421169734.py:32: FutureWarning: Passing literal html to 'read_html' is deprecated and will be removed in a future version. To read from a literal string, wrap it in a 'StringIO' object.\n",
      "  df_table = pd.read_html(str(table), header=0)[0]\n"
     ]
    },
    {
     "name": "stdout",
     "output_type": "stream",
     "text": [
      "Saved HTML to data\\1211082-…\\transcript_1211082-….html\n",
      "Saved DataFrame to data\\1211082-…\\transcript_1211082-….csv\n"
     ]
    },
    {
     "name": "stderr",
     "output_type": "stream",
     "text": [
      "C:\\Users\\javie\\AppData\\Local\\Temp\\ipykernel_11860\\421169734.py:32: FutureWarning: Passing literal html to 'read_html' is deprecated and will be removed in a future version. To read from a literal string, wrap it in a 'StringIO' object.\n",
      "  df_table = pd.read_html(str(table), header=0)[0]\n"
     ]
    },
    {
     "name": "stdout",
     "output_type": "stream",
     "text": [
      "Saved HTML to data\\1211278\\transcript_1211278.html\n",
      "Saved DataFrame to data\\1211278\\transcript_1211278.csv\n"
     ]
    },
    {
     "name": "stderr",
     "output_type": "stream",
     "text": [
      "C:\\Users\\javie\\AppData\\Local\\Temp\\ipykernel_11860\\421169734.py:32: FutureWarning: Passing literal html to 'read_html' is deprecated and will be removed in a future version. To read from a literal string, wrap it in a 'StringIO' object.\n",
      "  df_table = pd.read_html(str(table), header=0)[0]\n"
     ]
    },
    {
     "name": "stdout",
     "output_type": "stream",
     "text": [
      "Saved HTML to data\\1211283\\transcript_1211283.html\n",
      "Saved DataFrame to data\\1211283\\transcript_1211283.csv\n"
     ]
    },
    {
     "name": "stderr",
     "output_type": "stream",
     "text": [
      "C:\\Users\\javie\\AppData\\Local\\Temp\\ipykernel_11860\\421169734.py:32: FutureWarning: Passing literal html to 'read_html' is deprecated and will be removed in a future version. To read from a literal string, wrap it in a 'StringIO' object.\n",
      "  df_table = pd.read_html(str(table), header=0)[0]\n"
     ]
    },
    {
     "name": "stdout",
     "output_type": "stream",
     "text": [
      "Saved HTML to data\\1211515\\transcript_1211515.html\n",
      "Saved DataFrame to data\\1211515\\transcript_1211515.csv\n"
     ]
    },
    {
     "name": "stderr",
     "output_type": "stream",
     "text": [
      "C:\\Users\\javie\\AppData\\Local\\Temp\\ipykernel_11860\\421169734.py:32: FutureWarning: Passing literal html to 'read_html' is deprecated and will be removed in a future version. To read from a literal string, wrap it in a 'StringIO' object.\n",
      "  df_table = pd.read_html(str(table), header=0)[0]\n"
     ]
    },
    {
     "name": "stdout",
     "output_type": "stream",
     "text": [
      "Saved HTML to data\\1211531\\transcript_1211531.html\n",
      "Saved DataFrame to data\\1211531\\transcript_1211531.csv\n"
     ]
    },
    {
     "name": "stderr",
     "output_type": "stream",
     "text": [
      "C:\\Users\\javie\\AppData\\Local\\Temp\\ipykernel_11860\\421169734.py:32: FutureWarning: Passing literal html to 'read_html' is deprecated and will be removed in a future version. To read from a literal string, wrap it in a 'StringIO' object.\n",
      "  df_table = pd.read_html(str(table), header=0)[0]\n"
     ]
    },
    {
     "name": "stdout",
     "output_type": "stream",
     "text": [
      "Saved HTML to data\\1211752\\transcript_1211752.html\n",
      "Saved DataFrame to data\\1211752\\transcript_1211752.csv\n"
     ]
    },
    {
     "name": "stderr",
     "output_type": "stream",
     "text": [
      "C:\\Users\\javie\\AppData\\Local\\Temp\\ipykernel_11860\\421169734.py:32: FutureWarning: Passing literal html to 'read_html' is deprecated and will be removed in a future version. To read from a literal string, wrap it in a 'StringIO' object.\n",
      "  df_table = pd.read_html(str(table), header=0)[0]\n"
     ]
    },
    {
     "name": "stdout",
     "output_type": "stream",
     "text": [
      "Saved HTML to data\\1212169\\transcript_1212169.html\n",
      "Saved DataFrame to data\\1212169\\transcript_1212169.csv\n"
     ]
    },
    {
     "name": "stderr",
     "output_type": "stream",
     "text": [
      "C:\\Users\\javie\\AppData\\Local\\Temp\\ipykernel_11860\\421169734.py:32: FutureWarning: Passing literal html to 'read_html' is deprecated and will be removed in a future version. To read from a literal string, wrap it in a 'StringIO' object.\n",
      "  df_table = pd.read_html(str(table), header=0)[0]\n"
     ]
    },
    {
     "name": "stdout",
     "output_type": "stream",
     "text": [
      "Saved HTML to data\\1212171\\transcript_1212171.html\n",
      "Saved DataFrame to data\\1212171\\transcript_1212171.csv\n"
     ]
    },
    {
     "name": "stderr",
     "output_type": "stream",
     "text": [
      "C:\\Users\\javie\\AppData\\Local\\Temp\\ipykernel_11860\\421169734.py:32: FutureWarning: Passing literal html to 'read_html' is deprecated and will be removed in a future version. To read from a literal string, wrap it in a 'StringIO' object.\n",
      "  df_table = pd.read_html(str(table), header=0)[0]\n"
     ]
    },
    {
     "name": "stdout",
     "output_type": "stream",
     "text": [
      "Saved HTML to data\\1212176\\transcript_1212176.html\n",
      "Saved DataFrame to data\\1212176\\transcript_1212176.csv\n"
     ]
    },
    {
     "name": "stderr",
     "output_type": "stream",
     "text": [
      "C:\\Users\\javie\\AppData\\Local\\Temp\\ipykernel_11860\\421169734.py:32: FutureWarning: Passing literal html to 'read_html' is deprecated and will be removed in a future version. To read from a literal string, wrap it in a 'StringIO' object.\n",
      "  df_table = pd.read_html(str(table), header=0)[0]\n"
     ]
    },
    {
     "name": "stdout",
     "output_type": "stream",
     "text": [
      "Saved HTML to data\\1212218\\transcript_1212218.html\n",
      "Saved DataFrame to data\\1212218\\transcript_1212218.csv\n"
     ]
    },
    {
     "name": "stderr",
     "output_type": "stream",
     "text": [
      "C:\\Users\\javie\\AppData\\Local\\Temp\\ipykernel_11860\\421169734.py:32: FutureWarning: Passing literal html to 'read_html' is deprecated and will be removed in a future version. To read from a literal string, wrap it in a 'StringIO' object.\n",
      "  df_table = pd.read_html(str(table), header=0)[0]\n"
     ]
    },
    {
     "name": "stdout",
     "output_type": "stream",
     "text": [
      "Saved HTML to data\\1212402\\transcript_1212402.html\n",
      "Saved DataFrame to data\\1212402\\transcript_1212402.csv\n"
     ]
    },
    {
     "name": "stderr",
     "output_type": "stream",
     "text": [
      "C:\\Users\\javie\\AppData\\Local\\Temp\\ipykernel_11860\\421169734.py:32: FutureWarning: Passing literal html to 'read_html' is deprecated and will be removed in a future version. To read from a literal string, wrap it in a 'StringIO' object.\n",
      "  df_table = pd.read_html(str(table), header=0)[0]\n"
     ]
    },
    {
     "name": "stdout",
     "output_type": "stream",
     "text": [
      "Saved HTML to data\\1212416\\transcript_1212416.html\n",
      "Saved DataFrame to data\\1212416\\transcript_1212416.csv\n",
      "Saved HTML to data\\1212606\\transcript_1212606.html\n",
      "Saved DataFrame to data\\1212606\\transcript_1212606.csv\n"
     ]
    },
    {
     "name": "stderr",
     "output_type": "stream",
     "text": [
      "C:\\Users\\javie\\AppData\\Local\\Temp\\ipykernel_11860\\421169734.py:32: FutureWarning: Passing literal html to 'read_html' is deprecated and will be removed in a future version. To read from a literal string, wrap it in a 'StringIO' object.\n",
      "  df_table = pd.read_html(str(table), header=0)[0]\n",
      "C:\\Users\\javie\\AppData\\Local\\Temp\\ipykernel_11860\\421169734.py:32: FutureWarning: Passing literal html to 'read_html' is deprecated and will be removed in a future version. To read from a literal string, wrap it in a 'StringIO' object.\n",
      "  df_table = pd.read_html(str(table), header=0)[0]\n"
     ]
    },
    {
     "name": "stdout",
     "output_type": "stream",
     "text": [
      "Saved HTML to data\\1212611\\transcript_1212611.html\n",
      "Saved DataFrame to data\\1212611\\transcript_1212611.csv\n"
     ]
    },
    {
     "name": "stderr",
     "output_type": "stream",
     "text": [
      "C:\\Users\\javie\\AppData\\Local\\Temp\\ipykernel_11860\\421169734.py:32: FutureWarning: Passing literal html to 'read_html' is deprecated and will be removed in a future version. To read from a literal string, wrap it in a 'StringIO' object.\n",
      "  df_table = pd.read_html(str(table), header=0)[0]\n"
     ]
    },
    {
     "name": "stdout",
     "output_type": "stream",
     "text": [
      "Saved HTML to data\\1220195\\transcript_1220195.html\n",
      "Saved DataFrame to data\\1220195\\transcript_1220195.csv\n"
     ]
    },
    {
     "name": "stderr",
     "output_type": "stream",
     "text": [
      "C:\\Users\\javie\\AppData\\Local\\Temp\\ipykernel_11860\\421169734.py:32: FutureWarning: Passing literal html to 'read_html' is deprecated and will be removed in a future version. To read from a literal string, wrap it in a 'StringIO' object.\n",
      "  df_table = pd.read_html(str(table), header=0)[0]\n"
     ]
    },
    {
     "name": "stdout",
     "output_type": "stream",
     "text": [
      "Saved HTML to data\\1220196-…\\transcript_1220196-….html\n",
      "Saved DataFrame to data\\1220196-…\\transcript_1220196-….csv\n",
      "Saved HTML to data\\1244540\\transcript_1244540.html\n",
      "Saved DataFrame to data\\1244540\\transcript_1244540.csv\n"
     ]
    },
    {
     "name": "stderr",
     "output_type": "stream",
     "text": [
      "C:\\Users\\javie\\AppData\\Local\\Temp\\ipykernel_11860\\421169734.py:32: FutureWarning: Passing literal html to 'read_html' is deprecated and will be removed in a future version. To read from a literal string, wrap it in a 'StringIO' object.\n",
      "  df_table = pd.read_html(str(table), header=0)[0]\n",
      "C:\\Users\\javie\\AppData\\Local\\Temp\\ipykernel_11860\\421169734.py:32: FutureWarning: Passing literal html to 'read_html' is deprecated and will be removed in a future version. To read from a literal string, wrap it in a 'StringIO' object.\n",
      "  df_table = pd.read_html(str(table), header=0)[0]\n"
     ]
    },
    {
     "name": "stdout",
     "output_type": "stream",
     "text": [
      "Saved HTML to data\\1244581\\transcript_1244581.html\n",
      "Saved DataFrame to data\\1244581\\transcript_1244581.csv\n"
     ]
    },
    {
     "name": "stderr",
     "output_type": "stream",
     "text": [
      "C:\\Users\\javie\\AppData\\Local\\Temp\\ipykernel_11860\\421169734.py:32: FutureWarning: Passing literal html to 'read_html' is deprecated and will be removed in a future version. To read from a literal string, wrap it in a 'StringIO' object.\n",
      "  df_table = pd.read_html(str(table), header=0)[0]\n"
     ]
    },
    {
     "name": "stdout",
     "output_type": "stream",
     "text": [
      "Saved HTML to data\\1244742\\transcript_1244742.html\n",
      "Saved DataFrame to data\\1244742\\transcript_1244742.csv\n",
      "Saved HTML to data\\1244771\\transcript_1244771.html\n",
      "Saved DataFrame to data\\1244771\\transcript_1244771.csv\n"
     ]
    },
    {
     "name": "stderr",
     "output_type": "stream",
     "text": [
      "C:\\Users\\javie\\AppData\\Local\\Temp\\ipykernel_11860\\421169734.py:32: FutureWarning: Passing literal html to 'read_html' is deprecated and will be removed in a future version. To read from a literal string, wrap it in a 'StringIO' object.\n",
      "  df_table = pd.read_html(str(table), header=0)[0]\n",
      "C:\\Users\\javie\\AppData\\Local\\Temp\\ipykernel_11860\\421169734.py:32: FutureWarning: Passing literal html to 'read_html' is deprecated and will be removed in a future version. To read from a literal string, wrap it in a 'StringIO' object.\n",
      "  df_table = pd.read_html(str(table), header=0)[0]\n"
     ]
    },
    {
     "name": "stdout",
     "output_type": "stream",
     "text": [
      "Saved HTML to data\\1244796\\transcript_1244796.html\n",
      "Saved DataFrame to data\\1244796\\transcript_1244796.csv\n"
     ]
    },
    {
     "name": "stderr",
     "output_type": "stream",
     "text": [
      "C:\\Users\\javie\\AppData\\Local\\Temp\\ipykernel_11860\\421169734.py:32: FutureWarning: Passing literal html to 'read_html' is deprecated and will be removed in a future version. To read from a literal string, wrap it in a 'StringIO' object.\n",
      "  df_table = pd.read_html(str(table), header=0)[0]\n"
     ]
    },
    {
     "name": "stdout",
     "output_type": "stream",
     "text": [
      "Saved HTML to data\\1244978\\transcript_1244978.html\n",
      "Saved DataFrame to data\\1244978\\transcript_1244978.csv\n"
     ]
    },
    {
     "name": "stderr",
     "output_type": "stream",
     "text": [
      "C:\\Users\\javie\\AppData\\Local\\Temp\\ipykernel_11860\\421169734.py:32: FutureWarning: Passing literal html to 'read_html' is deprecated and will be removed in a future version. To read from a literal string, wrap it in a 'StringIO' object.\n",
      "  df_table = pd.read_html(str(table), header=0)[0]\n"
     ]
    },
    {
     "name": "stdout",
     "output_type": "stream",
     "text": [
      "Saved HTML to data\\1245154-…\\transcript_1245154-….html\n",
      "Saved DataFrame to data\\1245154-…\\transcript_1245154-….csv\n"
     ]
    },
    {
     "name": "stderr",
     "output_type": "stream",
     "text": [
      "C:\\Users\\javie\\AppData\\Local\\Temp\\ipykernel_11860\\421169734.py:32: FutureWarning: Passing literal html to 'read_html' is deprecated and will be removed in a future version. To read from a literal string, wrap it in a 'StringIO' object.\n",
      "  df_table = pd.read_html(str(table), header=0)[0]\n"
     ]
    },
    {
     "name": "stdout",
     "output_type": "stream",
     "text": [
      "Saved HTML to data\\1245356\\transcript_1245356.html\n",
      "Saved DataFrame to data\\1245356\\transcript_1245356.csv\n"
     ]
    },
    {
     "name": "stderr",
     "output_type": "stream",
     "text": [
      "C:\\Users\\javie\\AppData\\Local\\Temp\\ipykernel_11860\\421169734.py:32: FutureWarning: Passing literal html to 'read_html' is deprecated and will be removed in a future version. To read from a literal string, wrap it in a 'StringIO' object.\n",
      "  df_table = pd.read_html(str(table), header=0)[0]\n"
     ]
    },
    {
     "name": "stdout",
     "output_type": "stream",
     "text": [
      "Saved HTML to data\\1245390\\transcript_1245390.html\n",
      "Saved DataFrame to data\\1245390\\transcript_1245390.csv\n",
      "Saved HTML to data\\1245418\\transcript_1245418.html\n",
      "Saved DataFrame to data\\1245418\\transcript_1245418.csv\n"
     ]
    },
    {
     "name": "stderr",
     "output_type": "stream",
     "text": [
      "C:\\Users\\javie\\AppData\\Local\\Temp\\ipykernel_11860\\421169734.py:32: FutureWarning: Passing literal html to 'read_html' is deprecated and will be removed in a future version. To read from a literal string, wrap it in a 'StringIO' object.\n",
      "  df_table = pd.read_html(str(table), header=0)[0]\n",
      "C:\\Users\\javie\\AppData\\Local\\Temp\\ipykernel_11860\\421169734.py:32: FutureWarning: Passing literal html to 'read_html' is deprecated and will be removed in a future version. To read from a literal string, wrap it in a 'StringIO' object.\n",
      "  df_table = pd.read_html(str(table), header=0)[0]\n"
     ]
    },
    {
     "name": "stdout",
     "output_type": "stream",
     "text": [
      "Saved HTML to data\\1245462\\transcript_1245462.html\n",
      "Saved DataFrame to data\\1245462\\transcript_1245462.csv\n"
     ]
    },
    {
     "name": "stderr",
     "output_type": "stream",
     "text": [
      "C:\\Users\\javie\\AppData\\Local\\Temp\\ipykernel_11860\\421169734.py:32: FutureWarning: Passing literal html to 'read_html' is deprecated and will be removed in a future version. To read from a literal string, wrap it in a 'StringIO' object.\n",
      "  df_table = pd.read_html(str(table), header=0)[0]\n",
      "C:\\Users\\javie\\AppData\\Local\\Temp\\ipykernel_11860\\421169734.py:32: FutureWarning: Passing literal html to 'read_html' is deprecated and will be removed in a future version. To read from a literal string, wrap it in a 'StringIO' object.\n",
      "  df_table = pd.read_html(str(table), header=0)[0]\n"
     ]
    },
    {
     "name": "stdout",
     "output_type": "stream",
     "text": [
      "Saved HTML to data\\1245595\\transcript_1245595.html\n",
      "Saved DataFrame to data\\1245595\\transcript_1245595.csv\n",
      "Saved HTML to data\\1245597\\transcript_1245597.html\n",
      "Saved DataFrame to data\\1245597\\transcript_1245597.csv\n"
     ]
    },
    {
     "name": "stderr",
     "output_type": "stream",
     "text": [
      "C:\\Users\\javie\\AppData\\Local\\Temp\\ipykernel_11860\\421169734.py:32: FutureWarning: Passing literal html to 'read_html' is deprecated and will be removed in a future version. To read from a literal string, wrap it in a 'StringIO' object.\n",
      "  df_table = pd.read_html(str(table), header=0)[0]\n",
      "C:\\Users\\javie\\AppData\\Local\\Temp\\ipykernel_11860\\421169734.py:32: FutureWarning: Passing literal html to 'read_html' is deprecated and will be removed in a future version. To read from a literal string, wrap it in a 'StringIO' object.\n",
      "  df_table = pd.read_html(str(table), header=0)[0]\n"
     ]
    },
    {
     "name": "stdout",
     "output_type": "stream",
     "text": [
      "Saved HTML to data\\1245599\\transcript_1245599.html\n",
      "Saved DataFrame to data\\1245599\\transcript_1245599.csv\n",
      "Saved HTML to data\\1245601\\transcript_1245601.html\n",
      "Saved DataFrame to data\\1245601\\transcript_1245601.csv\n"
     ]
    },
    {
     "name": "stderr",
     "output_type": "stream",
     "text": [
      "C:\\Users\\javie\\AppData\\Local\\Temp\\ipykernel_11860\\421169734.py:32: FutureWarning: Passing literal html to 'read_html' is deprecated and will be removed in a future version. To read from a literal string, wrap it in a 'StringIO' object.\n",
      "  df_table = pd.read_html(str(table), header=0)[0]\n",
      "C:\\Users\\javie\\AppData\\Local\\Temp\\ipykernel_11860\\421169734.py:32: FutureWarning: Passing literal html to 'read_html' is deprecated and will be removed in a future version. To read from a literal string, wrap it in a 'StringIO' object.\n",
      "  df_table = pd.read_html(str(table), header=0)[0]\n"
     ]
    },
    {
     "name": "stdout",
     "output_type": "stream",
     "text": [
      "Saved HTML to data\\1245603\\transcript_1245603.html\n",
      "Saved DataFrame to data\\1245603\\transcript_1245603.csv\n",
      "Saved HTML to data\\1245605\\transcript_1245605.html\n",
      "Saved DataFrame to data\\1245605\\transcript_1245605.csv\n"
     ]
    },
    {
     "name": "stderr",
     "output_type": "stream",
     "text": [
      "C:\\Users\\javie\\AppData\\Local\\Temp\\ipykernel_11860\\421169734.py:32: FutureWarning: Passing literal html to 'read_html' is deprecated and will be removed in a future version. To read from a literal string, wrap it in a 'StringIO' object.\n",
      "  df_table = pd.read_html(str(table), header=0)[0]\n",
      "C:\\Users\\javie\\AppData\\Local\\Temp\\ipykernel_11860\\421169734.py:32: FutureWarning: Passing literal html to 'read_html' is deprecated and will be removed in a future version. To read from a literal string, wrap it in a 'StringIO' object.\n",
      "  df_table = pd.read_html(str(table), header=0)[0]\n"
     ]
    },
    {
     "name": "stdout",
     "output_type": "stream",
     "text": [
      "Saved HTML to data\\1245607\\transcript_1245607.html\n",
      "Saved DataFrame to data\\1245607\\transcript_1245607.csv\n",
      "Saved HTML to data\\1245654\\transcript_1245654.html\n",
      "Saved DataFrame to data\\1245654\\transcript_1245654.csv\n"
     ]
    },
    {
     "name": "stderr",
     "output_type": "stream",
     "text": [
      "C:\\Users\\javie\\AppData\\Local\\Temp\\ipykernel_11860\\421169734.py:32: FutureWarning: Passing literal html to 'read_html' is deprecated and will be removed in a future version. To read from a literal string, wrap it in a 'StringIO' object.\n",
      "  df_table = pd.read_html(str(table), header=0)[0]\n"
     ]
    },
    {
     "name": "stdout",
     "output_type": "stream",
     "text": [
      "Saved HTML to data\\1245820\\transcript_1245820.html\n",
      "Saved DataFrame to data\\1245820\\transcript_1245820.csv\n",
      "Saved HTML to data\\1245834\\transcript_1245834.html\n",
      "Saved DataFrame to data\\1245834\\transcript_1245834.csv\n"
     ]
    },
    {
     "name": "stderr",
     "output_type": "stream",
     "text": [
      "C:\\Users\\javie\\AppData\\Local\\Temp\\ipykernel_11860\\421169734.py:32: FutureWarning: Passing literal html to 'read_html' is deprecated and will be removed in a future version. To read from a literal string, wrap it in a 'StringIO' object.\n",
      "  df_table = pd.read_html(str(table), header=0)[0]\n",
      "C:\\Users\\javie\\AppData\\Local\\Temp\\ipykernel_11860\\421169734.py:32: FutureWarning: Passing literal html to 'read_html' is deprecated and will be removed in a future version. To read from a literal string, wrap it in a 'StringIO' object.\n",
      "  df_table = pd.read_html(str(table), header=0)[0]\n"
     ]
    },
    {
     "name": "stdout",
     "output_type": "stream",
     "text": [
      "Saved HTML to data\\1245887\\transcript_1245887.html\n",
      "Saved DataFrame to data\\1245887\\transcript_1245887.csv\n"
     ]
    },
    {
     "name": "stderr",
     "output_type": "stream",
     "text": [
      "C:\\Users\\javie\\AppData\\Local\\Temp\\ipykernel_11860\\421169734.py:32: FutureWarning: Passing literal html to 'read_html' is deprecated and will be removed in a future version. To read from a literal string, wrap it in a 'StringIO' object.\n",
      "  df_table = pd.read_html(str(table), header=0)[0]\n"
     ]
    },
    {
     "name": "stdout",
     "output_type": "stream",
     "text": [
      "Saved HTML to data\\1246064\\transcript_1246064.html\n",
      "Saved DataFrame to data\\1246064\\transcript_1246064.csv\n"
     ]
    },
    {
     "name": "stderr",
     "output_type": "stream",
     "text": [
      "C:\\Users\\javie\\AppData\\Local\\Temp\\ipykernel_11860\\421169734.py:32: FutureWarning: Passing literal html to 'read_html' is deprecated and will be removed in a future version. To read from a literal string, wrap it in a 'StringIO' object.\n",
      "  df_table = pd.read_html(str(table), header=0)[0]\n"
     ]
    },
    {
     "name": "stdout",
     "output_type": "stream",
     "text": [
      "Saved HTML to data\\1246100\\transcript_1246100.html\n",
      "Saved DataFrame to data\\1246100\\transcript_1246100.csv\n"
     ]
    },
    {
     "name": "stderr",
     "output_type": "stream",
     "text": [
      "C:\\Users\\javie\\AppData\\Local\\Temp\\ipykernel_11860\\421169734.py:32: FutureWarning: Passing literal html to 'read_html' is deprecated and will be removed in a future version. To read from a literal string, wrap it in a 'StringIO' object.\n",
      "  df_table = pd.read_html(str(table), header=0)[0]\n"
     ]
    },
    {
     "name": "stdout",
     "output_type": "stream",
     "text": [
      "Saved HTML to data\\1246102\\transcript_1246102.html\n",
      "Saved DataFrame to data\\1246102\\transcript_1246102.csv\n"
     ]
    },
    {
     "name": "stderr",
     "output_type": "stream",
     "text": [
      "C:\\Users\\javie\\AppData\\Local\\Temp\\ipykernel_11860\\421169734.py:32: FutureWarning: Passing literal html to 'read_html' is deprecated and will be removed in a future version. To read from a literal string, wrap it in a 'StringIO' object.\n",
      "  df_table = pd.read_html(str(table), header=0)[0]\n"
     ]
    },
    {
     "name": "stdout",
     "output_type": "stream",
     "text": [
      "Saved HTML to data\\1246329\\transcript_1246329.html\n",
      "Saved DataFrame to data\\1246329\\transcript_1246329.csv\n"
     ]
    },
    {
     "name": "stderr",
     "output_type": "stream",
     "text": [
      "C:\\Users\\javie\\AppData\\Local\\Temp\\ipykernel_11860\\421169734.py:32: FutureWarning: Passing literal html to 'read_html' is deprecated and will be removed in a future version. To read from a literal string, wrap it in a 'StringIO' object.\n",
      "  df_table = pd.read_html(str(table), header=0)[0]\n"
     ]
    },
    {
     "name": "stdout",
     "output_type": "stream",
     "text": [
      "Saved HTML to data\\1246344\\transcript_1246344.html\n",
      "Saved DataFrame to data\\1246344\\transcript_1246344.csv\n"
     ]
    },
    {
     "name": "stderr",
     "output_type": "stream",
     "text": [
      "C:\\Users\\javie\\AppData\\Local\\Temp\\ipykernel_11860\\421169734.py:32: FutureWarning: Passing literal html to 'read_html' is deprecated and will be removed in a future version. To read from a literal string, wrap it in a 'StringIO' object.\n",
      "  df_table = pd.read_html(str(table), header=0)[0]\n"
     ]
    },
    {
     "name": "stdout",
     "output_type": "stream",
     "text": [
      "Saved HTML to data\\1246566\\transcript_1246566.html\n",
      "Saved DataFrame to data\\1246566\\transcript_1246566.csv\n"
     ]
    },
    {
     "name": "stderr",
     "output_type": "stream",
     "text": [
      "C:\\Users\\javie\\AppData\\Local\\Temp\\ipykernel_11860\\421169734.py:32: FutureWarning: Passing literal html to 'read_html' is deprecated and will be removed in a future version. To read from a literal string, wrap it in a 'StringIO' object.\n",
      "  df_table = pd.read_html(str(table), header=0)[0]\n"
     ]
    },
    {
     "name": "stdout",
     "output_type": "stream",
     "text": [
      "Saved HTML to data\\1246681\\transcript_1246681.html\n",
      "Saved DataFrame to data\\1246681\\transcript_1246681.csv\n",
      "Saved HTML to data\\1246743\\transcript_1246743.html\n",
      "Saved DataFrame to data\\1246743\\transcript_1246743.csv\n"
     ]
    },
    {
     "name": "stderr",
     "output_type": "stream",
     "text": [
      "C:\\Users\\javie\\AppData\\Local\\Temp\\ipykernel_11860\\421169734.py:32: FutureWarning: Passing literal html to 'read_html' is deprecated and will be removed in a future version. To read from a literal string, wrap it in a 'StringIO' object.\n",
      "  df_table = pd.read_html(str(table), header=0)[0]\n",
      "C:\\Users\\javie\\AppData\\Local\\Temp\\ipykernel_11860\\421169734.py:32: FutureWarning: Passing literal html to 'read_html' is deprecated and will be removed in a future version. To read from a literal string, wrap it in a 'StringIO' object.\n",
      "  df_table = pd.read_html(str(table), header=0)[0]\n"
     ]
    },
    {
     "name": "stdout",
     "output_type": "stream",
     "text": [
      "Saved HTML to data\\1246772\\transcript_1246772.html\n",
      "Saved DataFrame to data\\1246772\\transcript_1246772.csv\n",
      "Saved HTML to data\\1246903\\transcript_1246903.html\n",
      "Saved DataFrame to data\\1246903\\transcript_1246903.csv\n"
     ]
    },
    {
     "name": "stderr",
     "output_type": "stream",
     "text": [
      "C:\\Users\\javie\\AppData\\Local\\Temp\\ipykernel_11860\\421169734.py:32: FutureWarning: Passing literal html to 'read_html' is deprecated and will be removed in a future version. To read from a literal string, wrap it in a 'StringIO' object.\n",
      "  df_table = pd.read_html(str(table), header=0)[0]\n",
      "C:\\Users\\javie\\AppData\\Local\\Temp\\ipykernel_11860\\421169734.py:32: FutureWarning: Passing literal html to 'read_html' is deprecated and will be removed in a future version. To read from a literal string, wrap it in a 'StringIO' object.\n",
      "  df_table = pd.read_html(str(table), header=0)[0]\n"
     ]
    },
    {
     "name": "stdout",
     "output_type": "stream",
     "text": [
      "Saved HTML to data\\1247199\\transcript_1247199.html\n",
      "Saved DataFrame to data\\1247199\\transcript_1247199.csv\n"
     ]
    },
    {
     "name": "stderr",
     "output_type": "stream",
     "text": [
      "C:\\Users\\javie\\AppData\\Local\\Temp\\ipykernel_11860\\421169734.py:32: FutureWarning: Passing literal html to 'read_html' is deprecated and will be removed in a future version. To read from a literal string, wrap it in a 'StringIO' object.\n",
      "  df_table = pd.read_html(str(table), header=0)[0]\n"
     ]
    },
    {
     "name": "stdout",
     "output_type": "stream",
     "text": [
      "Saved HTML to data\\1247205\\transcript_1247205.html\n",
      "Saved DataFrame to data\\1247205\\transcript_1247205.csv\n",
      "Saved HTML to data\\1247331\\transcript_1247331.html\n",
      "Saved DataFrame to data\\1247331\\transcript_1247331.csv\n"
     ]
    },
    {
     "name": "stderr",
     "output_type": "stream",
     "text": [
      "C:\\Users\\javie\\AppData\\Local\\Temp\\ipykernel_11860\\421169734.py:32: FutureWarning: Passing literal html to 'read_html' is deprecated and will be removed in a future version. To read from a literal string, wrap it in a 'StringIO' object.\n",
      "  df_table = pd.read_html(str(table), header=0)[0]\n",
      "C:\\Users\\javie\\AppData\\Local\\Temp\\ipykernel_11860\\421169734.py:32: FutureWarning: Passing literal html to 'read_html' is deprecated and will be removed in a future version. To read from a literal string, wrap it in a 'StringIO' object.\n",
      "  df_table = pd.read_html(str(table), header=0)[0]\n"
     ]
    },
    {
     "name": "stdout",
     "output_type": "stream",
     "text": [
      "Saved HTML to data\\1247394\\transcript_1247394.html\n",
      "Saved DataFrame to data\\1247394\\transcript_1247394.csv\n"
     ]
    },
    {
     "name": "stderr",
     "output_type": "stream",
     "text": [
      "C:\\Users\\javie\\AppData\\Local\\Temp\\ipykernel_11860\\421169734.py:32: FutureWarning: Passing literal html to 'read_html' is deprecated and will be removed in a future version. To read from a literal string, wrap it in a 'StringIO' object.\n",
      "  df_table = pd.read_html(str(table), header=0)[0]\n"
     ]
    },
    {
     "name": "stdout",
     "output_type": "stream",
     "text": [
      "Saved HTML to data\\1247525\\transcript_1247525.html\n",
      "Saved DataFrame to data\\1247525\\transcript_1247525.csv\n",
      "Saved HTML to data\\1247595\\transcript_1247595.html\n",
      "Saved DataFrame to data\\1247595\\transcript_1247595.csv\n"
     ]
    },
    {
     "name": "stderr",
     "output_type": "stream",
     "text": [
      "C:\\Users\\javie\\AppData\\Local\\Temp\\ipykernel_11860\\421169734.py:32: FutureWarning: Passing literal html to 'read_html' is deprecated and will be removed in a future version. To read from a literal string, wrap it in a 'StringIO' object.\n",
      "  df_table = pd.read_html(str(table), header=0)[0]\n",
      "C:\\Users\\javie\\AppData\\Local\\Temp\\ipykernel_11860\\421169734.py:32: FutureWarning: Passing literal html to 'read_html' is deprecated and will be removed in a future version. To read from a literal string, wrap it in a 'StringIO' object.\n",
      "  df_table = pd.read_html(str(table), header=0)[0]\n"
     ]
    },
    {
     "name": "stdout",
     "output_type": "stream",
     "text": [
      "Saved HTML to data\\1247641\\transcript_1247641.html\n",
      "Saved DataFrame to data\\1247641\\transcript_1247641.csv\n"
     ]
    },
    {
     "name": "stderr",
     "output_type": "stream",
     "text": [
      "C:\\Users\\javie\\AppData\\Local\\Temp\\ipykernel_11860\\421169734.py:32: FutureWarning: Passing literal html to 'read_html' is deprecated and will be removed in a future version. To read from a literal string, wrap it in a 'StringIO' object.\n",
      "  df_table = pd.read_html(str(table), header=0)[0]\n"
     ]
    },
    {
     "name": "stdout",
     "output_type": "stream",
     "text": [
      "Saved HTML to data\\1247800\\transcript_1247800.html\n",
      "Saved DataFrame to data\\1247800\\transcript_1247800.csv\n"
     ]
    },
    {
     "name": "stderr",
     "output_type": "stream",
     "text": [
      "C:\\Users\\javie\\AppData\\Local\\Temp\\ipykernel_11860\\421169734.py:32: FutureWarning: Passing literal html to 'read_html' is deprecated and will be removed in a future version. To read from a literal string, wrap it in a 'StringIO' object.\n",
      "  df_table = pd.read_html(str(table), header=0)[0]\n"
     ]
    },
    {
     "name": "stdout",
     "output_type": "stream",
     "text": [
      "Saved HTML to data\\1247835\\transcript_1247835.html\n",
      "Saved DataFrame to data\\1247835\\transcript_1247835.csv\n"
     ]
    },
    {
     "name": "stderr",
     "output_type": "stream",
     "text": [
      "C:\\Users\\javie\\AppData\\Local\\Temp\\ipykernel_11860\\421169734.py:32: FutureWarning: Passing literal html to 'read_html' is deprecated and will be removed in a future version. To read from a literal string, wrap it in a 'StringIO' object.\n",
      "  df_table = pd.read_html(str(table), header=0)[0]\n"
     ]
    },
    {
     "name": "stdout",
     "output_type": "stream",
     "text": [
      "Saved HTML to data\\1247849\\transcript_1247849.html\n",
      "Saved DataFrame to data\\1247849\\transcript_1247849.csv\n",
      "Saved HTML to data\\1248040\\transcript_1248040.html\n",
      "Saved DataFrame to data\\1248040\\transcript_1248040.csv\n"
     ]
    },
    {
     "name": "stderr",
     "output_type": "stream",
     "text": [
      "C:\\Users\\javie\\AppData\\Local\\Temp\\ipykernel_11860\\421169734.py:32: FutureWarning: Passing literal html to 'read_html' is deprecated and will be removed in a future version. To read from a literal string, wrap it in a 'StringIO' object.\n",
      "  df_table = pd.read_html(str(table), header=0)[0]\n",
      "C:\\Users\\javie\\AppData\\Local\\Temp\\ipykernel_11860\\421169734.py:32: FutureWarning: Passing literal html to 'read_html' is deprecated and will be removed in a future version. To read from a literal string, wrap it in a 'StringIO' object.\n",
      "  df_table = pd.read_html(str(table), header=0)[0]\n"
     ]
    },
    {
     "name": "stdout",
     "output_type": "stream",
     "text": [
      "Saved HTML to data\\1248042\\transcript_1248042.html\n",
      "Saved DataFrame to data\\1248042\\transcript_1248042.csv\n"
     ]
    },
    {
     "name": "stderr",
     "output_type": "stream",
     "text": [
      "C:\\Users\\javie\\AppData\\Local\\Temp\\ipykernel_11860\\421169734.py:32: FutureWarning: Passing literal html to 'read_html' is deprecated and will be removed in a future version. To read from a literal string, wrap it in a 'StringIO' object.\n",
      "  df_table = pd.read_html(str(table), header=0)[0]\n"
     ]
    },
    {
     "name": "stdout",
     "output_type": "stream",
     "text": [
      "Saved HTML to data\\1248090\\transcript_1248090.html\n",
      "Saved DataFrame to data\\1248090\\transcript_1248090.csv\n"
     ]
    },
    {
     "name": "stderr",
     "output_type": "stream",
     "text": [
      "C:\\Users\\javie\\AppData\\Local\\Temp\\ipykernel_11860\\421169734.py:32: FutureWarning: Passing literal html to 'read_html' is deprecated and will be removed in a future version. To read from a literal string, wrap it in a 'StringIO' object.\n",
      "  df_table = pd.read_html(str(table), header=0)[0]\n"
     ]
    },
    {
     "name": "stdout",
     "output_type": "stream",
     "text": [
      "Saved HTML to data\\1248400\\transcript_1248400.html\n",
      "Saved DataFrame to data\\1248400\\transcript_1248400.csv\n"
     ]
    },
    {
     "name": "stderr",
     "output_type": "stream",
     "text": [
      "C:\\Users\\javie\\AppData\\Local\\Temp\\ipykernel_11860\\421169734.py:32: FutureWarning: Passing literal html to 'read_html' is deprecated and will be removed in a future version. To read from a literal string, wrap it in a 'StringIO' object.\n",
      "  df_table = pd.read_html(str(table), header=0)[0]\n"
     ]
    },
    {
     "name": "stdout",
     "output_type": "stream",
     "text": [
      "Saved HTML to data\\1248505\\transcript_1248505.html\n",
      "Saved DataFrame to data\\1248505\\transcript_1248505.csv\n"
     ]
    },
    {
     "name": "stderr",
     "output_type": "stream",
     "text": [
      "C:\\Users\\javie\\AppData\\Local\\Temp\\ipykernel_11860\\421169734.py:32: FutureWarning: Passing literal html to 'read_html' is deprecated and will be removed in a future version. To read from a literal string, wrap it in a 'StringIO' object.\n",
      "  df_table = pd.read_html(str(table), header=0)[0]\n"
     ]
    },
    {
     "name": "stdout",
     "output_type": "stream",
     "text": [
      "Saved HTML to data\\1248625-…\\transcript_1248625-….html\n",
      "Saved DataFrame to data\\1248625-…\\transcript_1248625-….csv\n",
      "Saved HTML to data\\1248680\\transcript_1248680.html\n",
      "Saved DataFrame to data\\1248680\\transcript_1248680.csv\n"
     ]
    },
    {
     "name": "stderr",
     "output_type": "stream",
     "text": [
      "C:\\Users\\javie\\AppData\\Local\\Temp\\ipykernel_11860\\421169734.py:32: FutureWarning: Passing literal html to 'read_html' is deprecated and will be removed in a future version. To read from a literal string, wrap it in a 'StringIO' object.\n",
      "  df_table = pd.read_html(str(table), header=0)[0]\n",
      "C:\\Users\\javie\\AppData\\Local\\Temp\\ipykernel_11860\\421169734.py:32: FutureWarning: Passing literal html to 'read_html' is deprecated and will be removed in a future version. To read from a literal string, wrap it in a 'StringIO' object.\n",
      "  df_table = pd.read_html(str(table), header=0)[0]\n"
     ]
    },
    {
     "name": "stdout",
     "output_type": "stream",
     "text": [
      "Saved HTML to data\\1248699\\transcript_1248699.html\n",
      "Saved DataFrame to data\\1248699\\transcript_1248699.csv\n"
     ]
    },
    {
     "name": "stderr",
     "output_type": "stream",
     "text": [
      "C:\\Users\\javie\\AppData\\Local\\Temp\\ipykernel_11860\\421169734.py:32: FutureWarning: Passing literal html to 'read_html' is deprecated and will be removed in a future version. To read from a literal string, wrap it in a 'StringIO' object.\n",
      "  df_table = pd.read_html(str(table), header=0)[0]\n"
     ]
    },
    {
     "name": "stdout",
     "output_type": "stream",
     "text": [
      "Saved HTML to data\\1248862\\transcript_1248862.html\n",
      "Saved DataFrame to data\\1248862\\transcript_1248862.csv\n",
      "Saved HTML to data\\1248889\\transcript_1248889.html\n",
      "Saved DataFrame to data\\1248889\\transcript_1248889.csv\n"
     ]
    },
    {
     "name": "stderr",
     "output_type": "stream",
     "text": [
      "C:\\Users\\javie\\AppData\\Local\\Temp\\ipykernel_11860\\421169734.py:32: FutureWarning: Passing literal html to 'read_html' is deprecated and will be removed in a future version. To read from a literal string, wrap it in a 'StringIO' object.\n",
      "  df_table = pd.read_html(str(table), header=0)[0]\n",
      "C:\\Users\\javie\\AppData\\Local\\Temp\\ipykernel_11860\\421169734.py:32: FutureWarning: Passing literal html to 'read_html' is deprecated and will be removed in a future version. To read from a literal string, wrap it in a 'StringIO' object.\n",
      "  df_table = pd.read_html(str(table), header=0)[0]\n"
     ]
    },
    {
     "name": "stdout",
     "output_type": "stream",
     "text": [
      "Saved HTML to data\\1248941-…\\transcript_1248941-….html\n",
      "Saved DataFrame to data\\1248941-…\\transcript_1248941-….csv\n"
     ]
    },
    {
     "name": "stderr",
     "output_type": "stream",
     "text": [
      "C:\\Users\\javie\\AppData\\Local\\Temp\\ipykernel_11860\\421169734.py:32: FutureWarning: Passing literal html to 'read_html' is deprecated and will be removed in a future version. To read from a literal string, wrap it in a 'StringIO' object.\n",
      "  df_table = pd.read_html(str(table), header=0)[0]\n"
     ]
    },
    {
     "name": "stdout",
     "output_type": "stream",
     "text": [
      "Saved HTML to data\\1248941-…\\transcript_1248941-….html\n",
      "Saved DataFrame to data\\1248941-…\\transcript_1248941-….csv\n"
     ]
    },
    {
     "name": "stderr",
     "output_type": "stream",
     "text": [
      "C:\\Users\\javie\\AppData\\Local\\Temp\\ipykernel_11860\\421169734.py:32: FutureWarning: Passing literal html to 'read_html' is deprecated and will be removed in a future version. To read from a literal string, wrap it in a 'StringIO' object.\n",
      "  df_table = pd.read_html(str(table), header=0)[0]\n"
     ]
    },
    {
     "name": "stdout",
     "output_type": "stream",
     "text": [
      "Saved HTML to data\\1249074\\transcript_1249074.html\n",
      "Saved DataFrame to data\\1249074\\transcript_1249074.csv\n"
     ]
    },
    {
     "name": "stderr",
     "output_type": "stream",
     "text": [
      "C:\\Users\\javie\\AppData\\Local\\Temp\\ipykernel_11860\\421169734.py:32: FutureWarning: Passing literal html to 'read_html' is deprecated and will be removed in a future version. To read from a literal string, wrap it in a 'StringIO' object.\n",
      "  df_table = pd.read_html(str(table), header=0)[0]\n"
     ]
    },
    {
     "name": "stdout",
     "output_type": "stream",
     "text": [
      "Saved HTML to data\\1249131-…\\transcript_1249131-….html\n",
      "Saved DataFrame to data\\1249131-…\\transcript_1249131-….csv\n"
     ]
    },
    {
     "name": "stderr",
     "output_type": "stream",
     "text": [
      "C:\\Users\\javie\\AppData\\Local\\Temp\\ipykernel_11860\\421169734.py:32: FutureWarning: Passing literal html to 'read_html' is deprecated and will be removed in a future version. To read from a literal string, wrap it in a 'StringIO' object.\n",
      "  df_table = pd.read_html(str(table), header=0)[0]\n"
     ]
    },
    {
     "name": "stdout",
     "output_type": "stream",
     "text": [
      "Saved HTML to data\\1249280-…\\transcript_1249280-….html\n",
      "Saved DataFrame to data\\1249280-…\\transcript_1249280-….csv\n"
     ]
    },
    {
     "name": "stderr",
     "output_type": "stream",
     "text": [
      "C:\\Users\\javie\\AppData\\Local\\Temp\\ipykernel_11860\\421169734.py:32: FutureWarning: Passing literal html to 'read_html' is deprecated and will be removed in a future version. To read from a literal string, wrap it in a 'StringIO' object.\n",
      "  df_table = pd.read_html(str(table), header=0)[0]\n"
     ]
    },
    {
     "name": "stdout",
     "output_type": "stream",
     "text": [
      "Saved HTML to data\\1249302\\transcript_1249302.html\n",
      "Saved DataFrame to data\\1249302\\transcript_1249302.csv\n"
     ]
    },
    {
     "name": "stderr",
     "output_type": "stream",
     "text": [
      "C:\\Users\\javie\\AppData\\Local\\Temp\\ipykernel_11860\\421169734.py:32: FutureWarning: Passing literal html to 'read_html' is deprecated and will be removed in a future version. To read from a literal string, wrap it in a 'StringIO' object.\n",
      "  df_table = pd.read_html(str(table), header=0)[0]\n"
     ]
    },
    {
     "name": "stdout",
     "output_type": "stream",
     "text": [
      "Saved HTML to data\\1249376\\transcript_1249376.html\n",
      "Saved DataFrame to data\\1249376\\transcript_1249376.csv\n"
     ]
    },
    {
     "name": "stderr",
     "output_type": "stream",
     "text": [
      "C:\\Users\\javie\\AppData\\Local\\Temp\\ipykernel_11860\\421169734.py:32: FutureWarning: Passing literal html to 'read_html' is deprecated and will be removed in a future version. To read from a literal string, wrap it in a 'StringIO' object.\n",
      "  df_table = pd.read_html(str(table), header=0)[0]\n"
     ]
    },
    {
     "name": "stdout",
     "output_type": "stream",
     "text": [
      "Saved HTML to data\\1249542\\transcript_1249542.html\n",
      "Saved DataFrame to data\\1249542\\transcript_1249542.csv\n"
     ]
    },
    {
     "name": "stderr",
     "output_type": "stream",
     "text": [
      "C:\\Users\\javie\\AppData\\Local\\Temp\\ipykernel_11860\\421169734.py:32: FutureWarning: Passing literal html to 'read_html' is deprecated and will be removed in a future version. To read from a literal string, wrap it in a 'StringIO' object.\n",
      "  df_table = pd.read_html(str(table), header=0)[0]\n"
     ]
    },
    {
     "name": "stdout",
     "output_type": "stream",
     "text": [
      "Saved HTML to data\\1249620\\transcript_1249620.html\n",
      "Saved DataFrame to data\\1249620\\transcript_1249620.csv\n"
     ]
    },
    {
     "name": "stderr",
     "output_type": "stream",
     "text": [
      "C:\\Users\\javie\\AppData\\Local\\Temp\\ipykernel_11860\\421169734.py:32: FutureWarning: Passing literal html to 'read_html' is deprecated and will be removed in a future version. To read from a literal string, wrap it in a 'StringIO' object.\n",
      "  df_table = pd.read_html(str(table), header=0)[0]\n"
     ]
    },
    {
     "name": "stdout",
     "output_type": "stream",
     "text": [
      "Saved HTML to data\\1249741\\transcript_1249741.html\n",
      "Saved DataFrame to data\\1249741\\transcript_1249741.csv\n"
     ]
    },
    {
     "name": "stderr",
     "output_type": "stream",
     "text": [
      "C:\\Users\\javie\\AppData\\Local\\Temp\\ipykernel_11860\\421169734.py:32: FutureWarning: Passing literal html to 'read_html' is deprecated and will be removed in a future version. To read from a literal string, wrap it in a 'StringIO' object.\n",
      "  df_table = pd.read_html(str(table), header=0)[0]\n"
     ]
    },
    {
     "name": "stdout",
     "output_type": "stream",
     "text": [
      "Saved HTML to data\\1249951\\transcript_1249951.html\n",
      "Saved DataFrame to data\\1249951\\transcript_1249951.csv\n"
     ]
    },
    {
     "name": "stderr",
     "output_type": "stream",
     "text": [
      "C:\\Users\\javie\\AppData\\Local\\Temp\\ipykernel_11860\\421169734.py:32: FutureWarning: Passing literal html to 'read_html' is deprecated and will be removed in a future version. To read from a literal string, wrap it in a 'StringIO' object.\n",
      "  df_table = pd.read_html(str(table), header=0)[0]\n"
     ]
    },
    {
     "name": "stdout",
     "output_type": "stream",
     "text": [
      "Saved HTML to data\\1249965-…\\transcript_1249965-….html\n",
      "Saved DataFrame to data\\1249965-…\\transcript_1249965-….csv\n"
     ]
    },
    {
     "name": "stderr",
     "output_type": "stream",
     "text": [
      "C:\\Users\\javie\\AppData\\Local\\Temp\\ipykernel_11860\\421169734.py:32: FutureWarning: Passing literal html to 'read_html' is deprecated and will be removed in a future version. To read from a literal string, wrap it in a 'StringIO' object.\n",
      "  df_table = pd.read_html(str(table), header=0)[0]\n"
     ]
    },
    {
     "name": "stdout",
     "output_type": "stream",
     "text": [
      "Saved HTML to data\\1250059\\transcript_1250059.html\n",
      "Saved DataFrame to data\\1250059\\transcript_1250059.csv\n"
     ]
    },
    {
     "name": "stderr",
     "output_type": "stream",
     "text": [
      "C:\\Users\\javie\\AppData\\Local\\Temp\\ipykernel_11860\\421169734.py:32: FutureWarning: Passing literal html to 'read_html' is deprecated and will be removed in a future version. To read from a literal string, wrap it in a 'StringIO' object.\n",
      "  df_table = pd.read_html(str(table), header=0)[0]\n"
     ]
    },
    {
     "name": "stdout",
     "output_type": "stream",
     "text": [
      "Saved HTML to data\\1250061-…\\transcript_1250061-….html\n",
      "Saved DataFrame to data\\1250061-…\\transcript_1250061-….csv\n",
      "Saved HTML to data\\1250200\\transcript_1250200.html\n",
      "Saved DataFrame to data\\1250200\\transcript_1250200.csv\n"
     ]
    },
    {
     "name": "stderr",
     "output_type": "stream",
     "text": [
      "C:\\Users\\javie\\AppData\\Local\\Temp\\ipykernel_11860\\421169734.py:32: FutureWarning: Passing literal html to 'read_html' is deprecated and will be removed in a future version. To read from a literal string, wrap it in a 'StringIO' object.\n",
      "  df_table = pd.read_html(str(table), header=0)[0]\n",
      "C:\\Users\\javie\\AppData\\Local\\Temp\\ipykernel_11860\\421169734.py:32: FutureWarning: Passing literal html to 'read_html' is deprecated and will be removed in a future version. To read from a literal string, wrap it in a 'StringIO' object.\n",
      "  df_table = pd.read_html(str(table), header=0)[0]\n"
     ]
    },
    {
     "name": "stdout",
     "output_type": "stream",
     "text": [
      "Saved HTML to data\\1250270\\transcript_1250270.html\n",
      "Saved DataFrame to data\\1250270\\transcript_1250270.csv\n"
     ]
    },
    {
     "name": "stderr",
     "output_type": "stream",
     "text": [
      "C:\\Users\\javie\\AppData\\Local\\Temp\\ipykernel_11860\\421169734.py:32: FutureWarning: Passing literal html to 'read_html' is deprecated and will be removed in a future version. To read from a literal string, wrap it in a 'StringIO' object.\n",
      "  df_table = pd.read_html(str(table), header=0)[0]\n"
     ]
    },
    {
     "name": "stdout",
     "output_type": "stream",
     "text": [
      "Saved HTML to data\\1250279\\transcript_1250279.html\n",
      "Saved DataFrame to data\\1250279\\transcript_1250279.csv\n"
     ]
    },
    {
     "name": "stderr",
     "output_type": "stream",
     "text": [
      "C:\\Users\\javie\\AppData\\Local\\Temp\\ipykernel_11860\\421169734.py:32: FutureWarning: Passing literal html to 'read_html' is deprecated and will be removed in a future version. To read from a literal string, wrap it in a 'StringIO' object.\n",
      "  df_table = pd.read_html(str(table), header=0)[0]\n"
     ]
    },
    {
     "name": "stdout",
     "output_type": "stream",
     "text": [
      "Saved HTML to data\\1250646\\transcript_1250646.html\n",
      "Saved DataFrame to data\\1250646\\transcript_1250646.csv\n"
     ]
    },
    {
     "name": "stderr",
     "output_type": "stream",
     "text": [
      "C:\\Users\\javie\\AppData\\Local\\Temp\\ipykernel_11860\\421169734.py:32: FutureWarning: Passing literal html to 'read_html' is deprecated and will be removed in a future version. To read from a literal string, wrap it in a 'StringIO' object.\n",
      "  df_table = pd.read_html(str(table), header=0)[0]\n"
     ]
    },
    {
     "name": "stdout",
     "output_type": "stream",
     "text": [
      "Saved HTML to data\\1250721\\transcript_1250721.html\n",
      "Saved DataFrame to data\\1250721\\transcript_1250721.csv\n",
      "Saved HTML to data\\1250923\\transcript_1250923.html\n",
      "Saved DataFrame to data\\1250923\\transcript_1250923.csv\n"
     ]
    },
    {
     "name": "stderr",
     "output_type": "stream",
     "text": [
      "C:\\Users\\javie\\AppData\\Local\\Temp\\ipykernel_11860\\421169734.py:32: FutureWarning: Passing literal html to 'read_html' is deprecated and will be removed in a future version. To read from a literal string, wrap it in a 'StringIO' object.\n",
      "  df_table = pd.read_html(str(table), header=0)[0]\n",
      "C:\\Users\\javie\\AppData\\Local\\Temp\\ipykernel_11860\\421169734.py:32: FutureWarning: Passing literal html to 'read_html' is deprecated and will be removed in a future version. To read from a literal string, wrap it in a 'StringIO' object.\n",
      "  df_table = pd.read_html(str(table), header=0)[0]\n"
     ]
    },
    {
     "name": "stdout",
     "output_type": "stream",
     "text": [
      "Saved HTML to data\\1250966\\transcript_1250966.html\n",
      "Saved DataFrame to data\\1250966\\transcript_1250966.csv\n"
     ]
    },
    {
     "name": "stderr",
     "output_type": "stream",
     "text": [
      "C:\\Users\\javie\\AppData\\Local\\Temp\\ipykernel_11860\\421169734.py:32: FutureWarning: Passing literal html to 'read_html' is deprecated and will be removed in a future version. To read from a literal string, wrap it in a 'StringIO' object.\n",
      "  df_table = pd.read_html(str(table), header=0)[0]\n"
     ]
    },
    {
     "name": "stdout",
     "output_type": "stream",
     "text": [
      "Saved HTML to data\\1250972\\transcript_1250972.html\n",
      "Saved DataFrame to data\\1250972\\transcript_1250972.csv\n",
      "Saved HTML to data\\1251154\\transcript_1251154.html\n",
      "Saved DataFrame to data\\1251154\\transcript_1251154.csv\n"
     ]
    },
    {
     "name": "stderr",
     "output_type": "stream",
     "text": [
      "C:\\Users\\javie\\AppData\\Local\\Temp\\ipykernel_11860\\421169734.py:32: FutureWarning: Passing literal html to 'read_html' is deprecated and will be removed in a future version. To read from a literal string, wrap it in a 'StringIO' object.\n",
      "  df_table = pd.read_html(str(table), header=0)[0]\n",
      "C:\\Users\\javie\\AppData\\Local\\Temp\\ipykernel_11860\\421169734.py:32: FutureWarning: Passing literal html to 'read_html' is deprecated and will be removed in a future version. To read from a literal string, wrap it in a 'StringIO' object.\n",
      "  df_table = pd.read_html(str(table), header=0)[0]\n"
     ]
    },
    {
     "name": "stdout",
     "output_type": "stream",
     "text": [
      "Saved HTML to data\\1251308-…\\transcript_1251308-….html\n",
      "Saved DataFrame to data\\1251308-…\\transcript_1251308-….csv\n"
     ]
    },
    {
     "name": "stderr",
     "output_type": "stream",
     "text": [
      "C:\\Users\\javie\\AppData\\Local\\Temp\\ipykernel_11860\\421169734.py:32: FutureWarning: Passing literal html to 'read_html' is deprecated and will be removed in a future version. To read from a literal string, wrap it in a 'StringIO' object.\n",
      "  df_table = pd.read_html(str(table), header=0)[0]\n"
     ]
    },
    {
     "name": "stdout",
     "output_type": "stream",
     "text": [
      "Saved HTML to data\\1251334\\transcript_1251334.html\n",
      "Saved DataFrame to data\\1251334\\transcript_1251334.csv\n",
      "Saved HTML to data\\1289415\\transcript_1289415.html\n",
      "Saved DataFrame to data\\1289415\\transcript_1289415.csv\n"
     ]
    },
    {
     "name": "stderr",
     "output_type": "stream",
     "text": [
      "C:\\Users\\javie\\AppData\\Local\\Temp\\ipykernel_11860\\421169734.py:32: FutureWarning: Passing literal html to 'read_html' is deprecated and will be removed in a future version. To read from a literal string, wrap it in a 'StringIO' object.\n",
      "  df_table = pd.read_html(str(table), header=0)[0]\n",
      "C:\\Users\\javie\\AppData\\Local\\Temp\\ipykernel_11860\\421169734.py:32: FutureWarning: Passing literal html to 'read_html' is deprecated and will be removed in a future version. To read from a literal string, wrap it in a 'StringIO' object.\n",
      "  df_table = pd.read_html(str(table), header=0)[0]\n"
     ]
    },
    {
     "name": "stdout",
     "output_type": "stream",
     "text": [
      "Saved HTML to data\\1289462\\transcript_1289462.html\n",
      "Saved DataFrame to data\\1289462\\transcript_1289462.csv\n"
     ]
    },
    {
     "name": "stderr",
     "output_type": "stream",
     "text": [
      "C:\\Users\\javie\\AppData\\Local\\Temp\\ipykernel_11860\\421169734.py:32: FutureWarning: Passing literal html to 'read_html' is deprecated and will be removed in a future version. To read from a literal string, wrap it in a 'StringIO' object.\n",
      "  df_table = pd.read_html(str(table), header=0)[0]\n"
     ]
    },
    {
     "name": "stdout",
     "output_type": "stream",
     "text": [
      "Saved HTML to data\\1289623\\transcript_1289623.html\n",
      "Saved DataFrame to data\\1289623\\transcript_1289623.csv\n",
      "Saved HTML to data\\1289645\\transcript_1289645.html\n",
      "Saved DataFrame to data\\1289645\\transcript_1289645.csv\n"
     ]
    },
    {
     "name": "stderr",
     "output_type": "stream",
     "text": [
      "C:\\Users\\javie\\AppData\\Local\\Temp\\ipykernel_11860\\421169734.py:32: FutureWarning: Passing literal html to 'read_html' is deprecated and will be removed in a future version. To read from a literal string, wrap it in a 'StringIO' object.\n",
      "  df_table = pd.read_html(str(table), header=0)[0]\n",
      "C:\\Users\\javie\\AppData\\Local\\Temp\\ipykernel_11860\\421169734.py:32: FutureWarning: Passing literal html to 'read_html' is deprecated and will be removed in a future version. To read from a literal string, wrap it in a 'StringIO' object.\n",
      "  df_table = pd.read_html(str(table), header=0)[0]\n"
     ]
    },
    {
     "name": "stdout",
     "output_type": "stream",
     "text": [
      "Saved HTML to data\\1289647\\transcript_1289647.html\n",
      "Saved DataFrame to data\\1289647\\transcript_1289647.csv\n"
     ]
    },
    {
     "name": "stderr",
     "output_type": "stream",
     "text": [
      "C:\\Users\\javie\\AppData\\Local\\Temp\\ipykernel_11860\\421169734.py:32: FutureWarning: Passing literal html to 'read_html' is deprecated and will be removed in a future version. To read from a literal string, wrap it in a 'StringIO' object.\n",
      "  df_table = pd.read_html(str(table), header=0)[0]\n"
     ]
    },
    {
     "name": "stdout",
     "output_type": "stream",
     "text": [
      "Saved HTML to data\\1289658-…\\transcript_1289658-….html\n",
      "Saved DataFrame to data\\1289658-…\\transcript_1289658-….csv\n"
     ]
    },
    {
     "name": "stderr",
     "output_type": "stream",
     "text": [
      "C:\\Users\\javie\\AppData\\Local\\Temp\\ipykernel_11860\\421169734.py:32: FutureWarning: Passing literal html to 'read_html' is deprecated and will be removed in a future version. To read from a literal string, wrap it in a 'StringIO' object.\n",
      "  df_table = pd.read_html(str(table), header=0)[0]\n"
     ]
    },
    {
     "name": "stdout",
     "output_type": "stream",
     "text": [
      "Saved HTML to data\\1289793\\transcript_1289793.html\n",
      "Saved DataFrame to data\\1289793\\transcript_1289793.csv\n"
     ]
    },
    {
     "name": "stderr",
     "output_type": "stream",
     "text": [
      "C:\\Users\\javie\\AppData\\Local\\Temp\\ipykernel_11860\\421169734.py:32: FutureWarning: Passing literal html to 'read_html' is deprecated and will be removed in a future version. To read from a literal string, wrap it in a 'StringIO' object.\n",
      "  df_table = pd.read_html(str(table), header=0)[0]\n"
     ]
    },
    {
     "name": "stdout",
     "output_type": "stream",
     "text": [
      "Saved HTML to data\\1289827-…\\transcript_1289827-….html\n",
      "Saved DataFrame to data\\1289827-…\\transcript_1289827-….csv\n"
     ]
    },
    {
     "name": "stderr",
     "output_type": "stream",
     "text": [
      "C:\\Users\\javie\\AppData\\Local\\Temp\\ipykernel_11860\\421169734.py:32: FutureWarning: Passing literal html to 'read_html' is deprecated and will be removed in a future version. To read from a literal string, wrap it in a 'StringIO' object.\n",
      "  df_table = pd.read_html(str(table), header=0)[0]\n"
     ]
    },
    {
     "name": "stdout",
     "output_type": "stream",
     "text": [
      "Saved HTML to data\\1289863\\transcript_1289863.html\n",
      "Saved DataFrame to data\\1289863\\transcript_1289863.csv\n"
     ]
    },
    {
     "name": "stderr",
     "output_type": "stream",
     "text": [
      "C:\\Users\\javie\\AppData\\Local\\Temp\\ipykernel_11860\\421169734.py:32: FutureWarning: Passing literal html to 'read_html' is deprecated and will be removed in a future version. To read from a literal string, wrap it in a 'StringIO' object.\n",
      "  df_table = pd.read_html(str(table), header=0)[0]\n"
     ]
    },
    {
     "name": "stdout",
     "output_type": "stream",
     "text": [
      "Saved HTML to data\\1289868\\transcript_1289868.html\n",
      "Saved DataFrame to data\\1289868\\transcript_1289868.csv\n"
     ]
    },
    {
     "name": "stderr",
     "output_type": "stream",
     "text": [
      "C:\\Users\\javie\\AppData\\Local\\Temp\\ipykernel_11860\\421169734.py:32: FutureWarning: Passing literal html to 'read_html' is deprecated and will be removed in a future version. To read from a literal string, wrap it in a 'StringIO' object.\n",
      "  df_table = pd.read_html(str(table), header=0)[0]\n"
     ]
    },
    {
     "name": "stdout",
     "output_type": "stream",
     "text": [
      "Saved HTML to data\\1289910\\transcript_1289910.html\n",
      "Saved DataFrame to data\\1289910\\transcript_1289910.csv\n",
      "Saved HTML to data\\1290099\\transcript_1290099.html\n",
      "Saved DataFrame to data\\1290099\\transcript_1290099.csv\n"
     ]
    },
    {
     "name": "stderr",
     "output_type": "stream",
     "text": [
      "C:\\Users\\javie\\AppData\\Local\\Temp\\ipykernel_11860\\421169734.py:32: FutureWarning: Passing literal html to 'read_html' is deprecated and will be removed in a future version. To read from a literal string, wrap it in a 'StringIO' object.\n",
      "  df_table = pd.read_html(str(table), header=0)[0]\n",
      "C:\\Users\\javie\\AppData\\Local\\Temp\\ipykernel_11860\\421169734.py:32: FutureWarning: Passing literal html to 'read_html' is deprecated and will be removed in a future version. To read from a literal string, wrap it in a 'StringIO' object.\n",
      "  df_table = pd.read_html(str(table), header=0)[0]\n"
     ]
    },
    {
     "name": "stdout",
     "output_type": "stream",
     "text": [
      "Saved HTML to data\\1290121\\transcript_1290121.html\n",
      "Saved DataFrame to data\\1290121\\transcript_1290121.csv\n"
     ]
    },
    {
     "name": "stderr",
     "output_type": "stream",
     "text": [
      "C:\\Users\\javie\\AppData\\Local\\Temp\\ipykernel_11860\\421169734.py:32: FutureWarning: Passing literal html to 'read_html' is deprecated and will be removed in a future version. To read from a literal string, wrap it in a 'StringIO' object.\n",
      "  df_table = pd.read_html(str(table), header=0)[0]\n"
     ]
    },
    {
     "name": "stdout",
     "output_type": "stream",
     "text": [
      "Saved HTML to data\\1290126\\transcript_1290126.html\n",
      "Saved DataFrame to data\\1290126\\transcript_1290126.csv\n"
     ]
    },
    {
     "name": "stderr",
     "output_type": "stream",
     "text": [
      "C:\\Users\\javie\\AppData\\Local\\Temp\\ipykernel_11860\\421169734.py:32: FutureWarning: Passing literal html to 'read_html' is deprecated and will be removed in a future version. To read from a literal string, wrap it in a 'StringIO' object.\n",
      "  df_table = pd.read_html(str(table), header=0)[0]\n"
     ]
    },
    {
     "name": "stdout",
     "output_type": "stream",
     "text": [
      "Saved HTML to data\\1290359-…\\transcript_1290359-….html\n",
      "Saved DataFrame to data\\1290359-…\\transcript_1290359-….csv\n"
     ]
    },
    {
     "name": "stderr",
     "output_type": "stream",
     "text": [
      "C:\\Users\\javie\\AppData\\Local\\Temp\\ipykernel_11860\\421169734.py:32: FutureWarning: Passing literal html to 'read_html' is deprecated and will be removed in a future version. To read from a literal string, wrap it in a 'StringIO' object.\n",
      "  df_table = pd.read_html(str(table), header=0)[0]\n"
     ]
    },
    {
     "name": "stdout",
     "output_type": "stream",
     "text": [
      "Saved HTML to data\\1290556\\transcript_1290556.html\n",
      "Saved DataFrame to data\\1290556\\transcript_1290556.csv\n"
     ]
    },
    {
     "name": "stderr",
     "output_type": "stream",
     "text": [
      "C:\\Users\\javie\\AppData\\Local\\Temp\\ipykernel_11860\\421169734.py:32: FutureWarning: Passing literal html to 'read_html' is deprecated and will be removed in a future version. To read from a literal string, wrap it in a 'StringIO' object.\n",
      "  df_table = pd.read_html(str(table), header=0)[0]\n"
     ]
    },
    {
     "name": "stdout",
     "output_type": "stream",
     "text": [
      "Saved HTML to data\\1290581\\transcript_1290581.html\n",
      "Saved DataFrame to data\\1290581\\transcript_1290581.csv\n"
     ]
    },
    {
     "name": "stderr",
     "output_type": "stream",
     "text": [
      "C:\\Users\\javie\\AppData\\Local\\Temp\\ipykernel_11860\\421169734.py:32: FutureWarning: Passing literal html to 'read_html' is deprecated and will be removed in a future version. To read from a literal string, wrap it in a 'StringIO' object.\n",
      "  df_table = pd.read_html(str(table), header=0)[0]\n"
     ]
    },
    {
     "name": "stdout",
     "output_type": "stream",
     "text": [
      "Saved HTML to data\\1290705-…\\transcript_1290705-….html\n",
      "Saved DataFrame to data\\1290705-…\\transcript_1290705-….csv\n"
     ]
    },
    {
     "name": "stderr",
     "output_type": "stream",
     "text": [
      "C:\\Users\\javie\\AppData\\Local\\Temp\\ipykernel_11860\\421169734.py:32: FutureWarning: Passing literal html to 'read_html' is deprecated and will be removed in a future version. To read from a literal string, wrap it in a 'StringIO' object.\n",
      "  df_table = pd.read_html(str(table), header=0)[0]\n"
     ]
    },
    {
     "name": "stdout",
     "output_type": "stream",
     "text": [
      "Saved HTML to data\\1290754\\transcript_1290754.html\n",
      "Saved DataFrame to data\\1290754\\transcript_1290754.csv\n"
     ]
    },
    {
     "name": "stderr",
     "output_type": "stream",
     "text": [
      "C:\\Users\\javie\\AppData\\Local\\Temp\\ipykernel_11860\\421169734.py:32: FutureWarning: Passing literal html to 'read_html' is deprecated and will be removed in a future version. To read from a literal string, wrap it in a 'StringIO' object.\n",
      "  df_table = pd.read_html(str(table), header=0)[0]\n"
     ]
    },
    {
     "name": "stdout",
     "output_type": "stream",
     "text": [
      "Saved HTML to data\\1290996-…\\transcript_1290996-….html\n",
      "Saved DataFrame to data\\1290996-…\\transcript_1290996-….csv\n"
     ]
    },
    {
     "name": "stderr",
     "output_type": "stream",
     "text": [
      "C:\\Users\\javie\\AppData\\Local\\Temp\\ipykernel_11860\\421169734.py:32: FutureWarning: Passing literal html to 'read_html' is deprecated and will be removed in a future version. To read from a literal string, wrap it in a 'StringIO' object.\n",
      "  df_table = pd.read_html(str(table), header=0)[0]\n"
     ]
    },
    {
     "name": "stdout",
     "output_type": "stream",
     "text": [
      "Saved HTML to data\\1291164\\transcript_1291164.html\n",
      "Saved DataFrame to data\\1291164\\transcript_1291164.csv\n",
      "Saved HTML to data\\1291196\\transcript_1291196.html\n",
      "Saved DataFrame to data\\1291196\\transcript_1291196.csv\n"
     ]
    },
    {
     "name": "stderr",
     "output_type": "stream",
     "text": [
      "C:\\Users\\javie\\AppData\\Local\\Temp\\ipykernel_11860\\421169734.py:32: FutureWarning: Passing literal html to 'read_html' is deprecated and will be removed in a future version. To read from a literal string, wrap it in a 'StringIO' object.\n",
      "  df_table = pd.read_html(str(table), header=0)[0]\n",
      "C:\\Users\\javie\\AppData\\Local\\Temp\\ipykernel_11860\\421169734.py:32: FutureWarning: Passing literal html to 'read_html' is deprecated and will be removed in a future version. To read from a literal string, wrap it in a 'StringIO' object.\n",
      "  df_table = pd.read_html(str(table), header=0)[0]\n"
     ]
    },
    {
     "name": "stdout",
     "output_type": "stream",
     "text": [
      "Saved HTML to data\\1291243\\transcript_1291243.html\n",
      "Saved DataFrame to data\\1291243\\transcript_1291243.csv\n",
      "Saved HTML to data\\1291430\\transcript_1291430.html\n",
      "Saved DataFrame to data\\1291430\\transcript_1291430.csv\n"
     ]
    },
    {
     "name": "stderr",
     "output_type": "stream",
     "text": [
      "C:\\Users\\javie\\AppData\\Local\\Temp\\ipykernel_11860\\421169734.py:32: FutureWarning: Passing literal html to 'read_html' is deprecated and will be removed in a future version. To read from a literal string, wrap it in a 'StringIO' object.\n",
      "  df_table = pd.read_html(str(table), header=0)[0]\n",
      "C:\\Users\\javie\\AppData\\Local\\Temp\\ipykernel_11860\\421169734.py:32: FutureWarning: Passing literal html to 'read_html' is deprecated and will be removed in a future version. To read from a literal string, wrap it in a 'StringIO' object.\n",
      "  df_table = pd.read_html(str(table), header=0)[0]\n"
     ]
    },
    {
     "name": "stdout",
     "output_type": "stream",
     "text": [
      "Saved HTML to data\\1291572\\transcript_1291572.html\n",
      "Saved DataFrame to data\\1291572\\transcript_1291572.csv\n"
     ]
    },
    {
     "name": "stderr",
     "output_type": "stream",
     "text": [
      "C:\\Users\\javie\\AppData\\Local\\Temp\\ipykernel_11860\\421169734.py:32: FutureWarning: Passing literal html to 'read_html' is deprecated and will be removed in a future version. To read from a literal string, wrap it in a 'StringIO' object.\n",
      "  df_table = pd.read_html(str(table), header=0)[0]\n"
     ]
    },
    {
     "name": "stdout",
     "output_type": "stream",
     "text": [
      "Saved HTML to data\\1291636\\transcript_1291636.html\n",
      "Saved DataFrame to data\\1291636\\transcript_1291636.csv\n"
     ]
    },
    {
     "name": "stderr",
     "output_type": "stream",
     "text": [
      "C:\\Users\\javie\\AppData\\Local\\Temp\\ipykernel_11860\\421169734.py:32: FutureWarning: Passing literal html to 'read_html' is deprecated and will be removed in a future version. To read from a literal string, wrap it in a 'StringIO' object.\n",
      "  df_table = pd.read_html(str(table), header=0)[0]\n"
     ]
    },
    {
     "name": "stdout",
     "output_type": "stream",
     "text": [
      "Saved HTML to data\\1291638\\transcript_1291638.html\n",
      "Saved DataFrame to data\\1291638\\transcript_1291638.csv\n"
     ]
    },
    {
     "name": "stderr",
     "output_type": "stream",
     "text": [
      "C:\\Users\\javie\\AppData\\Local\\Temp\\ipykernel_11860\\421169734.py:32: FutureWarning: Passing literal html to 'read_html' is deprecated and will be removed in a future version. To read from a literal string, wrap it in a 'StringIO' object.\n",
      "  df_table = pd.read_html(str(table), header=0)[0]\n"
     ]
    },
    {
     "name": "stdout",
     "output_type": "stream",
     "text": [
      "Saved HTML to data\\1291892\\transcript_1291892.html\n",
      "Saved DataFrame to data\\1291892\\transcript_1291892.csv\n"
     ]
    },
    {
     "name": "stderr",
     "output_type": "stream",
     "text": [
      "C:\\Users\\javie\\AppData\\Local\\Temp\\ipykernel_11860\\421169734.py:32: FutureWarning: Passing literal html to 'read_html' is deprecated and will be removed in a future version. To read from a literal string, wrap it in a 'StringIO' object.\n",
      "  df_table = pd.read_html(str(table), header=0)[0]\n"
     ]
    },
    {
     "name": "stdout",
     "output_type": "stream",
     "text": [
      "Saved HTML to data\\1292086\\transcript_1292086.html\n",
      "Saved DataFrame to data\\1292086\\transcript_1292086.csv\n"
     ]
    },
    {
     "name": "stderr",
     "output_type": "stream",
     "text": [
      "C:\\Users\\javie\\AppData\\Local\\Temp\\ipykernel_11860\\421169734.py:32: FutureWarning: Passing literal html to 'read_html' is deprecated and will be removed in a future version. To read from a literal string, wrap it in a 'StringIO' object.\n",
      "  df_table = pd.read_html(str(table), header=0)[0]\n"
     ]
    },
    {
     "name": "stdout",
     "output_type": "stream",
     "text": [
      "Saved HTML to data\\1292125\\transcript_1292125.html\n",
      "Saved DataFrame to data\\1292125\\transcript_1292125.csv\n",
      "Saved HTML to data\\1292262\\transcript_1292262.html\n",
      "Saved DataFrame to data\\1292262\\transcript_1292262.csv\n"
     ]
    },
    {
     "name": "stderr",
     "output_type": "stream",
     "text": [
      "C:\\Users\\javie\\AppData\\Local\\Temp\\ipykernel_11860\\421169734.py:32: FutureWarning: Passing literal html to 'read_html' is deprecated and will be removed in a future version. To read from a literal string, wrap it in a 'StringIO' object.\n",
      "  df_table = pd.read_html(str(table), header=0)[0]\n",
      "C:\\Users\\javie\\AppData\\Local\\Temp\\ipykernel_11860\\421169734.py:32: FutureWarning: Passing literal html to 'read_html' is deprecated and will be removed in a future version. To read from a literal string, wrap it in a 'StringIO' object.\n",
      "  df_table = pd.read_html(str(table), header=0)[0]\n"
     ]
    },
    {
     "name": "stdout",
     "output_type": "stream",
     "text": [
      "Saved HTML to data\\1292458\\transcript_1292458.html\n",
      "Saved DataFrame to data\\1292458\\transcript_1292458.csv\n",
      "Saved HTML to data\\1292538\\transcript_1292538.html\n",
      "Saved DataFrame to data\\1292538\\transcript_1292538.csv\n"
     ]
    },
    {
     "name": "stderr",
     "output_type": "stream",
     "text": [
      "C:\\Users\\javie\\AppData\\Local\\Temp\\ipykernel_11860\\421169734.py:32: FutureWarning: Passing literal html to 'read_html' is deprecated and will be removed in a future version. To read from a literal string, wrap it in a 'StringIO' object.\n",
      "  df_table = pd.read_html(str(table), header=0)[0]\n",
      "C:\\Users\\javie\\AppData\\Local\\Temp\\ipykernel_11860\\421169734.py:32: FutureWarning: Passing literal html to 'read_html' is deprecated and will be removed in a future version. To read from a literal string, wrap it in a 'StringIO' object.\n",
      "  df_table = pd.read_html(str(table), header=0)[0]\n"
     ]
    },
    {
     "name": "stdout",
     "output_type": "stream",
     "text": [
      "Saved HTML to data\\1292545\\transcript_1292545.html\n",
      "Saved DataFrame to data\\1292545\\transcript_1292545.csv\n"
     ]
    },
    {
     "name": "stderr",
     "output_type": "stream",
     "text": [
      "C:\\Users\\javie\\AppData\\Local\\Temp\\ipykernel_11860\\421169734.py:32: FutureWarning: Passing literal html to 'read_html' is deprecated and will be removed in a future version. To read from a literal string, wrap it in a 'StringIO' object.\n",
      "  df_table = pd.read_html(str(table), header=0)[0]\n"
     ]
    },
    {
     "name": "stdout",
     "output_type": "stream",
     "text": [
      "Saved HTML to data\\1292716\\transcript_1292716.html\n",
      "Saved DataFrame to data\\1292716\\transcript_1292716.csv\n"
     ]
    },
    {
     "name": "stderr",
     "output_type": "stream",
     "text": [
      "C:\\Users\\javie\\AppData\\Local\\Temp\\ipykernel_11860\\421169734.py:32: FutureWarning: Passing literal html to 'read_html' is deprecated and will be removed in a future version. To read from a literal string, wrap it in a 'StringIO' object.\n",
      "  df_table = pd.read_html(str(table), header=0)[0]\n"
     ]
    },
    {
     "name": "stdout",
     "output_type": "stream",
     "text": [
      "Saved HTML to data\\1292768\\transcript_1292768.html\n",
      "Saved DataFrame to data\\1292768\\transcript_1292768.csv\n"
     ]
    },
    {
     "name": "stderr",
     "output_type": "stream",
     "text": [
      "C:\\Users\\javie\\AppData\\Local\\Temp\\ipykernel_11860\\421169734.py:32: FutureWarning: Passing literal html to 'read_html' is deprecated and will be removed in a future version. To read from a literal string, wrap it in a 'StringIO' object.\n",
      "  df_table = pd.read_html(str(table), header=0)[0]\n"
     ]
    },
    {
     "name": "stdout",
     "output_type": "stream",
     "text": [
      "Saved HTML to data\\1292770\\transcript_1292770.html\n",
      "Saved DataFrame to data\\1292770\\transcript_1292770.csv\n",
      "Saved HTML to data\\1413230\\transcript_1413230.html\n",
      "Saved DataFrame to data\\1413230\\transcript_1413230.csv\n"
     ]
    },
    {
     "name": "stderr",
     "output_type": "stream",
     "text": [
      "C:\\Users\\javie\\AppData\\Local\\Temp\\ipykernel_11860\\421169734.py:32: FutureWarning: Passing literal html to 'read_html' is deprecated and will be removed in a future version. To read from a literal string, wrap it in a 'StringIO' object.\n",
      "  df_table = pd.read_html(str(table), header=0)[0]\n",
      "C:\\Users\\javie\\AppData\\Local\\Temp\\ipykernel_11860\\421169734.py:32: FutureWarning: Passing literal html to 'read_html' is deprecated and will be removed in a future version. To read from a literal string, wrap it in a 'StringIO' object.\n",
      "  df_table = pd.read_html(str(table), header=0)[0]\n"
     ]
    },
    {
     "name": "stdout",
     "output_type": "stream",
     "text": [
      "Saved HTML to data\\1413232\\transcript_1413232.html\n",
      "Saved DataFrame to data\\1413232\\transcript_1413232.csv\n"
     ]
    },
    {
     "name": "stderr",
     "output_type": "stream",
     "text": [
      "C:\\Users\\javie\\AppData\\Local\\Temp\\ipykernel_11860\\421169734.py:32: FutureWarning: Passing literal html to 'read_html' is deprecated and will be removed in a future version. To read from a literal string, wrap it in a 'StringIO' object.\n",
      "  df_table = pd.read_html(str(table), header=0)[0]\n",
      "C:\\Users\\javie\\AppData\\Local\\Temp\\ipykernel_11860\\421169734.py:32: FutureWarning: Passing literal html to 'read_html' is deprecated and will be removed in a future version. To read from a literal string, wrap it in a 'StringIO' object.\n",
      "  df_table = pd.read_html(str(table), header=0)[0]\n"
     ]
    },
    {
     "name": "stdout",
     "output_type": "stream",
     "text": [
      "Saved HTML to data\\1413234\\transcript_1413234.html\n",
      "Saved DataFrame to data\\1413234\\transcript_1413234.csv\n",
      "Saved HTML to data\\1413236\\transcript_1413236.html\n",
      "Saved DataFrame to data\\1413236\\transcript_1413236.csv\n",
      "Saved HTML to data\\1413238\\transcript_1413238.html\n",
      "Saved DataFrame to data\\1413238\\transcript_1413238.csv\n"
     ]
    },
    {
     "name": "stderr",
     "output_type": "stream",
     "text": [
      "C:\\Users\\javie\\AppData\\Local\\Temp\\ipykernel_11860\\421169734.py:32: FutureWarning: Passing literal html to 'read_html' is deprecated and will be removed in a future version. To read from a literal string, wrap it in a 'StringIO' object.\n",
      "  df_table = pd.read_html(str(table), header=0)[0]\n",
      "C:\\Users\\javie\\AppData\\Local\\Temp\\ipykernel_11860\\421169734.py:32: FutureWarning: Passing literal html to 'read_html' is deprecated and will be removed in a future version. To read from a literal string, wrap it in a 'StringIO' object.\n",
      "  df_table = pd.read_html(str(table), header=0)[0]\n"
     ]
    },
    {
     "name": "stdout",
     "output_type": "stream",
     "text": [
      "Saved HTML to data\\1413240\\transcript_1413240.html\n",
      "Saved DataFrame to data\\1413240\\transcript_1413240.csv\n"
     ]
    },
    {
     "name": "stderr",
     "output_type": "stream",
     "text": [
      "C:\\Users\\javie\\AppData\\Local\\Temp\\ipykernel_11860\\421169734.py:32: FutureWarning: Passing literal html to 'read_html' is deprecated and will be removed in a future version. To read from a literal string, wrap it in a 'StringIO' object.\n",
      "  df_table = pd.read_html(str(table), header=0)[0]\n"
     ]
    },
    {
     "name": "stdout",
     "output_type": "stream",
     "text": [
      "Saved HTML to data\\1413242\\transcript_1413242.html\n",
      "Saved DataFrame to data\\1413242\\transcript_1413242.csv\n"
     ]
    },
    {
     "name": "stderr",
     "output_type": "stream",
     "text": [
      "C:\\Users\\javie\\AppData\\Local\\Temp\\ipykernel_11860\\421169734.py:32: FutureWarning: Passing literal html to 'read_html' is deprecated and will be removed in a future version. To read from a literal string, wrap it in a 'StringIO' object.\n",
      "  df_table = pd.read_html(str(table), header=0)[0]\n"
     ]
    },
    {
     "name": "stdout",
     "output_type": "stream",
     "text": [
      "Saved HTML to data\\1413251\\transcript_1413251.html\n",
      "Saved DataFrame to data\\1413251\\transcript_1413251.csv\n",
      "Saved HTML to data\\1413446\\transcript_1413446.html\n",
      "Saved DataFrame to data\\1413446\\transcript_1413446.csv\n"
     ]
    },
    {
     "name": "stderr",
     "output_type": "stream",
     "text": [
      "C:\\Users\\javie\\AppData\\Local\\Temp\\ipykernel_11860\\421169734.py:32: FutureWarning: Passing literal html to 'read_html' is deprecated and will be removed in a future version. To read from a literal string, wrap it in a 'StringIO' object.\n",
      "  df_table = pd.read_html(str(table), header=0)[0]\n",
      "C:\\Users\\javie\\AppData\\Local\\Temp\\ipykernel_11860\\421169734.py:32: FutureWarning: Passing literal html to 'read_html' is deprecated and will be removed in a future version. To read from a literal string, wrap it in a 'StringIO' object.\n",
      "  df_table = pd.read_html(str(table), header=0)[0]\n"
     ]
    },
    {
     "name": "stdout",
     "output_type": "stream",
     "text": [
      "Saved HTML to data\\1413451-…\\transcript_1413451-….html\n",
      "Saved DataFrame to data\\1413451-…\\transcript_1413451-….csv\n"
     ]
    },
    {
     "name": "stderr",
     "output_type": "stream",
     "text": [
      "C:\\Users\\javie\\AppData\\Local\\Temp\\ipykernel_11860\\421169734.py:32: FutureWarning: Passing literal html to 'read_html' is deprecated and will be removed in a future version. To read from a literal string, wrap it in a 'StringIO' object.\n",
      "  df_table = pd.read_html(str(table), header=0)[0]\n"
     ]
    },
    {
     "name": "stdout",
     "output_type": "stream",
     "text": [
      "Saved HTML to data\\1413451-…\\transcript_1413451-….html\n",
      "Saved DataFrame to data\\1413451-…\\transcript_1413451-….csv\n"
     ]
    },
    {
     "name": "stderr",
     "output_type": "stream",
     "text": [
      "C:\\Users\\javie\\AppData\\Local\\Temp\\ipykernel_11860\\421169734.py:32: FutureWarning: Passing literal html to 'read_html' is deprecated and will be removed in a future version. To read from a literal string, wrap it in a 'StringIO' object.\n",
      "  df_table = pd.read_html(str(table), header=0)[0]\n"
     ]
    },
    {
     "name": "stdout",
     "output_type": "stream",
     "text": [
      "Saved HTML to data\\1413485\\transcript_1413485.html\n",
      "Saved DataFrame to data\\1413485\\transcript_1413485.csv\n",
      "Saved HTML to data\\1413623-…\\transcript_1413623-….html\n",
      "Saved DataFrame to data\\1413623-…\\transcript_1413623-….csv\n"
     ]
    },
    {
     "name": "stderr",
     "output_type": "stream",
     "text": [
      "C:\\Users\\javie\\AppData\\Local\\Temp\\ipykernel_11860\\421169734.py:32: FutureWarning: Passing literal html to 'read_html' is deprecated and will be removed in a future version. To read from a literal string, wrap it in a 'StringIO' object.\n",
      "  df_table = pd.read_html(str(table), header=0)[0]\n",
      "C:\\Users\\javie\\AppData\\Local\\Temp\\ipykernel_11860\\421169734.py:32: FutureWarning: Passing literal html to 'read_html' is deprecated and will be removed in a future version. To read from a literal string, wrap it in a 'StringIO' object.\n",
      "  df_table = pd.read_html(str(table), header=0)[0]\n"
     ]
    },
    {
     "name": "stdout",
     "output_type": "stream",
     "text": [
      "Saved HTML to data\\1413683\\transcript_1413683.html\n",
      "Saved DataFrame to data\\1413683\\transcript_1413683.csv\n"
     ]
    },
    {
     "name": "stderr",
     "output_type": "stream",
     "text": [
      "C:\\Users\\javie\\AppData\\Local\\Temp\\ipykernel_11860\\421169734.py:32: FutureWarning: Passing literal html to 'read_html' is deprecated and will be removed in a future version. To read from a literal string, wrap it in a 'StringIO' object.\n",
      "  df_table = pd.read_html(str(table), header=0)[0]\n"
     ]
    },
    {
     "name": "stdout",
     "output_type": "stream",
     "text": [
      "Saved HTML to data\\1413703\\transcript_1413703.html\n",
      "Saved DataFrame to data\\1413703\\transcript_1413703.csv\n"
     ]
    },
    {
     "name": "stderr",
     "output_type": "stream",
     "text": [
      "C:\\Users\\javie\\AppData\\Local\\Temp\\ipykernel_11860\\421169734.py:32: FutureWarning: Passing literal html to 'read_html' is deprecated and will be removed in a future version. To read from a literal string, wrap it in a 'StringIO' object.\n",
      "  df_table = pd.read_html(str(table), header=0)[0]\n"
     ]
    },
    {
     "name": "stdout",
     "output_type": "stream",
     "text": [
      "Saved HTML to data\\1413925\\transcript_1413925.html\n",
      "Saved DataFrame to data\\1413925\\transcript_1413925.csv\n"
     ]
    },
    {
     "name": "stderr",
     "output_type": "stream",
     "text": [
      "C:\\Users\\javie\\AppData\\Local\\Temp\\ipykernel_11860\\421169734.py:32: FutureWarning: Passing literal html to 'read_html' is deprecated and will be removed in a future version. To read from a literal string, wrap it in a 'StringIO' object.\n",
      "  df_table = pd.read_html(str(table), header=0)[0]\n"
     ]
    },
    {
     "name": "stdout",
     "output_type": "stream",
     "text": [
      "Saved HTML to data\\1414123\\transcript_1414123.html\n",
      "Saved DataFrame to data\\1414123\\transcript_1414123.csv\n"
     ]
    },
    {
     "name": "stderr",
     "output_type": "stream",
     "text": [
      "C:\\Users\\javie\\AppData\\Local\\Temp\\ipykernel_11860\\421169734.py:32: FutureWarning: Passing literal html to 'read_html' is deprecated and will be removed in a future version. To read from a literal string, wrap it in a 'StringIO' object.\n",
      "  df_table = pd.read_html(str(table), header=0)[0]\n"
     ]
    },
    {
     "name": "stdout",
     "output_type": "stream",
     "text": [
      "Saved HTML to data\\1414312\\transcript_1414312.html\n",
      "Saved DataFrame to data\\1414312\\transcript_1414312.csv\n"
     ]
    },
    {
     "name": "stderr",
     "output_type": "stream",
     "text": [
      "C:\\Users\\javie\\AppData\\Local\\Temp\\ipykernel_11860\\421169734.py:32: FutureWarning: Passing literal html to 'read_html' is deprecated and will be removed in a future version. To read from a literal string, wrap it in a 'StringIO' object.\n",
      "  df_table = pd.read_html(str(table), header=0)[0]\n"
     ]
    },
    {
     "name": "stdout",
     "output_type": "stream",
     "text": [
      "Saved HTML to data\\1414503\\transcript_1414503.html\n",
      "Saved DataFrame to data\\1414503\\transcript_1414503.csv\n"
     ]
    },
    {
     "name": "stderr",
     "output_type": "stream",
     "text": [
      "C:\\Users\\javie\\AppData\\Local\\Temp\\ipykernel_11860\\421169734.py:32: FutureWarning: Passing literal html to 'read_html' is deprecated and will be removed in a future version. To read from a literal string, wrap it in a 'StringIO' object.\n",
      "  df_table = pd.read_html(str(table), header=0)[0]\n"
     ]
    },
    {
     "name": "stdout",
     "output_type": "stream",
     "text": [
      "Saved HTML to data\\1414563\\transcript_1414563.html\n",
      "Saved DataFrame to data\\1414563\\transcript_1414563.csv\n"
     ]
    },
    {
     "name": "stderr",
     "output_type": "stream",
     "text": [
      "C:\\Users\\javie\\AppData\\Local\\Temp\\ipykernel_11860\\421169734.py:32: FutureWarning: Passing literal html to 'read_html' is deprecated and will be removed in a future version. To read from a literal string, wrap it in a 'StringIO' object.\n",
      "  df_table = pd.read_html(str(table), header=0)[0]\n"
     ]
    },
    {
     "name": "stdout",
     "output_type": "stream",
     "text": [
      "Saved HTML to data\\1418836-…\\transcript_1418836-….html\n",
      "Saved DataFrame to data\\1418836-…\\transcript_1418836-….csv\n"
     ]
    },
    {
     "name": "stderr",
     "output_type": "stream",
     "text": [
      "C:\\Users\\javie\\AppData\\Local\\Temp\\ipykernel_11860\\421169734.py:32: FutureWarning: Passing literal html to 'read_html' is deprecated and will be removed in a future version. To read from a literal string, wrap it in a 'StringIO' object.\n",
      "  df_table = pd.read_html(str(table), header=0)[0]\n"
     ]
    },
    {
     "name": "stdout",
     "output_type": "stream",
     "text": [
      "Saved HTML to data\\1418858\\transcript_1418858.html\n",
      "Saved DataFrame to data\\1418858\\transcript_1418858.csv\n"
     ]
    },
    {
     "name": "stderr",
     "output_type": "stream",
     "text": [
      "C:\\Users\\javie\\AppData\\Local\\Temp\\ipykernel_11860\\421169734.py:32: FutureWarning: Passing literal html to 'read_html' is deprecated and will be removed in a future version. To read from a literal string, wrap it in a 'StringIO' object.\n",
      "  df_table = pd.read_html(str(table), header=0)[0]\n"
     ]
    },
    {
     "name": "stdout",
     "output_type": "stream",
     "text": [
      "Saved HTML to data\\1418889\\transcript_1418889.html\n",
      "Saved DataFrame to data\\1418889\\transcript_1418889.csv\n"
     ]
    },
    {
     "name": "stderr",
     "output_type": "stream",
     "text": [
      "C:\\Users\\javie\\AppData\\Local\\Temp\\ipykernel_11860\\421169734.py:32: FutureWarning: Passing literal html to 'read_html' is deprecated and will be removed in a future version. To read from a literal string, wrap it in a 'StringIO' object.\n",
      "  df_table = pd.read_html(str(table), header=0)[0]\n"
     ]
    },
    {
     "name": "stdout",
     "output_type": "stream",
     "text": [
      "Saved HTML to data\\1418903\\transcript_1418903.html\n",
      "Saved DataFrame to data\\1418903\\transcript_1418903.csv\n"
     ]
    },
    {
     "name": "stderr",
     "output_type": "stream",
     "text": [
      "C:\\Users\\javie\\AppData\\Local\\Temp\\ipykernel_11860\\421169734.py:32: FutureWarning: Passing literal html to 'read_html' is deprecated and will be removed in a future version. To read from a literal string, wrap it in a 'StringIO' object.\n",
      "  df_table = pd.read_html(str(table), header=0)[0]\n",
      "C:\\Users\\javie\\AppData\\Local\\Temp\\ipykernel_11860\\421169734.py:32: FutureWarning: Passing literal html to 'read_html' is deprecated and will be removed in a future version. To read from a literal string, wrap it in a 'StringIO' object.\n",
      "  df_table = pd.read_html(str(table), header=0)[0]\n"
     ]
    },
    {
     "name": "stdout",
     "output_type": "stream",
     "text": [
      "Saved HTML to data\\1419118\\transcript_1419118.html\n",
      "Saved DataFrame to data\\1419118\\transcript_1419118.csv\n",
      "Saved HTML to data\\1419120\\transcript_1419120.html\n",
      "Saved DataFrame to data\\1419120\\transcript_1419120.csv\n"
     ]
    },
    {
     "name": "stderr",
     "output_type": "stream",
     "text": [
      "C:\\Users\\javie\\AppData\\Local\\Temp\\ipykernel_11860\\421169734.py:32: FutureWarning: Passing literal html to 'read_html' is deprecated and will be removed in a future version. To read from a literal string, wrap it in a 'StringIO' object.\n",
      "  df_table = pd.read_html(str(table), header=0)[0]\n"
     ]
    },
    {
     "name": "stdout",
     "output_type": "stream",
     "text": [
      "Saved HTML to data\\1419122\\transcript_1419122.html\n",
      "Saved DataFrame to data\\1419122\\transcript_1419122.csv\n"
     ]
    },
    {
     "name": "stderr",
     "output_type": "stream",
     "text": [
      "C:\\Users\\javie\\AppData\\Local\\Temp\\ipykernel_11860\\421169734.py:32: FutureWarning: Passing literal html to 'read_html' is deprecated and will be removed in a future version. To read from a literal string, wrap it in a 'StringIO' object.\n",
      "  df_table = pd.read_html(str(table), header=0)[0]\n"
     ]
    },
    {
     "name": "stdout",
     "output_type": "stream",
     "text": [
      "Saved HTML to data\\1419124\\transcript_1419124.html\n",
      "Saved DataFrame to data\\1419124\\transcript_1419124.csv\n"
     ]
    },
    {
     "name": "stderr",
     "output_type": "stream",
     "text": [
      "C:\\Users\\javie\\AppData\\Local\\Temp\\ipykernel_11860\\421169734.py:32: FutureWarning: Passing literal html to 'read_html' is deprecated and will be removed in a future version. To read from a literal string, wrap it in a 'StringIO' object.\n",
      "  df_table = pd.read_html(str(table), header=0)[0]\n"
     ]
    },
    {
     "name": "stdout",
     "output_type": "stream",
     "text": [
      "Saved HTML to data\\1419126\\transcript_1419126.html\n",
      "Saved DataFrame to data\\1419126\\transcript_1419126.csv\n"
     ]
    },
    {
     "name": "stderr",
     "output_type": "stream",
     "text": [
      "C:\\Users\\javie\\AppData\\Local\\Temp\\ipykernel_11860\\421169734.py:32: FutureWarning: Passing literal html to 'read_html' is deprecated and will be removed in a future version. To read from a literal string, wrap it in a 'StringIO' object.\n",
      "  df_table = pd.read_html(str(table), header=0)[0]\n",
      "C:\\Users\\javie\\AppData\\Local\\Temp\\ipykernel_11860\\421169734.py:32: FutureWarning: Passing literal html to 'read_html' is deprecated and will be removed in a future version. To read from a literal string, wrap it in a 'StringIO' object.\n",
      "  df_table = pd.read_html(str(table), header=0)[0]\n"
     ]
    },
    {
     "name": "stdout",
     "output_type": "stream",
     "text": [
      "Saved HTML to data\\1419128\\transcript_1419128.html\n",
      "Saved DataFrame to data\\1419128\\transcript_1419128.csv\n",
      "Saved HTML to data\\1419130\\transcript_1419130.html\n",
      "Saved DataFrame to data\\1419130\\transcript_1419130.csv\n"
     ]
    },
    {
     "name": "stderr",
     "output_type": "stream",
     "text": [
      "C:\\Users\\javie\\AppData\\Local\\Temp\\ipykernel_11860\\421169734.py:32: FutureWarning: Passing literal html to 'read_html' is deprecated and will be removed in a future version. To read from a literal string, wrap it in a 'StringIO' object.\n",
      "  df_table = pd.read_html(str(table), header=0)[0]\n"
     ]
    },
    {
     "name": "stdout",
     "output_type": "stream",
     "text": [
      "Saved HTML to data\\1419265\\transcript_1419265.html\n",
      "Saved DataFrame to data\\1419265\\transcript_1419265.csv\n"
     ]
    },
    {
     "name": "stderr",
     "output_type": "stream",
     "text": [
      "C:\\Users\\javie\\AppData\\Local\\Temp\\ipykernel_11860\\421169734.py:32: FutureWarning: Passing literal html to 'read_html' is deprecated and will be removed in a future version. To read from a literal string, wrap it in a 'StringIO' object.\n",
      "  df_table = pd.read_html(str(table), header=0)[0]\n"
     ]
    },
    {
     "name": "stdout",
     "output_type": "stream",
     "text": [
      "Saved HTML to data\\1419277\\transcript_1419277.html\n",
      "Saved DataFrame to data\\1419277\\transcript_1419277.csv\n"
     ]
    },
    {
     "name": "stderr",
     "output_type": "stream",
     "text": [
      "C:\\Users\\javie\\AppData\\Local\\Temp\\ipykernel_11860\\421169734.py:32: FutureWarning: Passing literal html to 'read_html' is deprecated and will be removed in a future version. To read from a literal string, wrap it in a 'StringIO' object.\n",
      "  df_table = pd.read_html(str(table), header=0)[0]\n"
     ]
    },
    {
     "name": "stdout",
     "output_type": "stream",
     "text": [
      "Saved HTML to data\\1419370\\transcript_1419370.html\n",
      "Saved DataFrame to data\\1419370\\transcript_1419370.csv\n"
     ]
    },
    {
     "name": "stderr",
     "output_type": "stream",
     "text": [
      "C:\\Users\\javie\\AppData\\Local\\Temp\\ipykernel_11860\\421169734.py:32: FutureWarning: Passing literal html to 'read_html' is deprecated and will be removed in a future version. To read from a literal string, wrap it in a 'StringIO' object.\n",
      "  df_table = pd.read_html(str(table), header=0)[0]\n"
     ]
    },
    {
     "name": "stdout",
     "output_type": "stream",
     "text": [
      "Saved HTML to data\\1419607\\transcript_1419607.html\n",
      "Saved DataFrame to data\\1419607\\transcript_1419607.csv\n"
     ]
    },
    {
     "name": "stderr",
     "output_type": "stream",
     "text": [
      "C:\\Users\\javie\\AppData\\Local\\Temp\\ipykernel_11860\\421169734.py:32: FutureWarning: Passing literal html to 'read_html' is deprecated and will be removed in a future version. To read from a literal string, wrap it in a 'StringIO' object.\n",
      "  df_table = pd.read_html(str(table), header=0)[0]\n"
     ]
    },
    {
     "name": "stdout",
     "output_type": "stream",
     "text": [
      "Saved HTML to data\\1419610-…\\transcript_1419610-….html\n",
      "Saved DataFrame to data\\1419610-…\\transcript_1419610-….csv\n",
      "Saved HTML to data\\1419792\\transcript_1419792.html\n",
      "Saved DataFrame to data\\1419792\\transcript_1419792.csv\n"
     ]
    },
    {
     "name": "stderr",
     "output_type": "stream",
     "text": [
      "C:\\Users\\javie\\AppData\\Local\\Temp\\ipykernel_11860\\421169734.py:32: FutureWarning: Passing literal html to 'read_html' is deprecated and will be removed in a future version. To read from a literal string, wrap it in a 'StringIO' object.\n",
      "  df_table = pd.read_html(str(table), header=0)[0]\n",
      "C:\\Users\\javie\\AppData\\Local\\Temp\\ipykernel_11860\\421169734.py:32: FutureWarning: Passing literal html to 'read_html' is deprecated and will be removed in a future version. To read from a literal string, wrap it in a 'StringIO' object.\n",
      "  df_table = pd.read_html(str(table), header=0)[0]\n"
     ]
    },
    {
     "name": "stdout",
     "output_type": "stream",
     "text": [
      "Saved HTML to data\\1419797\\transcript_1419797.html\n",
      "Saved DataFrame to data\\1419797\\transcript_1419797.csv\n"
     ]
    },
    {
     "name": "stderr",
     "output_type": "stream",
     "text": [
      "C:\\Users\\javie\\AppData\\Local\\Temp\\ipykernel_11860\\421169734.py:32: FutureWarning: Passing literal html to 'read_html' is deprecated and will be removed in a future version. To read from a literal string, wrap it in a 'StringIO' object.\n",
      "  df_table = pd.read_html(str(table), header=0)[0]\n"
     ]
    },
    {
     "name": "stdout",
     "output_type": "stream",
     "text": [
      "Saved HTML to data\\1419931\\transcript_1419931.html\n",
      "Saved DataFrame to data\\1419931\\transcript_1419931.csv\n",
      "Saved HTML to data\\1419993\\transcript_1419993.html\n",
      "Saved DataFrame to data\\1419993\\transcript_1419993.csv\n"
     ]
    },
    {
     "name": "stderr",
     "output_type": "stream",
     "text": [
      "C:\\Users\\javie\\AppData\\Local\\Temp\\ipykernel_11860\\421169734.py:32: FutureWarning: Passing literal html to 'read_html' is deprecated and will be removed in a future version. To read from a literal string, wrap it in a 'StringIO' object.\n",
      "  df_table = pd.read_html(str(table), header=0)[0]\n",
      "C:\\Users\\javie\\AppData\\Local\\Temp\\ipykernel_11860\\421169734.py:32: FutureWarning: Passing literal html to 'read_html' is deprecated and will be removed in a future version. To read from a literal string, wrap it in a 'StringIO' object.\n",
      "  df_table = pd.read_html(str(table), header=0)[0]\n"
     ]
    },
    {
     "name": "stdout",
     "output_type": "stream",
     "text": [
      "Saved HTML to data\\1420216\\transcript_1420216.html\n",
      "Saved DataFrame to data\\1420216\\transcript_1420216.csv\n"
     ]
    },
    {
     "name": "stderr",
     "output_type": "stream",
     "text": [
      "C:\\Users\\javie\\AppData\\Local\\Temp\\ipykernel_11860\\421169734.py:32: FutureWarning: Passing literal html to 'read_html' is deprecated and will be removed in a future version. To read from a literal string, wrap it in a 'StringIO' object.\n",
      "  df_table = pd.read_html(str(table), header=0)[0]\n"
     ]
    },
    {
     "name": "stdout",
     "output_type": "stream",
     "text": [
      "Saved HTML to data\\1427114-…\\transcript_1427114-….html\n",
      "Saved DataFrame to data\\1427114-…\\transcript_1427114-….csv\n"
     ]
    },
    {
     "name": "stderr",
     "output_type": "stream",
     "text": [
      "C:\\Users\\javie\\AppData\\Local\\Temp\\ipykernel_11860\\421169734.py:32: FutureWarning: Passing literal html to 'read_html' is deprecated and will be removed in a future version. To read from a literal string, wrap it in a 'StringIO' object.\n",
      "  df_table = pd.read_html(str(table), header=0)[0]\n"
     ]
    },
    {
     "name": "stdout",
     "output_type": "stream",
     "text": [
      "Saved HTML to data\\1427158-…\\transcript_1427158-….html\n",
      "Saved DataFrame to data\\1427158-…\\transcript_1427158-….csv\n"
     ]
    },
    {
     "name": "stderr",
     "output_type": "stream",
     "text": [
      "C:\\Users\\javie\\AppData\\Local\\Temp\\ipykernel_11860\\421169734.py:32: FutureWarning: Passing literal html to 'read_html' is deprecated and will be removed in a future version. To read from a literal string, wrap it in a 'StringIO' object.\n",
      "  df_table = pd.read_html(str(table), header=0)[0]\n"
     ]
    },
    {
     "name": "stdout",
     "output_type": "stream",
     "text": [
      "Saved HTML to data\\1427346\\transcript_1427346.html\n",
      "Saved DataFrame to data\\1427346\\transcript_1427346.csv\n"
     ]
    },
    {
     "name": "stderr",
     "output_type": "stream",
     "text": [
      "C:\\Users\\javie\\AppData\\Local\\Temp\\ipykernel_11860\\421169734.py:32: FutureWarning: Passing literal html to 'read_html' is deprecated and will be removed in a future version. To read from a literal string, wrap it in a 'StringIO' object.\n",
      "  df_table = pd.read_html(str(table), header=0)[0]\n"
     ]
    },
    {
     "name": "stdout",
     "output_type": "stream",
     "text": [
      "Saved HTML to data\\1427368\\transcript_1427368.html\n",
      "Saved DataFrame to data\\1427368\\transcript_1427368.csv\n"
     ]
    },
    {
     "name": "stderr",
     "output_type": "stream",
     "text": [
      "C:\\Users\\javie\\AppData\\Local\\Temp\\ipykernel_11860\\421169734.py:32: FutureWarning: Passing literal html to 'read_html' is deprecated and will be removed in a future version. To read from a literal string, wrap it in a 'StringIO' object.\n",
      "  df_table = pd.read_html(str(table), header=0)[0]\n"
     ]
    },
    {
     "name": "stdout",
     "output_type": "stream",
     "text": [
      "Saved HTML to data\\1427560\\transcript_1427560.html\n",
      "Saved DataFrame to data\\1427560\\transcript_1427560.csv\n"
     ]
    },
    {
     "name": "stderr",
     "output_type": "stream",
     "text": [
      "C:\\Users\\javie\\AppData\\Local\\Temp\\ipykernel_11860\\421169734.py:32: FutureWarning: Passing literal html to 'read_html' is deprecated and will be removed in a future version. To read from a literal string, wrap it in a 'StringIO' object.\n",
      "  df_table = pd.read_html(str(table), header=0)[0]\n"
     ]
    },
    {
     "name": "stdout",
     "output_type": "stream",
     "text": [
      "Saved HTML to data\\1427725\\transcript_1427725.html\n",
      "Saved DataFrame to data\\1427725\\transcript_1427725.csv\n",
      "Saved HTML to data\\1427737\\transcript_1427737.html\n",
      "Saved DataFrame to data\\1427737\\transcript_1427737.csv\n"
     ]
    },
    {
     "name": "stderr",
     "output_type": "stream",
     "text": [
      "C:\\Users\\javie\\AppData\\Local\\Temp\\ipykernel_11860\\421169734.py:32: FutureWarning: Passing literal html to 'read_html' is deprecated and will be removed in a future version. To read from a literal string, wrap it in a 'StringIO' object.\n",
      "  df_table = pd.read_html(str(table), header=0)[0]\n",
      "C:\\Users\\javie\\AppData\\Local\\Temp\\ipykernel_11860\\421169734.py:32: FutureWarning: Passing literal html to 'read_html' is deprecated and will be removed in a future version. To read from a literal string, wrap it in a 'StringIO' object.\n",
      "  df_table = pd.read_html(str(table), header=0)[0]\n"
     ]
    },
    {
     "name": "stdout",
     "output_type": "stream",
     "text": [
      "Saved HTML to data\\1427810\\transcript_1427810.html\n",
      "Saved DataFrame to data\\1427810\\transcript_1427810.csv\n"
     ]
    },
    {
     "name": "stderr",
     "output_type": "stream",
     "text": [
      "C:\\Users\\javie\\AppData\\Local\\Temp\\ipykernel_11860\\421169734.py:32: FutureWarning: Passing literal html to 'read_html' is deprecated and will be removed in a future version. To read from a literal string, wrap it in a 'StringIO' object.\n",
      "  df_table = pd.read_html(str(table), header=0)[0]\n"
     ]
    },
    {
     "name": "stdout",
     "output_type": "stream",
     "text": [
      "Saved HTML to data\\1427995\\transcript_1427995.html\n",
      "Saved DataFrame to data\\1427995\\transcript_1427995.csv\n"
     ]
    },
    {
     "name": "stderr",
     "output_type": "stream",
     "text": [
      "C:\\Users\\javie\\AppData\\Local\\Temp\\ipykernel_11860\\421169734.py:32: FutureWarning: Passing literal html to 'read_html' is deprecated and will be removed in a future version. To read from a literal string, wrap it in a 'StringIO' object.\n",
      "  df_table = pd.read_html(str(table), header=0)[0]\n"
     ]
    },
    {
     "name": "stdout",
     "output_type": "stream",
     "text": [
      "Saved HTML to data\\1428038\\transcript_1428038.html\n",
      "Saved DataFrame to data\\1428038\\transcript_1428038.csv\n"
     ]
    },
    {
     "name": "stderr",
     "output_type": "stream",
     "text": [
      "C:\\Users\\javie\\AppData\\Local\\Temp\\ipykernel_11860\\421169734.py:32: FutureWarning: Passing literal html to 'read_html' is deprecated and will be removed in a future version. To read from a literal string, wrap it in a 'StringIO' object.\n",
      "  df_table = pd.read_html(str(table), header=0)[0]\n"
     ]
    },
    {
     "name": "stdout",
     "output_type": "stream",
     "text": [
      "Saved HTML to data\\1428225\\transcript_1428225.html\n",
      "Saved DataFrame to data\\1428225\\transcript_1428225.csv\n",
      "Saved HTML to data\\1428423\\transcript_1428423.html\n",
      "Saved DataFrame to data\\1428423\\transcript_1428423.csv\n"
     ]
    },
    {
     "name": "stderr",
     "output_type": "stream",
     "text": [
      "C:\\Users\\javie\\AppData\\Local\\Temp\\ipykernel_11860\\421169734.py:32: FutureWarning: Passing literal html to 'read_html' is deprecated and will be removed in a future version. To read from a literal string, wrap it in a 'StringIO' object.\n",
      "  df_table = pd.read_html(str(table), header=0)[0]\n",
      "C:\\Users\\javie\\AppData\\Local\\Temp\\ipykernel_11860\\421169734.py:32: FutureWarning: Passing literal html to 'read_html' is deprecated and will be removed in a future version. To read from a literal string, wrap it in a 'StringIO' object.\n",
      "  df_table = pd.read_html(str(table), header=0)[0]\n"
     ]
    },
    {
     "name": "stdout",
     "output_type": "stream",
     "text": [
      "Saved HTML to data\\1428472\\transcript_1428472.html\n",
      "Saved DataFrame to data\\1428472\\transcript_1428472.csv\n"
     ]
    },
    {
     "name": "stderr",
     "output_type": "stream",
     "text": [
      "C:\\Users\\javie\\AppData\\Local\\Temp\\ipykernel_11860\\421169734.py:32: FutureWarning: Passing literal html to 'read_html' is deprecated and will be removed in a future version. To read from a literal string, wrap it in a 'StringIO' object.\n",
      "  df_table = pd.read_html(str(table), header=0)[0]\n"
     ]
    },
    {
     "name": "stdout",
     "output_type": "stream",
     "text": [
      "Saved HTML to data\\1428475-…\\transcript_1428475-….html\n",
      "Saved DataFrame to data\\1428475-…\\transcript_1428475-….csv\n",
      "Saved HTML to data\\1428661\\transcript_1428661.html\n",
      "Saved DataFrame to data\\1428661\\transcript_1428661.csv\n"
     ]
    },
    {
     "name": "stderr",
     "output_type": "stream",
     "text": [
      "C:\\Users\\javie\\AppData\\Local\\Temp\\ipykernel_11860\\421169734.py:32: FutureWarning: Passing literal html to 'read_html' is deprecated and will be removed in a future version. To read from a literal string, wrap it in a 'StringIO' object.\n",
      "  df_table = pd.read_html(str(table), header=0)[0]\n",
      "C:\\Users\\javie\\AppData\\Local\\Temp\\ipykernel_11860\\421169734.py:32: FutureWarning: Passing literal html to 'read_html' is deprecated and will be removed in a future version. To read from a literal string, wrap it in a 'StringIO' object.\n",
      "  df_table = pd.read_html(str(table), header=0)[0]\n"
     ]
    },
    {
     "name": "stdout",
     "output_type": "stream",
     "text": [
      "Saved HTML to data\\1428805\\transcript_1428805.html\n",
      "Saved DataFrame to data\\1428805\\transcript_1428805.csv\n"
     ]
    },
    {
     "name": "stderr",
     "output_type": "stream",
     "text": [
      "C:\\Users\\javie\\AppData\\Local\\Temp\\ipykernel_11860\\421169734.py:32: FutureWarning: Passing literal html to 'read_html' is deprecated and will be removed in a future version. To read from a literal string, wrap it in a 'StringIO' object.\n",
      "  df_table = pd.read_html(str(table), header=0)[0]\n"
     ]
    },
    {
     "name": "stdout",
     "output_type": "stream",
     "text": [
      "Saved HTML to data\\1428821-…\\transcript_1428821-….html\n",
      "Saved DataFrame to data\\1428821-…\\transcript_1428821-….csv\n"
     ]
    },
    {
     "name": "stderr",
     "output_type": "stream",
     "text": [
      "C:\\Users\\javie\\AppData\\Local\\Temp\\ipykernel_11860\\421169734.py:32: FutureWarning: Passing literal html to 'read_html' is deprecated and will be removed in a future version. To read from a literal string, wrap it in a 'StringIO' object.\n",
      "  df_table = pd.read_html(str(table), header=0)[0]\n"
     ]
    },
    {
     "name": "stdout",
     "output_type": "stream",
     "text": [
      "Saved HTML to data\\1428905\\transcript_1428905.html\n",
      "Saved DataFrame to data\\1428905\\transcript_1428905.csv\n"
     ]
    },
    {
     "name": "stderr",
     "output_type": "stream",
     "text": [
      "C:\\Users\\javie\\AppData\\Local\\Temp\\ipykernel_11860\\421169734.py:32: FutureWarning: Passing literal html to 'read_html' is deprecated and will be removed in a future version. To read from a literal string, wrap it in a 'StringIO' object.\n",
      "  df_table = pd.read_html(str(table), header=0)[0]\n"
     ]
    },
    {
     "name": "stdout",
     "output_type": "stream",
     "text": [
      "Saved HTML to data\\1428907-…\\transcript_1428907-….html\n",
      "Saved DataFrame to data\\1428907-…\\transcript_1428907-….csv\n",
      "Saved HTML to data\\1429044\\transcript_1429044.html\n",
      "Saved DataFrame to data\\1429044\\transcript_1429044.csv\n"
     ]
    },
    {
     "name": "stderr",
     "output_type": "stream",
     "text": [
      "C:\\Users\\javie\\AppData\\Local\\Temp\\ipykernel_11860\\421169734.py:32: FutureWarning: Passing literal html to 'read_html' is deprecated and will be removed in a future version. To read from a literal string, wrap it in a 'StringIO' object.\n",
      "  df_table = pd.read_html(str(table), header=0)[0]\n",
      "C:\\Users\\javie\\AppData\\Local\\Temp\\ipykernel_11860\\421169734.py:32: FutureWarning: Passing literal html to 'read_html' is deprecated and will be removed in a future version. To read from a literal string, wrap it in a 'StringIO' object.\n",
      "  df_table = pd.read_html(str(table), header=0)[0]\n"
     ]
    },
    {
     "name": "stdout",
     "output_type": "stream",
     "text": [
      "Saved HTML to data\\1429064\\transcript_1429064.html\n",
      "Saved DataFrame to data\\1429064\\transcript_1429064.csv\n"
     ]
    },
    {
     "name": "stderr",
     "output_type": "stream",
     "text": [
      "C:\\Users\\javie\\AppData\\Local\\Temp\\ipykernel_11860\\421169734.py:32: FutureWarning: Passing literal html to 'read_html' is deprecated and will be removed in a future version. To read from a literal string, wrap it in a 'StringIO' object.\n",
      "  df_table = pd.read_html(str(table), header=0)[0]\n"
     ]
    },
    {
     "name": "stdout",
     "output_type": "stream",
     "text": [
      "Saved HTML to data\\1429124-…\\transcript_1429124-….html\n",
      "Saved DataFrame to data\\1429124-…\\transcript_1429124-….csv\n"
     ]
    },
    {
     "name": "stderr",
     "output_type": "stream",
     "text": [
      "C:\\Users\\javie\\AppData\\Local\\Temp\\ipykernel_11860\\421169734.py:32: FutureWarning: Passing literal html to 'read_html' is deprecated and will be removed in a future version. To read from a literal string, wrap it in a 'StringIO' object.\n",
      "  df_table = pd.read_html(str(table), header=0)[0]\n"
     ]
    },
    {
     "name": "stdout",
     "output_type": "stream",
     "text": [
      "Saved HTML to data\\1429310\\transcript_1429310.html\n",
      "Saved DataFrame to data\\1429310\\transcript_1429310.csv\n"
     ]
    },
    {
     "name": "stderr",
     "output_type": "stream",
     "text": [
      "C:\\Users\\javie\\AppData\\Local\\Temp\\ipykernel_11860\\421169734.py:32: FutureWarning: Passing literal html to 'read_html' is deprecated and will be removed in a future version. To read from a literal string, wrap it in a 'StringIO' object.\n",
      "  df_table = pd.read_html(str(table), header=0)[0]\n"
     ]
    },
    {
     "name": "stdout",
     "output_type": "stream",
     "text": [
      "Saved HTML to data\\1429709-…\\transcript_1429709-….html\n",
      "Saved DataFrame to data\\1429709-…\\transcript_1429709-….csv\n"
     ]
    },
    {
     "name": "stderr",
     "output_type": "stream",
     "text": [
      "C:\\Users\\javie\\AppData\\Local\\Temp\\ipykernel_11860\\421169734.py:32: FutureWarning: Passing literal html to 'read_html' is deprecated and will be removed in a future version. To read from a literal string, wrap it in a 'StringIO' object.\n",
      "  df_table = pd.read_html(str(table), header=0)[0]\n"
     ]
    },
    {
     "name": "stdout",
     "output_type": "stream",
     "text": [
      "Saved HTML to data\\1429737\\transcript_1429737.html\n",
      "Saved DataFrame to data\\1429737\\transcript_1429737.csv\n"
     ]
    },
    {
     "name": "stderr",
     "output_type": "stream",
     "text": [
      "C:\\Users\\javie\\AppData\\Local\\Temp\\ipykernel_11860\\421169734.py:32: FutureWarning: Passing literal html to 'read_html' is deprecated and will be removed in a future version. To read from a literal string, wrap it in a 'StringIO' object.\n",
      "  df_table = pd.read_html(str(table), header=0)[0]\n"
     ]
    },
    {
     "name": "stdout",
     "output_type": "stream",
     "text": [
      "Saved HTML to data\\1429781-…\\transcript_1429781-….html\n",
      "Saved DataFrame to data\\1429781-…\\transcript_1429781-….csv\n"
     ]
    },
    {
     "name": "stderr",
     "output_type": "stream",
     "text": [
      "C:\\Users\\javie\\AppData\\Local\\Temp\\ipykernel_11860\\421169734.py:32: FutureWarning: Passing literal html to 'read_html' is deprecated and will be removed in a future version. To read from a literal string, wrap it in a 'StringIO' object.\n",
      "  df_table = pd.read_html(str(table), header=0)[0]\n"
     ]
    },
    {
     "name": "stdout",
     "output_type": "stream",
     "text": [
      "Saved HTML to data\\1429781-…\\transcript_1429781-….html\n",
      "Saved DataFrame to data\\1429781-…\\transcript_1429781-….csv\n"
     ]
    },
    {
     "name": "stderr",
     "output_type": "stream",
     "text": [
      "C:\\Users\\javie\\AppData\\Local\\Temp\\ipykernel_11860\\421169734.py:32: FutureWarning: Passing literal html to 'read_html' is deprecated and will be removed in a future version. To read from a literal string, wrap it in a 'StringIO' object.\n",
      "  df_table = pd.read_html(str(table), header=0)[0]\n"
     ]
    },
    {
     "name": "stdout",
     "output_type": "stream",
     "text": [
      "Saved HTML to data\\1429910-…\\transcript_1429910-….html\n",
      "Saved DataFrame to data\\1429910-…\\transcript_1429910-….csv\n",
      "Saved HTML to data\\1429959\\transcript_1429959.html\n",
      "Saved DataFrame to data\\1429959\\transcript_1429959.csv\n"
     ]
    },
    {
     "name": "stderr",
     "output_type": "stream",
     "text": [
      "C:\\Users\\javie\\AppData\\Local\\Temp\\ipykernel_11860\\421169734.py:32: FutureWarning: Passing literal html to 'read_html' is deprecated and will be removed in a future version. To read from a literal string, wrap it in a 'StringIO' object.\n",
      "  df_table = pd.read_html(str(table), header=0)[0]\n",
      "C:\\Users\\javie\\AppData\\Local\\Temp\\ipykernel_11860\\421169734.py:32: FutureWarning: Passing literal html to 'read_html' is deprecated and will be removed in a future version. To read from a literal string, wrap it in a 'StringIO' object.\n",
      "  df_table = pd.read_html(str(table), header=0)[0]\n"
     ]
    },
    {
     "name": "stdout",
     "output_type": "stream",
     "text": [
      "Saved HTML to data\\1429964\\transcript_1429964.html\n",
      "Saved DataFrame to data\\1429964\\transcript_1429964.csv\n"
     ]
    },
    {
     "name": "stderr",
     "output_type": "stream",
     "text": [
      "C:\\Users\\javie\\AppData\\Local\\Temp\\ipykernel_11860\\421169734.py:32: FutureWarning: Passing literal html to 'read_html' is deprecated and will be removed in a future version. To read from a literal string, wrap it in a 'StringIO' object.\n",
      "  df_table = pd.read_html(str(table), header=0)[0]\n"
     ]
    },
    {
     "name": "stdout",
     "output_type": "stream",
     "text": [
      "Saved HTML to data\\1430328\\transcript_1430328.html\n",
      "Saved DataFrame to data\\1430328\\transcript_1430328.csv\n"
     ]
    },
    {
     "name": "stderr",
     "output_type": "stream",
     "text": [
      "C:\\Users\\javie\\AppData\\Local\\Temp\\ipykernel_11860\\421169734.py:32: FutureWarning: Passing literal html to 'read_html' is deprecated and will be removed in a future version. To read from a literal string, wrap it in a 'StringIO' object.\n",
      "  df_table = pd.read_html(str(table), header=0)[0]\n"
     ]
    },
    {
     "name": "stdout",
     "output_type": "stream",
     "text": [
      "Saved HTML to data\\1430396\\transcript_1430396.html\n",
      "Saved DataFrame to data\\1430396\\transcript_1430396.csv\n",
      "Saved HTML to data\\1430585\\transcript_1430585.html\n",
      "Saved DataFrame to data\\1430585\\transcript_1430585.csv\n"
     ]
    },
    {
     "name": "stderr",
     "output_type": "stream",
     "text": [
      "C:\\Users\\javie\\AppData\\Local\\Temp\\ipykernel_11860\\421169734.py:32: FutureWarning: Passing literal html to 'read_html' is deprecated and will be removed in a future version. To read from a literal string, wrap it in a 'StringIO' object.\n",
      "  df_table = pd.read_html(str(table), header=0)[0]\n",
      "C:\\Users\\javie\\AppData\\Local\\Temp\\ipykernel_11860\\421169734.py:32: FutureWarning: Passing literal html to 'read_html' is deprecated and will be removed in a future version. To read from a literal string, wrap it in a 'StringIO' object.\n",
      "  df_table = pd.read_html(str(table), header=0)[0]\n"
     ]
    },
    {
     "name": "stdout",
     "output_type": "stream",
     "text": [
      "Saved HTML to data\\1430590\\transcript_1430590.html\n",
      "Saved DataFrame to data\\1430590\\transcript_1430590.csv\n"
     ]
    },
    {
     "name": "stderr",
     "output_type": "stream",
     "text": [
      "C:\\Users\\javie\\AppData\\Local\\Temp\\ipykernel_11860\\421169734.py:32: FutureWarning: Passing literal html to 'read_html' is deprecated and will be removed in a future version. To read from a literal string, wrap it in a 'StringIO' object.\n",
      "  df_table = pd.read_html(str(table), header=0)[0]\n"
     ]
    },
    {
     "name": "stdout",
     "output_type": "stream",
     "text": [
      "Saved HTML to data\\1430592\\transcript_1430592.html\n",
      "Saved DataFrame to data\\1430592\\transcript_1430592.csv\n"
     ]
    },
    {
     "name": "stderr",
     "output_type": "stream",
     "text": [
      "C:\\Users\\javie\\AppData\\Local\\Temp\\ipykernel_11860\\421169734.py:32: FutureWarning: Passing literal html to 'read_html' is deprecated and will be removed in a future version. To read from a literal string, wrap it in a 'StringIO' object.\n",
      "  df_table = pd.read_html(str(table), header=0)[0]\n"
     ]
    },
    {
     "name": "stdout",
     "output_type": "stream",
     "text": [
      "Saved HTML to data\\1430628\\transcript_1430628.html\n",
      "Saved DataFrame to data\\1430628\\transcript_1430628.csv\n"
     ]
    },
    {
     "name": "stderr",
     "output_type": "stream",
     "text": [
      "C:\\Users\\javie\\AppData\\Local\\Temp\\ipykernel_11860\\421169734.py:32: FutureWarning: Passing literal html to 'read_html' is deprecated and will be removed in a future version. To read from a literal string, wrap it in a 'StringIO' object.\n",
      "  df_table = pd.read_html(str(table), header=0)[0]\n"
     ]
    },
    {
     "name": "stdout",
     "output_type": "stream",
     "text": [
      "Saved HTML to data\\1430832\\transcript_1430832.html\n",
      "Saved DataFrame to data\\1430832\\transcript_1430832.csv\n"
     ]
    },
    {
     "name": "stderr",
     "output_type": "stream",
     "text": [
      "C:\\Users\\javie\\AppData\\Local\\Temp\\ipykernel_11860\\421169734.py:32: FutureWarning: Passing literal html to 'read_html' is deprecated and will be removed in a future version. To read from a literal string, wrap it in a 'StringIO' object.\n",
      "  df_table = pd.read_html(str(table), header=0)[0]\n"
     ]
    },
    {
     "name": "stdout",
     "output_type": "stream",
     "text": [
      "Saved HTML to data\\1431222\\transcript_1431222.html\n",
      "Saved DataFrame to data\\1431222\\transcript_1431222.csv\n"
     ]
    },
    {
     "name": "stderr",
     "output_type": "stream",
     "text": [
      "C:\\Users\\javie\\AppData\\Local\\Temp\\ipykernel_11860\\421169734.py:32: FutureWarning: Passing literal html to 'read_html' is deprecated and will be removed in a future version. To read from a literal string, wrap it in a 'StringIO' object.\n",
      "  df_table = pd.read_html(str(table), header=0)[0]\n"
     ]
    },
    {
     "name": "stdout",
     "output_type": "stream",
     "text": [
      "Saved HTML to data\\1431224\\transcript_1431224.html\n",
      "Saved DataFrame to data\\1431224\\transcript_1431224.csv\n"
     ]
    },
    {
     "name": "stderr",
     "output_type": "stream",
     "text": [
      "C:\\Users\\javie\\AppData\\Local\\Temp\\ipykernel_11860\\421169734.py:32: FutureWarning: Passing literal html to 'read_html' is deprecated and will be removed in a future version. To read from a literal string, wrap it in a 'StringIO' object.\n",
      "  df_table = pd.read_html(str(table), header=0)[0]\n"
     ]
    },
    {
     "name": "stdout",
     "output_type": "stream",
     "text": [
      "Saved HTML to data\\1431277-…\\transcript_1431277-….html\n",
      "Saved DataFrame to data\\1431277-…\\transcript_1431277-….csv\n"
     ]
    },
    {
     "name": "stderr",
     "output_type": "stream",
     "text": [
      "C:\\Users\\javie\\AppData\\Local\\Temp\\ipykernel_11860\\421169734.py:32: FutureWarning: Passing literal html to 'read_html' is deprecated and will be removed in a future version. To read from a literal string, wrap it in a 'StringIO' object.\n",
      "  df_table = pd.read_html(str(table), header=0)[0]\n"
     ]
    },
    {
     "name": "stdout",
     "output_type": "stream",
     "text": [
      "Saved HTML to data\\1431277-…\\transcript_1431277-….html\n",
      "Saved DataFrame to data\\1431277-…\\transcript_1431277-….csv\n"
     ]
    },
    {
     "name": "stderr",
     "output_type": "stream",
     "text": [
      "C:\\Users\\javie\\AppData\\Local\\Temp\\ipykernel_11860\\421169734.py:32: FutureWarning: Passing literal html to 'read_html' is deprecated and will be removed in a future version. To read from a literal string, wrap it in a 'StringIO' object.\n",
      "  df_table = pd.read_html(str(table), header=0)[0]\n"
     ]
    },
    {
     "name": "stdout",
     "output_type": "stream",
     "text": [
      "Saved HTML to data\\1431428\\transcript_1431428.html\n",
      "Saved DataFrame to data\\1431428\\transcript_1431428.csv\n"
     ]
    },
    {
     "name": "stderr",
     "output_type": "stream",
     "text": [
      "C:\\Users\\javie\\AppData\\Local\\Temp\\ipykernel_11860\\421169734.py:32: FutureWarning: Passing literal html to 'read_html' is deprecated and will be removed in a future version. To read from a literal string, wrap it in a 'StringIO' object.\n",
      "  df_table = pd.read_html(str(table), header=0)[0]\n",
      "C:\\Users\\javie\\AppData\\Local\\Temp\\ipykernel_11860\\421169734.py:32: FutureWarning: Passing literal html to 'read_html' is deprecated and will be removed in a future version. To read from a literal string, wrap it in a 'StringIO' object.\n",
      "  df_table = pd.read_html(str(table), header=0)[0]\n"
     ]
    },
    {
     "name": "stdout",
     "output_type": "stream",
     "text": [
      "Saved HTML to data\\1431486-…\\transcript_1431486-….html\n",
      "Saved DataFrame to data\\1431486-…\\transcript_1431486-….csv\n",
      "Saved HTML to data\\1431488\\transcript_1431488.html\n",
      "Saved DataFrame to data\\1431488\\transcript_1431488.csv\n"
     ]
    },
    {
     "name": "stderr",
     "output_type": "stream",
     "text": [
      "C:\\Users\\javie\\AppData\\Local\\Temp\\ipykernel_11860\\421169734.py:32: FutureWarning: Passing literal html to 'read_html' is deprecated and will be removed in a future version. To read from a literal string, wrap it in a 'StringIO' object.\n",
      "  df_table = pd.read_html(str(table), header=0)[0]\n"
     ]
    },
    {
     "name": "stdout",
     "output_type": "stream",
     "text": [
      "Saved HTML to data\\1431490\\transcript_1431490.html\n",
      "Saved DataFrame to data\\1431490\\transcript_1431490.csv\n"
     ]
    },
    {
     "name": "stderr",
     "output_type": "stream",
     "text": [
      "C:\\Users\\javie\\AppData\\Local\\Temp\\ipykernel_11860\\421169734.py:32: FutureWarning: Passing literal html to 'read_html' is deprecated and will be removed in a future version. To read from a literal string, wrap it in a 'StringIO' object.\n",
      "  df_table = pd.read_html(str(table), header=0)[0]\n"
     ]
    },
    {
     "name": "stdout",
     "output_type": "stream",
     "text": [
      "Saved HTML to data\\1431642-…\\transcript_1431642-….html\n",
      "Saved DataFrame to data\\1431642-…\\transcript_1431642-….csv\n"
     ]
    },
    {
     "name": "stderr",
     "output_type": "stream",
     "text": [
      "C:\\Users\\javie\\AppData\\Local\\Temp\\ipykernel_11860\\421169734.py:32: FutureWarning: Passing literal html to 'read_html' is deprecated and will be removed in a future version. To read from a literal string, wrap it in a 'StringIO' object.\n",
      "  df_table = pd.read_html(str(table), header=0)[0]\n"
     ]
    },
    {
     "name": "stdout",
     "output_type": "stream",
     "text": [
      "Saved HTML to data\\1431676\\transcript_1431676.html\n",
      "Saved DataFrame to data\\1431676\\transcript_1431676.csv\n"
     ]
    },
    {
     "name": "stderr",
     "output_type": "stream",
     "text": [
      "C:\\Users\\javie\\AppData\\Local\\Temp\\ipykernel_11860\\421169734.py:32: FutureWarning: Passing literal html to 'read_html' is deprecated and will be removed in a future version. To read from a literal string, wrap it in a 'StringIO' object.\n",
      "  df_table = pd.read_html(str(table), header=0)[0]\n"
     ]
    },
    {
     "name": "stdout",
     "output_type": "stream",
     "text": [
      "Saved HTML to data\\1431690\\transcript_1431690.html\n",
      "Saved DataFrame to data\\1431690\\transcript_1431690.csv\n"
     ]
    },
    {
     "name": "stderr",
     "output_type": "stream",
     "text": [
      "C:\\Users\\javie\\AppData\\Local\\Temp\\ipykernel_11860\\421169734.py:32: FutureWarning: Passing literal html to 'read_html' is deprecated and will be removed in a future version. To read from a literal string, wrap it in a 'StringIO' object.\n",
      "  df_table = pd.read_html(str(table), header=0)[0]\n"
     ]
    },
    {
     "name": "stdout",
     "output_type": "stream",
     "text": [
      "Saved HTML to data\\1431896\\transcript_1431896.html\n",
      "Saved DataFrame to data\\1431896\\transcript_1431896.csv\n"
     ]
    },
    {
     "name": "stderr",
     "output_type": "stream",
     "text": [
      "C:\\Users\\javie\\AppData\\Local\\Temp\\ipykernel_11860\\421169734.py:32: FutureWarning: Passing literal html to 'read_html' is deprecated and will be removed in a future version. To read from a literal string, wrap it in a 'StringIO' object.\n",
      "  df_table = pd.read_html(str(table), header=0)[0]\n"
     ]
    },
    {
     "name": "stdout",
     "output_type": "stream",
     "text": [
      "Saved HTML to data\\1431982\\transcript_1431982.html\n",
      "Saved DataFrame to data\\1431982\\transcript_1431982.csv\n"
     ]
    },
    {
     "name": "stderr",
     "output_type": "stream",
     "text": [
      "C:\\Users\\javie\\AppData\\Local\\Temp\\ipykernel_11860\\421169734.py:32: FutureWarning: Passing literal html to 'read_html' is deprecated and will be removed in a future version. To read from a literal string, wrap it in a 'StringIO' object.\n",
      "  df_table = pd.read_html(str(table), header=0)[0]\n"
     ]
    },
    {
     "name": "stdout",
     "output_type": "stream",
     "text": [
      "Saved HTML to data\\1432043\\transcript_1432043.html\n",
      "Saved DataFrame to data\\1432043\\transcript_1432043.csv\n"
     ]
    },
    {
     "name": "stderr",
     "output_type": "stream",
     "text": [
      "C:\\Users\\javie\\AppData\\Local\\Temp\\ipykernel_11860\\421169734.py:32: FutureWarning: Passing literal html to 'read_html' is deprecated and will be removed in a future version. To read from a literal string, wrap it in a 'StringIO' object.\n",
      "  df_table = pd.read_html(str(table), header=0)[0]\n"
     ]
    },
    {
     "name": "stdout",
     "output_type": "stream",
     "text": [
      "Saved HTML to data\\1433410\\transcript_1433410.html\n",
      "Saved DataFrame to data\\1433410\\transcript_1433410.csv\n"
     ]
    },
    {
     "name": "stderr",
     "output_type": "stream",
     "text": [
      "C:\\Users\\javie\\AppData\\Local\\Temp\\ipykernel_11860\\421169734.py:32: FutureWarning: Passing literal html to 'read_html' is deprecated and will be removed in a future version. To read from a literal string, wrap it in a 'StringIO' object.\n",
      "  df_table = pd.read_html(str(table), header=0)[0]\n"
     ]
    },
    {
     "name": "stdout",
     "output_type": "stream",
     "text": [
      "Saved HTML to data\\1433543\\transcript_1433543.html\n",
      "Saved DataFrame to data\\1433543\\transcript_1433543.csv\n",
      "Saved HTML to data\\1433650\\transcript_1433650.html\n",
      "Saved DataFrame to data\\1433650\\transcript_1433650.csv\n"
     ]
    },
    {
     "name": "stderr",
     "output_type": "stream",
     "text": [
      "C:\\Users\\javie\\AppData\\Local\\Temp\\ipykernel_11860\\421169734.py:32: FutureWarning: Passing literal html to 'read_html' is deprecated and will be removed in a future version. To read from a literal string, wrap it in a 'StringIO' object.\n",
      "  df_table = pd.read_html(str(table), header=0)[0]\n",
      "C:\\Users\\javie\\AppData\\Local\\Temp\\ipykernel_11860\\421169734.py:32: FutureWarning: Passing literal html to 'read_html' is deprecated and will be removed in a future version. To read from a literal string, wrap it in a 'StringIO' object.\n",
      "  df_table = pd.read_html(str(table), header=0)[0]\n"
     ]
    },
    {
     "name": "stdout",
     "output_type": "stream",
     "text": [
      "Saved HTML to data\\1433652\\transcript_1433652.html\n",
      "Saved DataFrame to data\\1433652\\transcript_1433652.csv\n"
     ]
    },
    {
     "name": "stderr",
     "output_type": "stream",
     "text": [
      "C:\\Users\\javie\\AppData\\Local\\Temp\\ipykernel_11860\\421169734.py:32: FutureWarning: Passing literal html to 'read_html' is deprecated and will be removed in a future version. To read from a literal string, wrap it in a 'StringIO' object.\n",
      "  df_table = pd.read_html(str(table), header=0)[0]\n"
     ]
    },
    {
     "name": "stdout",
     "output_type": "stream",
     "text": [
      "Saved HTML to data\\1433655\\transcript_1433655.html\n",
      "Saved DataFrame to data\\1433655\\transcript_1433655.csv\n"
     ]
    },
    {
     "name": "stderr",
     "output_type": "stream",
     "text": [
      "C:\\Users\\javie\\AppData\\Local\\Temp\\ipykernel_11860\\421169734.py:32: FutureWarning: Passing literal html to 'read_html' is deprecated and will be removed in a future version. To read from a literal string, wrap it in a 'StringIO' object.\n",
      "  df_table = pd.read_html(str(table), header=0)[0]\n"
     ]
    },
    {
     "name": "stdout",
     "output_type": "stream",
     "text": [
      "Saved HTML to data\\1582205\\transcript_1582205.html\n",
      "Saved DataFrame to data\\1582205\\transcript_1582205.csv\n"
     ]
    },
    {
     "name": "stderr",
     "output_type": "stream",
     "text": [
      "C:\\Users\\javie\\AppData\\Local\\Temp\\ipykernel_11860\\421169734.py:32: FutureWarning: Passing literal html to 'read_html' is deprecated and will be removed in a future version. To read from a literal string, wrap it in a 'StringIO' object.\n",
      "  df_table = pd.read_html(str(table), header=0)[0]\n"
     ]
    },
    {
     "name": "stdout",
     "output_type": "stream",
     "text": [
      "Saved HTML to data\\1582399-…\\transcript_1582399-….html\n",
      "Saved DataFrame to data\\1582399-…\\transcript_1582399-….csv\n"
     ]
    },
    {
     "name": "stderr",
     "output_type": "stream",
     "text": [
      "C:\\Users\\javie\\AppData\\Local\\Temp\\ipykernel_11860\\421169734.py:32: FutureWarning: Passing literal html to 'read_html' is deprecated and will be removed in a future version. To read from a literal string, wrap it in a 'StringIO' object.\n",
      "  df_table = pd.read_html(str(table), header=0)[0]\n"
     ]
    },
    {
     "name": "stdout",
     "output_type": "stream",
     "text": [
      "Saved HTML to data\\1582439\\transcript_1582439.html\n",
      "Saved DataFrame to data\\1582439\\transcript_1582439.csv\n"
     ]
    },
    {
     "name": "stderr",
     "output_type": "stream",
     "text": [
      "C:\\Users\\javie\\AppData\\Local\\Temp\\ipykernel_11860\\421169734.py:32: FutureWarning: Passing literal html to 'read_html' is deprecated and will be removed in a future version. To read from a literal string, wrap it in a 'StringIO' object.\n",
      "  df_table = pd.read_html(str(table), header=0)[0]\n"
     ]
    },
    {
     "name": "stdout",
     "output_type": "stream",
     "text": [
      "Saved HTML to data\\1582642\\transcript_1582642.html\n",
      "Saved DataFrame to data\\1582642\\transcript_1582642.csv\n"
     ]
    },
    {
     "name": "stderr",
     "output_type": "stream",
     "text": [
      "C:\\Users\\javie\\AppData\\Local\\Temp\\ipykernel_11860\\421169734.py:32: FutureWarning: Passing literal html to 'read_html' is deprecated and will be removed in a future version. To read from a literal string, wrap it in a 'StringIO' object.\n",
      "  df_table = pd.read_html(str(table), header=0)[0]\n"
     ]
    },
    {
     "name": "stdout",
     "output_type": "stream",
     "text": [
      "Saved HTML to data\\1582654\\transcript_1582654.html\n",
      "Saved DataFrame to data\\1582654\\transcript_1582654.csv\n",
      "Saved HTML to data\\1582838\\transcript_1582838.html\n",
      "Saved DataFrame to data\\1582838\\transcript_1582838.csv\n"
     ]
    },
    {
     "name": "stderr",
     "output_type": "stream",
     "text": [
      "C:\\Users\\javie\\AppData\\Local\\Temp\\ipykernel_11860\\421169734.py:32: FutureWarning: Passing literal html to 'read_html' is deprecated and will be removed in a future version. To read from a literal string, wrap it in a 'StringIO' object.\n",
      "  df_table = pd.read_html(str(table), header=0)[0]\n",
      "C:\\Users\\javie\\AppData\\Local\\Temp\\ipykernel_11860\\421169734.py:32: FutureWarning: Passing literal html to 'read_html' is deprecated and will be removed in a future version. To read from a literal string, wrap it in a 'StringIO' object.\n",
      "  df_table = pd.read_html(str(table), header=0)[0]\n"
     ]
    },
    {
     "name": "stdout",
     "output_type": "stream",
     "text": [
      "Saved HTML to data\\1582841\\transcript_1582841.html\n",
      "Saved DataFrame to data\\1582841\\transcript_1582841.csv\n"
     ]
    },
    {
     "name": "stderr",
     "output_type": "stream",
     "text": [
      "C:\\Users\\javie\\AppData\\Local\\Temp\\ipykernel_11860\\421169734.py:32: FutureWarning: Passing literal html to 'read_html' is deprecated and will be removed in a future version. To read from a literal string, wrap it in a 'StringIO' object.\n",
      "  df_table = pd.read_html(str(table), header=0)[0]\n"
     ]
    },
    {
     "name": "stdout",
     "output_type": "stream",
     "text": [
      "Saved HTML to data\\1583043\\transcript_1583043.html\n",
      "Saved DataFrame to data\\1583043\\transcript_1583043.csv\n"
     ]
    },
    {
     "name": "stderr",
     "output_type": "stream",
     "text": [
      "C:\\Users\\javie\\AppData\\Local\\Temp\\ipykernel_11860\\421169734.py:32: FutureWarning: Passing literal html to 'read_html' is deprecated and will be removed in a future version. To read from a literal string, wrap it in a 'StringIO' object.\n",
      "  df_table = pd.read_html(str(table), header=0)[0]\n"
     ]
    },
    {
     "name": "stdout",
     "output_type": "stream",
     "text": [
      "Saved HTML to data\\1583214\\transcript_1583214.html\n",
      "Saved DataFrame to data\\1583214\\transcript_1583214.csv\n"
     ]
    },
    {
     "name": "stderr",
     "output_type": "stream",
     "text": [
      "C:\\Users\\javie\\AppData\\Local\\Temp\\ipykernel_11860\\421169734.py:32: FutureWarning: Passing literal html to 'read_html' is deprecated and will be removed in a future version. To read from a literal string, wrap it in a 'StringIO' object.\n",
      "  df_table = pd.read_html(str(table), header=0)[0]\n"
     ]
    },
    {
     "name": "stdout",
     "output_type": "stream",
     "text": [
      "Saved HTML to data\\1583322-…\\transcript_1583322-….html\n",
      "Saved DataFrame to data\\1583322-…\\transcript_1583322-….csv\n"
     ]
    },
    {
     "name": "stderr",
     "output_type": "stream",
     "text": [
      "C:\\Users\\javie\\AppData\\Local\\Temp\\ipykernel_11860\\421169734.py:32: FutureWarning: Passing literal html to 'read_html' is deprecated and will be removed in a future version. To read from a literal string, wrap it in a 'StringIO' object.\n",
      "  df_table = pd.read_html(str(table), header=0)[0]\n"
     ]
    },
    {
     "name": "stdout",
     "output_type": "stream",
     "text": [
      "Saved HTML to data\\1583882\\transcript_1583882.html\n",
      "Saved DataFrame to data\\1583882\\transcript_1583882.csv\n",
      "Saved HTML to data\\1583945\\transcript_1583945.html\n",
      "Saved DataFrame to data\\1583945\\transcript_1583945.csv\n"
     ]
    },
    {
     "name": "stderr",
     "output_type": "stream",
     "text": [
      "C:\\Users\\javie\\AppData\\Local\\Temp\\ipykernel_11860\\421169734.py:32: FutureWarning: Passing literal html to 'read_html' is deprecated and will be removed in a future version. To read from a literal string, wrap it in a 'StringIO' object.\n",
      "  df_table = pd.read_html(str(table), header=0)[0]\n",
      "C:\\Users\\javie\\AppData\\Local\\Temp\\ipykernel_11860\\421169734.py:32: FutureWarning: Passing literal html to 'read_html' is deprecated and will be removed in a future version. To read from a literal string, wrap it in a 'StringIO' object.\n",
      "  df_table = pd.read_html(str(table), header=0)[0]\n"
     ]
    },
    {
     "name": "stdout",
     "output_type": "stream",
     "text": [
      "Saved HTML to data\\1583950\\transcript_1583950.html\n",
      "Saved DataFrame to data\\1583950\\transcript_1583950.csv\n"
     ]
    },
    {
     "name": "stderr",
     "output_type": "stream",
     "text": [
      "C:\\Users\\javie\\AppData\\Local\\Temp\\ipykernel_11860\\421169734.py:32: FutureWarning: Passing literal html to 'read_html' is deprecated and will be removed in a future version. To read from a literal string, wrap it in a 'StringIO' object.\n",
      "  df_table = pd.read_html(str(table), header=0)[0]\n"
     ]
    },
    {
     "name": "stdout",
     "output_type": "stream",
     "text": [
      "Saved HTML to data\\1583964\\transcript_1583964.html\n",
      "Saved DataFrame to data\\1583964\\transcript_1583964.csv\n"
     ]
    },
    {
     "name": "stderr",
     "output_type": "stream",
     "text": [
      "C:\\Users\\javie\\AppData\\Local\\Temp\\ipykernel_11860\\421169734.py:32: FutureWarning: Passing literal html to 'read_html' is deprecated and will be removed in a future version. To read from a literal string, wrap it in a 'StringIO' object.\n",
      "  df_table = pd.read_html(str(table), header=0)[0]\n"
     ]
    },
    {
     "name": "stdout",
     "output_type": "stream",
     "text": [
      "Saved HTML to data\\1584198\\transcript_1584198.html\n",
      "Saved DataFrame to data\\1584198\\transcript_1584198.csv\n"
     ]
    },
    {
     "name": "stderr",
     "output_type": "stream",
     "text": [
      "C:\\Users\\javie\\AppData\\Local\\Temp\\ipykernel_11860\\421169734.py:32: FutureWarning: Passing literal html to 'read_html' is deprecated and will be removed in a future version. To read from a literal string, wrap it in a 'StringIO' object.\n",
      "  df_table = pd.read_html(str(table), header=0)[0]\n"
     ]
    },
    {
     "name": "stdout",
     "output_type": "stream",
     "text": [
      "Saved HTML to data\\1584329-…\\transcript_1584329-….html\n",
      "Saved DataFrame to data\\1584329-…\\transcript_1584329-….csv\n"
     ]
    },
    {
     "name": "stderr",
     "output_type": "stream",
     "text": [
      "C:\\Users\\javie\\AppData\\Local\\Temp\\ipykernel_11860\\421169734.py:32: FutureWarning: Passing literal html to 'read_html' is deprecated and will be removed in a future version. To read from a literal string, wrap it in a 'StringIO' object.\n",
      "  df_table = pd.read_html(str(table), header=0)[0]\n"
     ]
    },
    {
     "name": "stdout",
     "output_type": "stream",
     "text": [
      "Saved HTML to data\\1584411\\transcript_1584411.html\n",
      "Saved DataFrame to data\\1584411\\transcript_1584411.csv\n"
     ]
    },
    {
     "name": "stderr",
     "output_type": "stream",
     "text": [
      "C:\\Users\\javie\\AppData\\Local\\Temp\\ipykernel_11860\\421169734.py:32: FutureWarning: Passing literal html to 'read_html' is deprecated and will be removed in a future version. To read from a literal string, wrap it in a 'StringIO' object.\n",
      "  df_table = pd.read_html(str(table), header=0)[0]\n"
     ]
    },
    {
     "name": "stdout",
     "output_type": "stream",
     "text": [
      "Saved HTML to data\\1584545\\transcript_1584545.html\n",
      "Saved DataFrame to data\\1584545\\transcript_1584545.csv\n"
     ]
    },
    {
     "name": "stderr",
     "output_type": "stream",
     "text": [
      "C:\\Users\\javie\\AppData\\Local\\Temp\\ipykernel_11860\\421169734.py:32: FutureWarning: Passing literal html to 'read_html' is deprecated and will be removed in a future version. To read from a literal string, wrap it in a 'StringIO' object.\n",
      "  df_table = pd.read_html(str(table), header=0)[0]\n"
     ]
    },
    {
     "name": "stdout",
     "output_type": "stream",
     "text": [
      "Saved HTML to data\\1584617\\transcript_1584617.html\n",
      "Saved DataFrame to data\\1584617\\transcript_1584617.csv\n"
     ]
    },
    {
     "name": "stderr",
     "output_type": "stream",
     "text": [
      "C:\\Users\\javie\\AppData\\Local\\Temp\\ipykernel_11860\\421169734.py:32: FutureWarning: Passing literal html to 'read_html' is deprecated and will be removed in a future version. To read from a literal string, wrap it in a 'StringIO' object.\n",
      "  df_table = pd.read_html(str(table), header=0)[0]\n"
     ]
    },
    {
     "name": "stdout",
     "output_type": "stream",
     "text": [
      "Saved HTML to data\\1584855\\transcript_1584855.html\n",
      "Saved DataFrame to data\\1584855\\transcript_1584855.csv\n"
     ]
    },
    {
     "name": "stderr",
     "output_type": "stream",
     "text": [
      "C:\\Users\\javie\\AppData\\Local\\Temp\\ipykernel_11860\\421169734.py:32: FutureWarning: Passing literal html to 'read_html' is deprecated and will be removed in a future version. To read from a literal string, wrap it in a 'StringIO' object.\n",
      "  df_table = pd.read_html(str(table), header=0)[0]\n"
     ]
    },
    {
     "name": "stdout",
     "output_type": "stream",
     "text": [
      "Saved HTML to data\\1585089\\transcript_1585089.html\n",
      "Saved DataFrame to data\\1585089\\transcript_1585089.csv\n",
      "Saved HTML to data\\1585269\\transcript_1585269.html\n",
      "Saved DataFrame to data\\1585269\\transcript_1585269.csv\n"
     ]
    },
    {
     "name": "stderr",
     "output_type": "stream",
     "text": [
      "C:\\Users\\javie\\AppData\\Local\\Temp\\ipykernel_11860\\421169734.py:32: FutureWarning: Passing literal html to 'read_html' is deprecated and will be removed in a future version. To read from a literal string, wrap it in a 'StringIO' object.\n",
      "  df_table = pd.read_html(str(table), header=0)[0]\n",
      "C:\\Users\\javie\\AppData\\Local\\Temp\\ipykernel_11860\\421169734.py:32: FutureWarning: Passing literal html to 'read_html' is deprecated and will be removed in a future version. To read from a literal string, wrap it in a 'StringIO' object.\n",
      "  df_table = pd.read_html(str(table), header=0)[0]\n"
     ]
    },
    {
     "name": "stdout",
     "output_type": "stream",
     "text": [
      "Saved HTML to data\\1585286\\transcript_1585286.html\n",
      "Saved DataFrame to data\\1585286\\transcript_1585286.csv\n"
     ]
    },
    {
     "name": "stderr",
     "output_type": "stream",
     "text": [
      "C:\\Users\\javie\\AppData\\Local\\Temp\\ipykernel_11860\\421169734.py:32: FutureWarning: Passing literal html to 'read_html' is deprecated and will be removed in a future version. To read from a literal string, wrap it in a 'StringIO' object.\n",
      "  df_table = pd.read_html(str(table), header=0)[0]\n"
     ]
    },
    {
     "name": "stdout",
     "output_type": "stream",
     "text": [
      "Saved HTML to data\\1585453\\transcript_1585453.html\n",
      "Saved DataFrame to data\\1585453\\transcript_1585453.csv\n"
     ]
    },
    {
     "name": "stderr",
     "output_type": "stream",
     "text": [
      "C:\\Users\\javie\\AppData\\Local\\Temp\\ipykernel_11860\\421169734.py:32: FutureWarning: Passing literal html to 'read_html' is deprecated and will be removed in a future version. To read from a literal string, wrap it in a 'StringIO' object.\n",
      "  df_table = pd.read_html(str(table), header=0)[0]\n"
     ]
    },
    {
     "name": "stdout",
     "output_type": "stream",
     "text": [
      "Saved HTML to data\\1687803-…\\transcript_1687803-….html\n",
      "Saved DataFrame to data\\1687803-…\\transcript_1687803-….csv\n",
      "Saved HTML to data\\1788403\\transcript_1788403.html\n",
      "Saved DataFrame to data\\1788403\\transcript_1788403.csv\n"
     ]
    },
    {
     "name": "stderr",
     "output_type": "stream",
     "text": [
      "C:\\Users\\javie\\AppData\\Local\\Temp\\ipykernel_11860\\421169734.py:32: FutureWarning: Passing literal html to 'read_html' is deprecated and will be removed in a future version. To read from a literal string, wrap it in a 'StringIO' object.\n",
      "  df_table = pd.read_html(str(table), header=0)[0]\n",
      "C:\\Users\\javie\\AppData\\Local\\Temp\\ipykernel_11860\\421169734.py:32: FutureWarning: Passing literal html to 'read_html' is deprecated and will be removed in a future version. To read from a literal string, wrap it in a 'StringIO' object.\n",
      "  df_table = pd.read_html(str(table), header=0)[0]\n"
     ]
    },
    {
     "name": "stdout",
     "output_type": "stream",
     "text": [
      "Saved HTML to data\\1950313\\transcript_1950313.html\n",
      "Saved DataFrame to data\\1950313\\transcript_1950313.csv\n",
      "Saved HTML to data\\1950454\\transcript_1950454.html\n",
      "Saved DataFrame to data\\1950454\\transcript_1950454.csv\n"
     ]
    },
    {
     "name": "stderr",
     "output_type": "stream",
     "text": [
      "C:\\Users\\javie\\AppData\\Local\\Temp\\ipykernel_11860\\421169734.py:32: FutureWarning: Passing literal html to 'read_html' is deprecated and will be removed in a future version. To read from a literal string, wrap it in a 'StringIO' object.\n",
      "  df_table = pd.read_html(str(table), header=0)[0]\n",
      "C:\\Users\\javie\\AppData\\Local\\Temp\\ipykernel_11860\\421169734.py:32: FutureWarning: Passing literal html to 'read_html' is deprecated and will be removed in a future version. To read from a literal string, wrap it in a 'StringIO' object.\n",
      "  df_table = pd.read_html(str(table), header=0)[0]\n"
     ]
    },
    {
     "name": "stdout",
     "output_type": "stream",
     "text": [
      "Saved HTML to data\\1954804\\transcript_1954804.html\n",
      "Saved DataFrame to data\\1954804\\transcript_1954804.csv\n"
     ]
    },
    {
     "name": "stderr",
     "output_type": "stream",
     "text": [
      "C:\\Users\\javie\\AppData\\Local\\Temp\\ipykernel_11860\\421169734.py:32: FutureWarning: Passing literal html to 'read_html' is deprecated and will be removed in a future version. To read from a literal string, wrap it in a 'StringIO' object.\n",
      "  df_table = pd.read_html(str(table), header=0)[0]\n"
     ]
    },
    {
     "name": "stdout",
     "output_type": "stream",
     "text": [
      "Saved HTML to data\\1976261\\transcript_1976261.html\n",
      "Saved DataFrame to data\\1976261\\transcript_1976261.csv\n",
      "Saved HTML to data\\1984189\\transcript_1984189.html\n",
      "Saved DataFrame to data\\1984189\\transcript_1984189.csv\n"
     ]
    },
    {
     "name": "stderr",
     "output_type": "stream",
     "text": [
      "C:\\Users\\javie\\AppData\\Local\\Temp\\ipykernel_11860\\421169734.py:32: FutureWarning: Passing literal html to 'read_html' is deprecated and will be removed in a future version. To read from a literal string, wrap it in a 'StringIO' object.\n",
      "  df_table = pd.read_html(str(table), header=0)[0]\n",
      "C:\\Users\\javie\\AppData\\Local\\Temp\\ipykernel_11860\\421169734.py:32: FutureWarning: Passing literal html to 'read_html' is deprecated and will be removed in a future version. To read from a literal string, wrap it in a 'StringIO' object.\n",
      "  df_table = pd.read_html(str(table), header=0)[0]\n"
     ]
    },
    {
     "name": "stdout",
     "output_type": "stream",
     "text": [
      "Saved HTML to data\\1984202\\transcript_1984202.html\n",
      "Saved DataFrame to data\\1984202\\transcript_1984202.csv\n"
     ]
    },
    {
     "name": "stderr",
     "output_type": "stream",
     "text": [
      "C:\\Users\\javie\\AppData\\Local\\Temp\\ipykernel_11860\\421169734.py:32: FutureWarning: Passing literal html to 'read_html' is deprecated and will be removed in a future version. To read from a literal string, wrap it in a 'StringIO' object.\n",
      "  df_table = pd.read_html(str(table), header=0)[0]\n",
      "C:\\Users\\javie\\AppData\\Local\\Temp\\ipykernel_11860\\421169734.py:32: FutureWarning: Passing literal html to 'read_html' is deprecated and will be removed in a future version. To read from a literal string, wrap it in a 'StringIO' object.\n",
      "  df_table = pd.read_html(str(table), header=0)[0]\n"
     ]
    },
    {
     "name": "stdout",
     "output_type": "stream",
     "text": [
      "Saved HTML to data\\1984210\\transcript_1984210.html\n",
      "Saved DataFrame to data\\1984210\\transcript_1984210.csv\n",
      "Saved HTML to data\\1984213\\transcript_1984213.html\n",
      "Saved DataFrame to data\\1984213\\transcript_1984213.csv\n"
     ]
    },
    {
     "name": "stderr",
     "output_type": "stream",
     "text": [
      "C:\\Users\\javie\\AppData\\Local\\Temp\\ipykernel_11860\\421169734.py:32: FutureWarning: Passing literal html to 'read_html' is deprecated and will be removed in a future version. To read from a literal string, wrap it in a 'StringIO' object.\n",
      "  df_table = pd.read_html(str(table), header=0)[0]\n"
     ]
    },
    {
     "name": "stdout",
     "output_type": "stream",
     "text": [
      "Saved HTML to data\\2021499\\transcript_2021499.html\n",
      "Saved DataFrame to data\\2021499\\transcript_2021499.csv\n",
      "Saved HTML to data\\2025349\\transcript_2025349.html\n",
      "Saved DataFrame to data\\2025349\\transcript_2025349.csv\n"
     ]
    },
    {
     "name": "stderr",
     "output_type": "stream",
     "text": [
      "C:\\Users\\javie\\AppData\\Local\\Temp\\ipykernel_11860\\421169734.py:32: FutureWarning: Passing literal html to 'read_html' is deprecated and will be removed in a future version. To read from a literal string, wrap it in a 'StringIO' object.\n",
      "  df_table = pd.read_html(str(table), header=0)[0]\n",
      "C:\\Users\\javie\\AppData\\Local\\Temp\\ipykernel_11860\\421169734.py:32: FutureWarning: Passing literal html to 'read_html' is deprecated and will be removed in a future version. To read from a literal string, wrap it in a 'StringIO' object.\n",
      "  df_table = pd.read_html(str(table), header=0)[0]\n"
     ]
    },
    {
     "name": "stdout",
     "output_type": "stream",
     "text": [
      "Saved HTML to data\\2025500\\transcript_2025500.html\n",
      "Saved DataFrame to data\\2025500\\transcript_2025500.csv\n",
      "Saved HTML to data\\2241867\\transcript_2241867.html\n",
      "Saved DataFrame to data\\2241867\\transcript_2241867.csv\n"
     ]
    },
    {
     "name": "stderr",
     "output_type": "stream",
     "text": [
      "C:\\Users\\javie\\AppData\\Local\\Temp\\ipykernel_11860\\421169734.py:32: FutureWarning: Passing literal html to 'read_html' is deprecated and will be removed in a future version. To read from a literal string, wrap it in a 'StringIO' object.\n",
      "  df_table = pd.read_html(str(table), header=0)[0]\n",
      "C:\\Users\\javie\\AppData\\Local\\Temp\\ipykernel_11860\\421169734.py:32: FutureWarning: Passing literal html to 'read_html' is deprecated and will be removed in a future version. To read from a literal string, wrap it in a 'StringIO' object.\n",
      "  df_table = pd.read_html(str(table), header=0)[0]\n"
     ]
    },
    {
     "name": "stdout",
     "output_type": "stream",
     "text": [
      "Saved HTML to data\\2242864\\transcript_2242864.html\n",
      "Saved DataFrame to data\\2242864\\transcript_2242864.csv\n",
      "Saved HTML to data\\2243770\\transcript_2243770.html\n",
      "Saved DataFrame to data\\2243770\\transcript_2243770.csv\n"
     ]
    },
    {
     "name": "stderr",
     "output_type": "stream",
     "text": [
      "C:\\Users\\javie\\AppData\\Local\\Temp\\ipykernel_11860\\421169734.py:32: FutureWarning: Passing literal html to 'read_html' is deprecated and will be removed in a future version. To read from a literal string, wrap it in a 'StringIO' object.\n",
      "  df_table = pd.read_html(str(table), header=0)[0]\n",
      "C:\\Users\\javie\\AppData\\Local\\Temp\\ipykernel_11860\\421169734.py:32: FutureWarning: Passing literal html to 'read_html' is deprecated and will be removed in a future version. To read from a literal string, wrap it in a 'StringIO' object.\n",
      "  df_table = pd.read_html(str(table), header=0)[0]\n"
     ]
    },
    {
     "name": "stdout",
     "output_type": "stream",
     "text": [
      "Saved HTML to data\\2315769\\transcript_2315769.html\n",
      "Saved DataFrame to data\\2315769\\transcript_2315769.csv\n",
      "Saved HTML to data\\2329018\\transcript_2329018.html\n",
      "Saved DataFrame to data\\2329018\\transcript_2329018.csv\n"
     ]
    },
    {
     "name": "stderr",
     "output_type": "stream",
     "text": [
      "C:\\Users\\javie\\AppData\\Local\\Temp\\ipykernel_11860\\421169734.py:32: FutureWarning: Passing literal html to 'read_html' is deprecated and will be removed in a future version. To read from a literal string, wrap it in a 'StringIO' object.\n",
      "  df_table = pd.read_html(str(table), header=0)[0]\n",
      "C:\\Users\\javie\\AppData\\Local\\Temp\\ipykernel_11860\\421169734.py:32: FutureWarning: Passing literal html to 'read_html' is deprecated and will be removed in a future version. To read from a literal string, wrap it in a 'StringIO' object.\n",
      "  df_table = pd.read_html(str(table), header=0)[0]\n"
     ]
    },
    {
     "name": "stdout",
     "output_type": "stream",
     "text": [
      "Saved HTML to data\\2329054\\transcript_2329054.html\n",
      "Saved DataFrame to data\\2329054\\transcript_2329054.csv\n",
      "Saved HTML to data\\2335154\\transcript_2335154.html\n",
      "Saved DataFrame to data\\2335154\\transcript_2335154.csv\n",
      "Saved HTML to data\\2335251\\transcript_2335251.html\n",
      "Saved DataFrame to data\\2335251\\transcript_2335251.csv\n"
     ]
    },
    {
     "name": "stderr",
     "output_type": "stream",
     "text": [
      "C:\\Users\\javie\\AppData\\Local\\Temp\\ipykernel_11860\\421169734.py:32: FutureWarning: Passing literal html to 'read_html' is deprecated and will be removed in a future version. To read from a literal string, wrap it in a 'StringIO' object.\n",
      "  df_table = pd.read_html(str(table), header=0)[0]\n",
      "C:\\Users\\javie\\AppData\\Local\\Temp\\ipykernel_11860\\421169734.py:32: FutureWarning: Passing literal html to 'read_html' is deprecated and will be removed in a future version. To read from a literal string, wrap it in a 'StringIO' object.\n",
      "  df_table = pd.read_html(str(table), header=0)[0]\n",
      "C:\\Users\\javie\\AppData\\Local\\Temp\\ipykernel_11860\\421169734.py:32: FutureWarning: Passing literal html to 'read_html' is deprecated and will be removed in a future version. To read from a literal string, wrap it in a 'StringIO' object.\n",
      "  df_table = pd.read_html(str(table), header=0)[0]\n"
     ]
    },
    {
     "name": "stdout",
     "output_type": "stream",
     "text": [
      "Saved HTML to data\\2935384-…\\transcript_2935384-….html\n",
      "Saved DataFrame to data\\2935384-…\\transcript_2935384-….csv\n",
      "Saved HTML to data\\4181236\\transcript_4181236.html\n",
      "Saved DataFrame to data\\4181236\\transcript_4181236.csv\n"
     ]
    },
    {
     "name": "stderr",
     "output_type": "stream",
     "text": [
      "C:\\Users\\javie\\AppData\\Local\\Temp\\ipykernel_11860\\421169734.py:32: FutureWarning: Passing literal html to 'read_html' is deprecated and will be removed in a future version. To read from a literal string, wrap it in a 'StringIO' object.\n",
      "  df_table = pd.read_html(str(table), header=0)[0]\n",
      "C:\\Users\\javie\\AppData\\Local\\Temp\\ipykernel_11860\\421169734.py:32: FutureWarning: Passing literal html to 'read_html' is deprecated and will be removed in a future version. To read from a literal string, wrap it in a 'StringIO' object.\n",
      "  df_table = pd.read_html(str(table), header=0)[0]\n"
     ]
    },
    {
     "name": "stdout",
     "output_type": "stream",
     "text": [
      "Saved HTML to data\\4181239\\transcript_4181239.html\n",
      "Saved DataFrame to data\\4181239\\transcript_4181239.csv\n",
      "Saved HTML to data\\4181243\\transcript_4181243.html\n",
      "Saved DataFrame to data\\4181243\\transcript_4181243.csv\n"
     ]
    },
    {
     "name": "stderr",
     "output_type": "stream",
     "text": [
      "C:\\Users\\javie\\AppData\\Local\\Temp\\ipykernel_11860\\421169734.py:32: FutureWarning: Passing literal html to 'read_html' is deprecated and will be removed in a future version. To read from a literal string, wrap it in a 'StringIO' object.\n",
      "  df_table = pd.read_html(str(table), header=0)[0]\n",
      "C:\\Users\\javie\\AppData\\Local\\Temp\\ipykernel_11860\\421169734.py:32: FutureWarning: Passing literal html to 'read_html' is deprecated and will be removed in a future version. To read from a literal string, wrap it in a 'StringIO' object.\n",
      "  df_table = pd.read_html(str(table), header=0)[0]\n"
     ]
    },
    {
     "name": "stdout",
     "output_type": "stream",
     "text": [
      "Saved HTML to data\\4181246\\transcript_4181246.html\n",
      "Saved DataFrame to data\\4181246\\transcript_4181246.csv\n",
      "Saved HTML to data\\4303462\\transcript_4303462.html\n",
      "Saved DataFrame to data\\4303462\\transcript_4303462.csv\n"
     ]
    },
    {
     "name": "stderr",
     "output_type": "stream",
     "text": [
      "C:\\Users\\javie\\AppData\\Local\\Temp\\ipykernel_11860\\421169734.py:32: FutureWarning: Passing literal html to 'read_html' is deprecated and will be removed in a future version. To read from a literal string, wrap it in a 'StringIO' object.\n",
      "  df_table = pd.read_html(str(table), header=0)[0]\n"
     ]
    }
   ],
   "source": [
    "data = []\n",
    "\n",
    "for index, row in df.iterrows():\n",
    "    # Get the URL of the video\n",
    "    url = row['transkript']\n",
    "    # Send a GET request to the URL\n",
    "    response = requests.get(url)\n",
    "    # Create a BeautifulSoup object to parse the HTML content\n",
    "    soup = BeautifulSoup(response.content, 'html.parser')\n",
    "    \n",
    "    # Find the video tag\n",
    "    video_tag = soup.find('video')\n",
    "    \n",
    "    # Extract the source URL from the video tag\n",
    "    if video_tag:\n",
    "        source_tag = video_tag.find('source')\n",
    "        if source_tag:\n",
    "            video_src = source_tag['src'].replace('../', 'https://www.sign-lang.uni-hamburg.de/meinedgs_r4/')\n",
    "        else:\n",
    "            video_src = None\n",
    "    else:\n",
    "        video_src = None\n",
    "    \n",
    "    # Extract the video ID from the poster attribute\n",
    "    video_id = video_tag['poster'].split('/')[1].split('@')[0] if video_tag and 'poster' in video_tag.attrs else None\n",
    "    \n",
    "    # Find the table\n",
    "    table = soup.find('table')\n",
    "    \n",
    "    # If table exists, convert it to a DataFrame\n",
    "    if table:\n",
    "        df_table = pd.read_html(str(table), header=0)[0]\n",
    "        \n",
    "        # Add video source and ID to each row\n",
    "        df_table['video_src'] = video_src\n",
    "        df_table['video_id'] = row['id']\n",
    "        \n",
    "        # Append the table data to the list\n",
    "        data.append(df_table)\n",
    "        dir_name = str(row['id'])\n",
    "        output_dir = os.path.join('data', dir_name)\n",
    "        os.makedirs(output_dir, exist_ok=True)\n",
    "\n",
    "        # Export the HTML soup\n",
    "        html_filename = f\"transcript_{row['id']}.html\"\n",
    "        html_filepath = os.path.join(output_dir, html_filename)\n",
    "        with open(html_filepath, 'w', encoding='utf-8') as f:\n",
    "            f.write(soup.prettify())\n",
    "        print(f\"Saved HTML to {html_filepath}\")\n",
    "\n",
    "        # Export the df_table\n",
    "        df_filename = f\"transcript_{row['id']}.csv\"\n",
    "        df_filepath = os.path.join(output_dir, df_filename)\n",
    "        df_table.to_csv(df_filepath, index=False)\n",
    "        print(f\"Saved DataFrame to {df_filepath}\")\n",
    "    else:\n",
    "        print(f\"No table found for URL: {url}\")\n",
    "\n",
    "# Concatenate all the tables into a single DataFrame\n",
    "df_final = pd.concat(data, ignore_index=True)"
   ]
  },
  {
   "cell_type": "code",
   "execution_count": 91,
   "metadata": {},
   "outputs": [
    {
     "data": {
      "text/html": [
       "<div>\n",
       "<style scoped>\n",
       "    .dataframe tbody tr th:only-of-type {\n",
       "        vertical-align: middle;\n",
       "    }\n",
       "\n",
       "    .dataframe tbody tr th {\n",
       "        vertical-align: top;\n",
       "    }\n",
       "\n",
       "    .dataframe thead th {\n",
       "        text-align: right;\n",
       "    }\n",
       "</style>\n",
       "<table border=\"1\" class=\"dataframe\">\n",
       "  <thead>\n",
       "    <tr style=\"text-align: right;\">\n",
       "      <th></th>\n",
       "      <th>Zeit</th>\n",
       "      <th>Übersetzung</th>\n",
       "      <th>Lexem/Gebärde</th>\n",
       "      <th>Lexem/Gebärde.1</th>\n",
       "      <th>Mund</th>\n",
       "      <th>Übersetzung.1</th>\n",
       "      <th>Lexeme/Gebärde</th>\n",
       "      <th>Lexeme/Gebärde.1</th>\n",
       "      <th>Mund.1</th>\n",
       "      <th>Moderation</th>\n",
       "      <th>...</th>\n",
       "      <th>video_id</th>\n",
       "      <th>iLex</th>\n",
       "      <th>ELAN</th>\n",
       "      <th>Video A</th>\n",
       "      <th>Video B</th>\n",
       "      <th>Video Totale</th>\n",
       "      <th>SRT</th>\n",
       "      <th>Video AB</th>\n",
       "      <th>CMDI</th>\n",
       "      <th>Pose</th>\n",
       "    </tr>\n",
       "  </thead>\n",
       "  <tbody>\n",
       "    <tr>\n",
       "      <th>0</th>\n",
       "      <td>Zeit</td>\n",
       "      <td>Übersetzung</td>\n",
       "      <td>rechte Hand</td>\n",
       "      <td>linke Hand</td>\n",
       "      <td>Mund</td>\n",
       "      <td>Übersetzung</td>\n",
       "      <td>rechte Hand</td>\n",
       "      <td>linke Hand</td>\n",
       "      <td>Mund</td>\n",
       "      <td>Moderation</td>\n",
       "      <td>...</td>\n",
       "      <td>1176340</td>\n",
       "      <td>NaN</td>\n",
       "      <td>NaN</td>\n",
       "      <td>NaN</td>\n",
       "      <td>NaN</td>\n",
       "      <td>NaN</td>\n",
       "      <td>NaN</td>\n",
       "      <td>NaN</td>\n",
       "      <td>NaN</td>\n",
       "      <td>NaN</td>\n",
       "    </tr>\n",
       "    <tr>\n",
       "      <th>1</th>\n",
       "      <td>00:00:00:00 00:00:00:37</td>\n",
       "      <td>Sieh her, jetzt musst du meine Geschichte aus ...</td>\n",
       "      <td>NaN</td>\n",
       "      <td>NaN</td>\n",
       "      <td>NaN</td>\n",
       "      <td>NaN</td>\n",
       "      <td>NaN</td>\n",
       "      <td>NaN</td>\n",
       "      <td>NaN</td>\n",
       "      <td>NaN</td>\n",
       "      <td>...</td>\n",
       "      <td>1176340</td>\n",
       "      <td>NaN</td>\n",
       "      <td>NaN</td>\n",
       "      <td>NaN</td>\n",
       "      <td>NaN</td>\n",
       "      <td>NaN</td>\n",
       "      <td>NaN</td>\n",
       "      <td>NaN</td>\n",
       "      <td>NaN</td>\n",
       "      <td>NaN</td>\n",
       "    </tr>\n",
       "    <tr>\n",
       "      <th>2</th>\n",
       "      <td>00:00:00:37 00:00:00:44</td>\n",
       "      <td>Sieh her, jetzt musst du meine Geschichte aus ...</td>\n",
       "      <td>SEHEN-AUF1^*</td>\n",
       "      <td>NaN</td>\n",
       "      <td>NaN</td>\n",
       "      <td>NaN</td>\n",
       "      <td>NaN</td>\n",
       "      <td>NaN</td>\n",
       "      <td>NaN</td>\n",
       "      <td>NaN</td>\n",
       "      <td>...</td>\n",
       "      <td>1176340</td>\n",
       "      <td>NaN</td>\n",
       "      <td>NaN</td>\n",
       "      <td>NaN</td>\n",
       "      <td>NaN</td>\n",
       "      <td>NaN</td>\n",
       "      <td>NaN</td>\n",
       "      <td>NaN</td>\n",
       "      <td>NaN</td>\n",
       "      <td>NaN</td>\n",
       "    </tr>\n",
       "    <tr>\n",
       "      <th>3</th>\n",
       "      <td>00:00:00:44 00:00:01:05</td>\n",
       "      <td>Sieh her, jetzt musst du meine Geschichte aus ...</td>\n",
       "      <td>NaN</td>\n",
       "      <td>NaN</td>\n",
       "      <td>NaN</td>\n",
       "      <td>NaN</td>\n",
       "      <td>NaN</td>\n",
       "      <td>NaN</td>\n",
       "      <td>NaN</td>\n",
       "      <td>NaN</td>\n",
       "      <td>...</td>\n",
       "      <td>1176340</td>\n",
       "      <td>NaN</td>\n",
       "      <td>NaN</td>\n",
       "      <td>NaN</td>\n",
       "      <td>NaN</td>\n",
       "      <td>NaN</td>\n",
       "      <td>NaN</td>\n",
       "      <td>NaN</td>\n",
       "      <td>NaN</td>\n",
       "      <td>NaN</td>\n",
       "    </tr>\n",
       "    <tr>\n",
       "      <th>4</th>\n",
       "      <td>00:00:01:05 00:00:01:12</td>\n",
       "      <td>Sieh her, jetzt musst du meine Geschichte aus ...</td>\n",
       "      <td>MUSS1*</td>\n",
       "      <td>NaN</td>\n",
       "      <td>muss</td>\n",
       "      <td>NaN</td>\n",
       "      <td>NaN</td>\n",
       "      <td>NaN</td>\n",
       "      <td>NaN</td>\n",
       "      <td>NaN</td>\n",
       "      <td>...</td>\n",
       "      <td>1176340</td>\n",
       "      <td>NaN</td>\n",
       "      <td>NaN</td>\n",
       "      <td>NaN</td>\n",
       "      <td>NaN</td>\n",
       "      <td>NaN</td>\n",
       "      <td>NaN</td>\n",
       "      <td>NaN</td>\n",
       "      <td>NaN</td>\n",
       "      <td>NaN</td>\n",
       "    </tr>\n",
       "  </tbody>\n",
       "</table>\n",
       "<p>5 rows × 21 columns</p>\n",
       "</div>"
      ],
      "text/plain": [
       "                      Zeit                                        Übersetzung  \\\n",
       "0                     Zeit                                        Übersetzung   \n",
       "1  00:00:00:00 00:00:00:37  Sieh her, jetzt musst du meine Geschichte aus ...   \n",
       "2  00:00:00:37 00:00:00:44  Sieh her, jetzt musst du meine Geschichte aus ...   \n",
       "3  00:00:00:44 00:00:01:05  Sieh her, jetzt musst du meine Geschichte aus ...   \n",
       "4  00:00:01:05 00:00:01:12  Sieh her, jetzt musst du meine Geschichte aus ...   \n",
       "\n",
       "  Lexem/Gebärde Lexem/Gebärde.1  Mund Übersetzung.1 Lexeme/Gebärde  \\\n",
       "0   rechte Hand      linke Hand  Mund   Übersetzung    rechte Hand   \n",
       "1           NaN             NaN   NaN           NaN            NaN   \n",
       "2  SEHEN-AUF1^*             NaN   NaN           NaN            NaN   \n",
       "3           NaN             NaN   NaN           NaN            NaN   \n",
       "4        MUSS1*             NaN  muss           NaN            NaN   \n",
       "\n",
       "  Lexeme/Gebärde.1 Mund.1  Moderation  ... video_id iLex  ELAN  Video A  \\\n",
       "0       linke Hand   Mund  Moderation  ...  1176340  NaN   NaN      NaN   \n",
       "1              NaN    NaN         NaN  ...  1176340  NaN   NaN      NaN   \n",
       "2              NaN    NaN         NaN  ...  1176340  NaN   NaN      NaN   \n",
       "3              NaN    NaN         NaN  ...  1176340  NaN   NaN      NaN   \n",
       "4              NaN    NaN         NaN  ...  1176340  NaN   NaN      NaN   \n",
       "\n",
       "   Video B  Video Totale  SRT  Video AB  CMDI  Pose  \n",
       "0      NaN           NaN  NaN       NaN   NaN   NaN  \n",
       "1      NaN           NaN  NaN       NaN   NaN   NaN  \n",
       "2      NaN           NaN  NaN       NaN   NaN   NaN  \n",
       "3      NaN           NaN  NaN       NaN   NaN   NaN  \n",
       "4      NaN           NaN  NaN       NaN   NaN   NaN  \n",
       "\n",
       "[5 rows x 21 columns]"
      ]
     },
     "execution_count": 91,
     "metadata": {},
     "output_type": "execute_result"
    }
   ],
   "source": [
    "df_final.head()"
   ]
  },
  {
   "cell_type": "markdown",
   "metadata": {},
   "source": [
    "- **Review columns**"
   ]
  },
  {
   "cell_type": "code",
   "execution_count": 92,
   "metadata": {},
   "outputs": [
    {
     "name": "stdout",
     "output_type": "stream",
     "text": [
      "<class 'pandas.core.frame.DataFrame'>\n",
      "RangeIndex: 757209 entries, 0 to 757208\n",
      "Data columns (total 21 columns):\n",
      " #   Column            Non-Null Count   Dtype  \n",
      "---  ------            --------------   -----  \n",
      " 0   Zeit              757120 non-null  object \n",
      " 1   Übersetzung       432879 non-null  object \n",
      " 2   Lexem/Gebärde     195425 non-null  object \n",
      " 3   Lexem/Gebärde.1   102205 non-null  object \n",
      " 4   Mund              166291 non-null  object \n",
      " 5   Übersetzung.1     416497 non-null  object \n",
      " 6   Lexeme/Gebärde    181804 non-null  object \n",
      " 7   Lexeme/Gebärde.1  103378 non-null  object \n",
      " 8   Mund.1            160413 non-null  object \n",
      " 9   Moderation        9340 non-null    object \n",
      " 10  video_src         757209 non-null  object \n",
      " 11  video_id          757209 non-null  object \n",
      " 12  iLex              0 non-null       float64\n",
      " 13  ELAN              0 non-null       float64\n",
      " 14  Video A           0 non-null       float64\n",
      " 15  Video B           0 non-null       float64\n",
      " 16  Video Totale      0 non-null       float64\n",
      " 17  SRT               0 non-null       float64\n",
      " 18  Video AB          0 non-null       float64\n",
      " 19  CMDI              0 non-null       float64\n",
      " 20  Pose              0 non-null       float64\n",
      "dtypes: float64(9), object(12)\n",
      "memory usage: 121.3+ MB\n"
     ]
    }
   ],
   "source": [
    "df_final.info()"
   ]
  },
  {
   "cell_type": "markdown",
   "metadata": {},
   "source": [
    "- **Review dataset size**"
   ]
  },
  {
   "cell_type": "code",
   "execution_count": 93,
   "metadata": {},
   "outputs": [
    {
     "data": {
      "text/plain": [
       "(757209, 21)"
      ]
     },
     "execution_count": 93,
     "metadata": {},
     "output_type": "execute_result"
    }
   ],
   "source": [
    "df_final.shape"
   ]
  },
  {
   "cell_type": "markdown",
   "metadata": {},
   "source": [
    "- **Transform dataset** (pending)"
   ]
  }
 ],
 "metadata": {
  "kernelspec": {
   "display_name": "venv",
   "language": "python",
   "name": "python3"
  },
  "language_info": {
   "codemirror_mode": {
    "name": "ipython",
    "version": 3
   },
   "file_extension": ".py",
   "mimetype": "text/x-python",
   "name": "python",
   "nbconvert_exporter": "python",
   "pygments_lexer": "ipython3",
   "version": "3.11.0b3"
  }
 },
 "nbformat": 4,
 "nbformat_minor": 2
}
